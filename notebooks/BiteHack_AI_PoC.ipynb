{
  "nbformat": 4,
  "nbformat_minor": 0,
  "metadata": {
    "colab": {
      "name": "Wędzone Węże.ipynb",
      "provenance": [],
      "collapsed_sections": [
        "bqk79s4DXgwx",
        "c4lsFlyEl9fN",
        "SUCwy4o0QQko",
        "PbdLVRrbQca-",
        "is7mircOt09p"
      ]
    },
    "kernelspec": {
      "name": "python3",
      "display_name": "Python 3"
    },
    "language_info": {
      "name": "python"
    }
  },
  "cells": [
    {
      "cell_type": "markdown",
      "metadata": {
        "id": "8VKYeoGFPTA8"
      },
      "source": [
        "# Mobbing Spy - a tool to monitor mobbing in the enterprises\n",
        "## Brought to you by Snakey Snakes, January 2022\n",
        "\n",
        "In this notebook we will present to you the *Mobbing Spy*. A tool to keep the employees safe and sound at the workplace. Keep in mind that this is just an Proof of Concept (PoC) that may be extended for future purposes. \n",
        "\n",
        "We will use vector methods and neural networks to solve the problem.*kursywa*"
      ]
    },
    {
      "cell_type": "markdown",
      "source": [
        "# Introductory steps"
      ],
      "metadata": {
        "id": "bqk79s4DXgwx"
      }
    },
    {
      "cell_type": "markdown",
      "metadata": {
        "id": "UZsIbrPMPtFx"
      },
      "source": [
        "## Loading the data"
      ]
    },
    {
      "cell_type": "markdown",
      "metadata": {
        "id": "JXMPvxh_Qvh4"
      },
      "source": [
        "First, we uploaded the data to Google Drive and mounted the colab notebook to Drive. We will extract data from the csvs from Drive and see the contents of directory.\n",
        "\n",
        "The directory that we have created on my Google Drive is \"snakey snakes\""
      ]
    },
    {
      "cell_type": "code",
      "metadata": {
        "id": "aulA5K4qNzPe"
      },
      "source": [
        "# changing active directory\n",
        "import os\n",
        "os.chdir(\"/content/drive/MyDrive/snakey snakes\")"
      ],
      "execution_count": 153,
      "outputs": []
    },
    {
      "cell_type": "code",
      "metadata": {
        "colab": {
          "base_uri": "https://localhost:8080/"
        },
        "id": "H9DHmJwgQ95d",
        "outputId": "920e66da-ec88-4abb-c70f-85a324fad182"
      },
      "source": [
        "# printing contents of the extracted directory\n",
        "print(os.listdir(os.getcwd() + \"/data\"))"
      ],
      "execution_count": 154,
      "outputs": [
        {
          "output_type": "stream",
          "name": "stdout",
          "text": [
            "['suspicious communication.csv', 'suspicious tweets.csv', 'train.csv', 'labeled_data.csv', 'attack_parsed_dataset.csv', 'toxicity_parsed_dataset.csv', 'aggression_parsed_dataset.csv']\n"
          ]
        }
      ]
    },
    {
      "cell_type": "code",
      "metadata": {
        "colab": {
          "base_uri": "https://localhost:8080/"
        },
        "id": "xUOU1sPeOZ1b",
        "outputId": "06324293-5b13-42f4-eb8d-138165ed0891"
      },
      "source": [
        "# printing first row (header) from training sets to understend the structure\n",
        "with open(\"data/toxicity_parsed_dataset.csv\") as f:\n",
        "    print(f.readline())"
      ],
      "execution_count": 155,
      "outputs": [
        {
          "output_type": "stream",
          "name": "stdout",
          "text": [
            "index,Text,ed_label_0,ed_label_1,oh_label\n",
            "\n"
          ]
        }
      ]
    },
    {
      "cell_type": "markdown",
      "metadata": {
        "id": "wQl0UccEPbQA"
      },
      "source": [
        "The data contains 5 columns. The ones that interest us is the second one (Text) and the last one (oh_label). Text is the document that we are analysing. Oh_label is the label that we are predicting (1 - suspicious, 0 - nonsuspicious)\n",
        "\n",
        "We are kind of worried about the dataset. It is kind of low-quality (here we would like to remind the basic ML law: SISO, shit in shit out) and the results may be not that great. Nevertheless, this is the best that we could find for this PoC. But no worries - we will manage it!"
      ]
    },
    {
      "cell_type": "markdown",
      "metadata": {
        "id": "rYl_2H5XQF8o"
      },
      "source": [
        "## Building pandas data frames"
      ]
    },
    {
      "cell_type": "markdown",
      "metadata": {
        "id": "0htcDAmESE0W"
      },
      "source": [
        "For data processing we have decided to use pandas to handle data. Pandas is not a speed demon but this dataset is not that huge.\n",
        "\n",
        "In the next few cells, we will load  files to pandas data frames and transform them to result in a training and test data frame for further analysis."
      ]
    },
    {
      "cell_type": "code",
      "metadata": {
        "id": "8Ffp5oNHPIvv"
      },
      "source": [
        "# importing pandas\n",
        "import pandas as pd"
      ],
      "execution_count": 156,
      "outputs": []
    },
    {
      "cell_type": "code",
      "source": [
        "train_ = pd.read_csv(\"data/toxicity_parsed_dataset.csv\", encoding='latin1')\n",
        "train_ = pd.concat([train_, pd.read_csv(\"data/aggression_parsed_dataset.csv\", encoding='latin1')], ignore_index = True)\n",
        "train_ = pd.concat([train_, pd.read_csv(\"data/attack_parsed_dataset.csv\", encoding='latin1')], ignore_index = True)\n",
        "train_"
      ],
      "metadata": {
        "colab": {
          "base_uri": "https://localhost:8080/",
          "height": 423
        },
        "id": "vqDVkDM_6VXK",
        "outputId": "00174671-f370-4c2f-daf3-6f96457c7f1a"
      },
      "execution_count": 157,
      "outputs": [
        {
          "output_type": "execute_result",
          "data": {
            "text/html": [
              "\n",
              "  <div id=\"df-70808cdd-7b24-4d33-afc6-7c8e452a8c15\">\n",
              "    <div class=\"colab-df-container\">\n",
              "      <div>\n",
              "<style scoped>\n",
              "    .dataframe tbody tr th:only-of-type {\n",
              "        vertical-align: middle;\n",
              "    }\n",
              "\n",
              "    .dataframe tbody tr th {\n",
              "        vertical-align: top;\n",
              "    }\n",
              "\n",
              "    .dataframe thead th {\n",
              "        text-align: right;\n",
              "    }\n",
              "</style>\n",
              "<table border=\"1\" class=\"dataframe\">\n",
              "  <thead>\n",
              "    <tr style=\"text-align: right;\">\n",
              "      <th></th>\n",
              "      <th>index</th>\n",
              "      <th>Text</th>\n",
              "      <th>ed_label_0</th>\n",
              "      <th>ed_label_1</th>\n",
              "      <th>oh_label</th>\n",
              "    </tr>\n",
              "  </thead>\n",
              "  <tbody>\n",
              "    <tr>\n",
              "      <th>0</th>\n",
              "      <td>0</td>\n",
              "      <td>This: :One can make an analogy in mathematical...</td>\n",
              "      <td>0.900000</td>\n",
              "      <td>0.100000</td>\n",
              "      <td>0</td>\n",
              "    </tr>\n",
              "    <tr>\n",
              "      <th>1</th>\n",
              "      <td>1</td>\n",
              "      <td>`  :Clarification for you  (and Zundark's righ...</td>\n",
              "      <td>1.000000</td>\n",
              "      <td>0.000000</td>\n",
              "      <td>0</td>\n",
              "    </tr>\n",
              "    <tr>\n",
              "      <th>2</th>\n",
              "      <td>2</td>\n",
              "      <td>Elected or Electoral? JHK</td>\n",
              "      <td>1.000000</td>\n",
              "      <td>0.000000</td>\n",
              "      <td>0</td>\n",
              "    </tr>\n",
              "    <tr>\n",
              "      <th>3</th>\n",
              "      <td>3</td>\n",
              "      <td>`This is such a fun entry.   Devotchka  I once...</td>\n",
              "      <td>1.000000</td>\n",
              "      <td>0.000000</td>\n",
              "      <td>0</td>\n",
              "    </tr>\n",
              "    <tr>\n",
              "      <th>4</th>\n",
              "      <td>4</td>\n",
              "      <td>Please relate the ozone hole to increases in c...</td>\n",
              "      <td>0.800000</td>\n",
              "      <td>0.200000</td>\n",
              "      <td>0</td>\n",
              "    </tr>\n",
              "    <tr>\n",
              "      <th>...</th>\n",
              "      <td>...</td>\n",
              "      <td>...</td>\n",
              "      <td>...</td>\n",
              "      <td>...</td>\n",
              "      <td>...</td>\n",
              "    </tr>\n",
              "    <tr>\n",
              "      <th>391409</th>\n",
              "      <td>115859</td>\n",
              "      <td>`   These sources don't exactly exude a sense ...</td>\n",
              "      <td>0.888889</td>\n",
              "      <td>0.111111</td>\n",
              "      <td>0</td>\n",
              "    </tr>\n",
              "    <tr>\n",
              "      <th>391410</th>\n",
              "      <td>115860</td>\n",
              "      <td>The Institute for Historical Review is a pee...</td>\n",
              "      <td>0.900000</td>\n",
              "      <td>0.100000</td>\n",
              "      <td>0</td>\n",
              "    </tr>\n",
              "    <tr>\n",
              "      <th>391411</th>\n",
              "      <td>115861</td>\n",
              "      <td>:The way you're trying to describe it in this...</td>\n",
              "      <td>1.000000</td>\n",
              "      <td>0.000000</td>\n",
              "      <td>0</td>\n",
              "    </tr>\n",
              "    <tr>\n",
              "      <th>391412</th>\n",
              "      <td>115862</td>\n",
              "      <td>== Warning ==  There is clearly a protection...</td>\n",
              "      <td>0.800000</td>\n",
              "      <td>0.200000</td>\n",
              "      <td>0</td>\n",
              "    </tr>\n",
              "    <tr>\n",
              "      <th>391413</th>\n",
              "      <td>115863</td>\n",
              "      <td>Alternate option=== Is there perhaps enough ne...</td>\n",
              "      <td>1.000000</td>\n",
              "      <td>0.000000</td>\n",
              "      <td>0</td>\n",
              "    </tr>\n",
              "  </tbody>\n",
              "</table>\n",
              "<p>391414 rows × 5 columns</p>\n",
              "</div>\n",
              "      <button class=\"colab-df-convert\" onclick=\"convertToInteractive('df-70808cdd-7b24-4d33-afc6-7c8e452a8c15')\"\n",
              "              title=\"Convert this dataframe to an interactive table.\"\n",
              "              style=\"display:none;\">\n",
              "        \n",
              "  <svg xmlns=\"http://www.w3.org/2000/svg\" height=\"24px\"viewBox=\"0 0 24 24\"\n",
              "       width=\"24px\">\n",
              "    <path d=\"M0 0h24v24H0V0z\" fill=\"none\"/>\n",
              "    <path d=\"M18.56 5.44l.94 2.06.94-2.06 2.06-.94-2.06-.94-.94-2.06-.94 2.06-2.06.94zm-11 1L8.5 8.5l.94-2.06 2.06-.94-2.06-.94L8.5 2.5l-.94 2.06-2.06.94zm10 10l.94 2.06.94-2.06 2.06-.94-2.06-.94-.94-2.06-.94 2.06-2.06.94z\"/><path d=\"M17.41 7.96l-1.37-1.37c-.4-.4-.92-.59-1.43-.59-.52 0-1.04.2-1.43.59L10.3 9.45l-7.72 7.72c-.78.78-.78 2.05 0 2.83L4 21.41c.39.39.9.59 1.41.59.51 0 1.02-.2 1.41-.59l7.78-7.78 2.81-2.81c.8-.78.8-2.07 0-2.86zM5.41 20L4 18.59l7.72-7.72 1.47 1.35L5.41 20z\"/>\n",
              "  </svg>\n",
              "      </button>\n",
              "      \n",
              "  <style>\n",
              "    .colab-df-container {\n",
              "      display:flex;\n",
              "      flex-wrap:wrap;\n",
              "      gap: 12px;\n",
              "    }\n",
              "\n",
              "    .colab-df-convert {\n",
              "      background-color: #E8F0FE;\n",
              "      border: none;\n",
              "      border-radius: 50%;\n",
              "      cursor: pointer;\n",
              "      display: none;\n",
              "      fill: #1967D2;\n",
              "      height: 32px;\n",
              "      padding: 0 0 0 0;\n",
              "      width: 32px;\n",
              "    }\n",
              "\n",
              "    .colab-df-convert:hover {\n",
              "      background-color: #E2EBFA;\n",
              "      box-shadow: 0px 1px 2px rgba(60, 64, 67, 0.3), 0px 1px 3px 1px rgba(60, 64, 67, 0.15);\n",
              "      fill: #174EA6;\n",
              "    }\n",
              "\n",
              "    [theme=dark] .colab-df-convert {\n",
              "      background-color: #3B4455;\n",
              "      fill: #D2E3FC;\n",
              "    }\n",
              "\n",
              "    [theme=dark] .colab-df-convert:hover {\n",
              "      background-color: #434B5C;\n",
              "      box-shadow: 0px 1px 3px 1px rgba(0, 0, 0, 0.15);\n",
              "      filter: drop-shadow(0px 1px 2px rgba(0, 0, 0, 0.3));\n",
              "      fill: #FFFFFF;\n",
              "    }\n",
              "  </style>\n",
              "\n",
              "      <script>\n",
              "        const buttonEl =\n",
              "          document.querySelector('#df-70808cdd-7b24-4d33-afc6-7c8e452a8c15 button.colab-df-convert');\n",
              "        buttonEl.style.display =\n",
              "          google.colab.kernel.accessAllowed ? 'block' : 'none';\n",
              "\n",
              "        async function convertToInteractive(key) {\n",
              "          const element = document.querySelector('#df-70808cdd-7b24-4d33-afc6-7c8e452a8c15');\n",
              "          const dataTable =\n",
              "            await google.colab.kernel.invokeFunction('convertToInteractive',\n",
              "                                                     [key], {});\n",
              "          if (!dataTable) return;\n",
              "\n",
              "          const docLinkHtml = 'Like what you see? Visit the ' +\n",
              "            '<a target=\"_blank\" href=https://colab.research.google.com/notebooks/data_table.ipynb>data table notebook</a>'\n",
              "            + ' to learn more about interactive tables.';\n",
              "          element.innerHTML = '';\n",
              "          dataTable['output_type'] = 'display_data';\n",
              "          await google.colab.output.renderOutput(dataTable, element);\n",
              "          const docLink = document.createElement('div');\n",
              "          docLink.innerHTML = docLinkHtml;\n",
              "          element.appendChild(docLink);\n",
              "        }\n",
              "      </script>\n",
              "    </div>\n",
              "  </div>\n",
              "  "
            ],
            "text/plain": [
              "         index  ... oh_label\n",
              "0            0  ...        0\n",
              "1            1  ...        0\n",
              "2            2  ...        0\n",
              "3            3  ...        0\n",
              "4            4  ...        0\n",
              "...        ...  ...      ...\n",
              "391409  115859  ...        0\n",
              "391410  115860  ...        0\n",
              "391411  115861  ...        0\n",
              "391412  115862  ...        0\n",
              "391413  115863  ...        0\n",
              "\n",
              "[391414 rows x 5 columns]"
            ]
          },
          "metadata": {},
          "execution_count": 157
        }
      ]
    },
    {
      "cell_type": "code",
      "source": [
        "print(\"How many suspicious examples: {}\".format(train_[\"oh_label\"].sum()))"
      ],
      "metadata": {
        "colab": {
          "base_uri": "https://localhost:8080/"
        },
        "id": "Dcimw4QG61HI",
        "outputId": "bbfd112c-80ad-4d83-c57c-776220c6c2dc"
      },
      "execution_count": 158,
      "outputs": [
        {
          "output_type": "stream",
          "name": "stdout",
          "text": [
            "How many suspicious examples: 43734\n"
          ]
        }
      ]
    },
    {
      "cell_type": "code",
      "source": [
        "# preliminary data cleaning\n",
        "train_['Text'] = train_['Text'].str.replace('http\\S+|www.\\S+|@\\S+', '', case=False) #remove mentions and urls\n",
        "train = train_.loc[:,[\"Text\", \"oh_label\"]]\n",
        "train.columns = [\"text\", \"suspicious\"]"
      ],
      "metadata": {
        "id": "Pk6z3eqO7YuH"
      },
      "execution_count": 159,
      "outputs": []
    },
    {
      "cell_type": "code",
      "metadata": {
        "colab": {
          "base_uri": "https://localhost:8080/",
          "height": 423
        },
        "id": "Zl6RnK2GTQ1n",
        "outputId": "609b14f0-9286-4e3d-9c05-3c6293b91d7d"
      },
      "source": [
        "# shuffling the dataset\n",
        "from sklearn.utils import shuffle\n",
        "train = shuffle(train)\n",
        "train.head()\n",
        "train"
      ],
      "execution_count": 160,
      "outputs": [
        {
          "output_type": "execute_result",
          "data": {
            "text/html": [
              "\n",
              "  <div id=\"df-e6173fb3-8323-44a2-8c93-5e5ecc9f6f01\">\n",
              "    <div class=\"colab-df-container\">\n",
              "      <div>\n",
              "<style scoped>\n",
              "    .dataframe tbody tr th:only-of-type {\n",
              "        vertical-align: middle;\n",
              "    }\n",
              "\n",
              "    .dataframe tbody tr th {\n",
              "        vertical-align: top;\n",
              "    }\n",
              "\n",
              "    .dataframe thead th {\n",
              "        text-align: right;\n",
              "    }\n",
              "</style>\n",
              "<table border=\"1\" class=\"dataframe\">\n",
              "  <thead>\n",
              "    <tr style=\"text-align: right;\">\n",
              "      <th></th>\n",
              "      <th>text</th>\n",
              "      <th>suspicious</th>\n",
              "    </tr>\n",
              "  </thead>\n",
              "  <tbody>\n",
              "    <tr>\n",
              "      <th>317688</th>\n",
              "      <td>`  :Please respond to my comment on Talk:Colle...</td>\n",
              "      <td>0</td>\n",
              "    </tr>\n",
              "    <tr>\n",
              "      <th>154612</th>\n",
              "      <td>` == A barnstar for you! you are just amazing ...</td>\n",
              "      <td>0</td>\n",
              "    </tr>\n",
              "    <tr>\n",
              "      <th>286925</th>\n",
              "      <td>`  == Border Guard ==  Hi there! Regarding you...</td>\n",
              "      <td>0</td>\n",
              "    </tr>\n",
              "    <tr>\n",
              "      <th>115926</th>\n",
              "      <td>== Really?? ==  you really classify yourself...</td>\n",
              "      <td>1</td>\n",
              "    </tr>\n",
              "    <tr>\n",
              "      <th>52880</th>\n",
              "      <td>== Urrrppp ==  You wanna have my love? Burp!...</td>\n",
              "      <td>0</td>\n",
              "    </tr>\n",
              "    <tr>\n",
              "      <th>...</th>\n",
              "      <td>...</td>\n",
              "      <td>...</td>\n",
              "    </tr>\n",
              "    <tr>\n",
              "      <th>303545</th>\n",
              "      <td>:Theres one on my userpage</td>\n",
              "      <td>0</td>\n",
              "    </tr>\n",
              "    <tr>\n",
              "      <th>225361</th>\n",
              "      <td>:::::Update. Just had chat with Niall who has...</td>\n",
              "      <td>0</td>\n",
              "    </tr>\n",
              "    <tr>\n",
              "      <th>30054</th>\n",
              "      <td>== lol === Blocked! yeppers! I basically mad...</td>\n",
              "      <td>0</td>\n",
              "    </tr>\n",
              "    <tr>\n",
              "      <th>335239</th>\n",
              "      <td>oh yea school ova and time to get ma dick lic...</td>\n",
              "      <td>1</td>\n",
              "    </tr>\n",
              "    <tr>\n",
              "      <th>74981</th>\n",
              "      <td>:: Well maybe they should. Surely a last upda...</td>\n",
              "      <td>0</td>\n",
              "    </tr>\n",
              "  </tbody>\n",
              "</table>\n",
              "<p>391414 rows × 2 columns</p>\n",
              "</div>\n",
              "      <button class=\"colab-df-convert\" onclick=\"convertToInteractive('df-e6173fb3-8323-44a2-8c93-5e5ecc9f6f01')\"\n",
              "              title=\"Convert this dataframe to an interactive table.\"\n",
              "              style=\"display:none;\">\n",
              "        \n",
              "  <svg xmlns=\"http://www.w3.org/2000/svg\" height=\"24px\"viewBox=\"0 0 24 24\"\n",
              "       width=\"24px\">\n",
              "    <path d=\"M0 0h24v24H0V0z\" fill=\"none\"/>\n",
              "    <path d=\"M18.56 5.44l.94 2.06.94-2.06 2.06-.94-2.06-.94-.94-2.06-.94 2.06-2.06.94zm-11 1L8.5 8.5l.94-2.06 2.06-.94-2.06-.94L8.5 2.5l-.94 2.06-2.06.94zm10 10l.94 2.06.94-2.06 2.06-.94-2.06-.94-.94-2.06-.94 2.06-2.06.94z\"/><path d=\"M17.41 7.96l-1.37-1.37c-.4-.4-.92-.59-1.43-.59-.52 0-1.04.2-1.43.59L10.3 9.45l-7.72 7.72c-.78.78-.78 2.05 0 2.83L4 21.41c.39.39.9.59 1.41.59.51 0 1.02-.2 1.41-.59l7.78-7.78 2.81-2.81c.8-.78.8-2.07 0-2.86zM5.41 20L4 18.59l7.72-7.72 1.47 1.35L5.41 20z\"/>\n",
              "  </svg>\n",
              "      </button>\n",
              "      \n",
              "  <style>\n",
              "    .colab-df-container {\n",
              "      display:flex;\n",
              "      flex-wrap:wrap;\n",
              "      gap: 12px;\n",
              "    }\n",
              "\n",
              "    .colab-df-convert {\n",
              "      background-color: #E8F0FE;\n",
              "      border: none;\n",
              "      border-radius: 50%;\n",
              "      cursor: pointer;\n",
              "      display: none;\n",
              "      fill: #1967D2;\n",
              "      height: 32px;\n",
              "      padding: 0 0 0 0;\n",
              "      width: 32px;\n",
              "    }\n",
              "\n",
              "    .colab-df-convert:hover {\n",
              "      background-color: #E2EBFA;\n",
              "      box-shadow: 0px 1px 2px rgba(60, 64, 67, 0.3), 0px 1px 3px 1px rgba(60, 64, 67, 0.15);\n",
              "      fill: #174EA6;\n",
              "    }\n",
              "\n",
              "    [theme=dark] .colab-df-convert {\n",
              "      background-color: #3B4455;\n",
              "      fill: #D2E3FC;\n",
              "    }\n",
              "\n",
              "    [theme=dark] .colab-df-convert:hover {\n",
              "      background-color: #434B5C;\n",
              "      box-shadow: 0px 1px 3px 1px rgba(0, 0, 0, 0.15);\n",
              "      filter: drop-shadow(0px 1px 2px rgba(0, 0, 0, 0.3));\n",
              "      fill: #FFFFFF;\n",
              "    }\n",
              "  </style>\n",
              "\n",
              "      <script>\n",
              "        const buttonEl =\n",
              "          document.querySelector('#df-e6173fb3-8323-44a2-8c93-5e5ecc9f6f01 button.colab-df-convert');\n",
              "        buttonEl.style.display =\n",
              "          google.colab.kernel.accessAllowed ? 'block' : 'none';\n",
              "\n",
              "        async function convertToInteractive(key) {\n",
              "          const element = document.querySelector('#df-e6173fb3-8323-44a2-8c93-5e5ecc9f6f01');\n",
              "          const dataTable =\n",
              "            await google.colab.kernel.invokeFunction('convertToInteractive',\n",
              "                                                     [key], {});\n",
              "          if (!dataTable) return;\n",
              "\n",
              "          const docLinkHtml = 'Like what you see? Visit the ' +\n",
              "            '<a target=\"_blank\" href=https://colab.research.google.com/notebooks/data_table.ipynb>data table notebook</a>'\n",
              "            + ' to learn more about interactive tables.';\n",
              "          element.innerHTML = '';\n",
              "          dataTable['output_type'] = 'display_data';\n",
              "          await google.colab.output.renderOutput(dataTable, element);\n",
              "          const docLink = document.createElement('div');\n",
              "          docLink.innerHTML = docLinkHtml;\n",
              "          element.appendChild(docLink);\n",
              "        }\n",
              "      </script>\n",
              "    </div>\n",
              "  </div>\n",
              "  "
            ],
            "text/plain": [
              "                                                     text  suspicious\n",
              "317688  `  :Please respond to my comment on Talk:Colle...           0\n",
              "154612  ` == A barnstar for you! you are just amazing ...           0\n",
              "286925  `  == Border Guard ==  Hi there! Regarding you...           0\n",
              "115926    == Really?? ==  you really classify yourself...           1\n",
              "52880     == Urrrppp ==  You wanna have my love? Burp!...           0\n",
              "...                                                   ...         ...\n",
              "303545                       :Theres one on my userpage             0\n",
              "225361   :::::Update. Just had chat with Niall who has...           0\n",
              "30054     == lol === Blocked! yeppers! I basically mad...           0\n",
              "335239   oh yea school ova and time to get ma dick lic...           1\n",
              "74981    :: Well maybe they should. Surely a last upda...           0\n",
              "\n",
              "[391414 rows x 2 columns]"
            ]
          },
          "metadata": {},
          "execution_count": 160
        }
      ]
    },
    {
      "cell_type": "markdown",
      "metadata": {
        "id": "o8seOZX0-6ta"
      },
      "source": [
        "Next we will spilt train to train and test"
      ]
    },
    {
      "cell_type": "code",
      "metadata": {
        "colab": {
          "base_uri": "https://localhost:8080/",
          "height": 431
        },
        "id": "E94UjUTK-9Ob",
        "outputId": "ecdd2377-d5d6-4dde-d225-ff7a537e50b8"
      },
      "source": [
        "# building cumulative test data frame\n",
        "from sklearn.model_selection import train_test_split\n",
        "train, test = train_test_split(train, shuffle=False, test_size=0.1)\n",
        "display(test.head())\n",
        "print(\"Test length is {}\".format(len(test)))\n",
        "display(train.head())\n",
        "print(\"Train length is {}\".format(len(train)))"
      ],
      "execution_count": 161,
      "outputs": [
        {
          "output_type": "display_data",
          "data": {
            "text/html": [
              "\n",
              "  <div id=\"df-fcf48f02-4515-4acd-ab69-f1c33585065e\">\n",
              "    <div class=\"colab-df-container\">\n",
              "      <div>\n",
              "<style scoped>\n",
              "    .dataframe tbody tr th:only-of-type {\n",
              "        vertical-align: middle;\n",
              "    }\n",
              "\n",
              "    .dataframe tbody tr th {\n",
              "        vertical-align: top;\n",
              "    }\n",
              "\n",
              "    .dataframe thead th {\n",
              "        text-align: right;\n",
              "    }\n",
              "</style>\n",
              "<table border=\"1\" class=\"dataframe\">\n",
              "  <thead>\n",
              "    <tr style=\"text-align: right;\">\n",
              "      <th></th>\n",
              "      <th>text</th>\n",
              "      <th>suspicious</th>\n",
              "    </tr>\n",
              "  </thead>\n",
              "  <tbody>\n",
              "    <tr>\n",
              "      <th>124582</th>\n",
              "      <td>I know i don't know what happened ( ( ( ( (</td>\n",
              "      <td>0</td>\n",
              "    </tr>\n",
              "    <tr>\n",
              "      <th>102294</th>\n",
              "      <td>`== Square Rools, ok? ==== (For the non-Britis...</td>\n",
              "      <td>0</td>\n",
              "    </tr>\n",
              "    <tr>\n",
              "      <th>305844</th>\n",
              "      <td>== I'm going to punch you in the ovaries == ...</td>\n",
              "      <td>1</td>\n",
              "    </tr>\n",
              "    <tr>\n",
              "      <th>235183</th>\n",
              "      <td>REDIRECT Talk:List of Red Star Belgrade seasons</td>\n",
              "      <td>0</td>\n",
              "    </tr>\n",
              "    <tr>\n",
              "      <th>27767</th>\n",
              "      <td>` :Bad idea.It creates a potential for POV for...</td>\n",
              "      <td>0</td>\n",
              "    </tr>\n",
              "  </tbody>\n",
              "</table>\n",
              "</div>\n",
              "      <button class=\"colab-df-convert\" onclick=\"convertToInteractive('df-fcf48f02-4515-4acd-ab69-f1c33585065e')\"\n",
              "              title=\"Convert this dataframe to an interactive table.\"\n",
              "              style=\"display:none;\">\n",
              "        \n",
              "  <svg xmlns=\"http://www.w3.org/2000/svg\" height=\"24px\"viewBox=\"0 0 24 24\"\n",
              "       width=\"24px\">\n",
              "    <path d=\"M0 0h24v24H0V0z\" fill=\"none\"/>\n",
              "    <path d=\"M18.56 5.44l.94 2.06.94-2.06 2.06-.94-2.06-.94-.94-2.06-.94 2.06-2.06.94zm-11 1L8.5 8.5l.94-2.06 2.06-.94-2.06-.94L8.5 2.5l-.94 2.06-2.06.94zm10 10l.94 2.06.94-2.06 2.06-.94-2.06-.94-.94-2.06-.94 2.06-2.06.94z\"/><path d=\"M17.41 7.96l-1.37-1.37c-.4-.4-.92-.59-1.43-.59-.52 0-1.04.2-1.43.59L10.3 9.45l-7.72 7.72c-.78.78-.78 2.05 0 2.83L4 21.41c.39.39.9.59 1.41.59.51 0 1.02-.2 1.41-.59l7.78-7.78 2.81-2.81c.8-.78.8-2.07 0-2.86zM5.41 20L4 18.59l7.72-7.72 1.47 1.35L5.41 20z\"/>\n",
              "  </svg>\n",
              "      </button>\n",
              "      \n",
              "  <style>\n",
              "    .colab-df-container {\n",
              "      display:flex;\n",
              "      flex-wrap:wrap;\n",
              "      gap: 12px;\n",
              "    }\n",
              "\n",
              "    .colab-df-convert {\n",
              "      background-color: #E8F0FE;\n",
              "      border: none;\n",
              "      border-radius: 50%;\n",
              "      cursor: pointer;\n",
              "      display: none;\n",
              "      fill: #1967D2;\n",
              "      height: 32px;\n",
              "      padding: 0 0 0 0;\n",
              "      width: 32px;\n",
              "    }\n",
              "\n",
              "    .colab-df-convert:hover {\n",
              "      background-color: #E2EBFA;\n",
              "      box-shadow: 0px 1px 2px rgba(60, 64, 67, 0.3), 0px 1px 3px 1px rgba(60, 64, 67, 0.15);\n",
              "      fill: #174EA6;\n",
              "    }\n",
              "\n",
              "    [theme=dark] .colab-df-convert {\n",
              "      background-color: #3B4455;\n",
              "      fill: #D2E3FC;\n",
              "    }\n",
              "\n",
              "    [theme=dark] .colab-df-convert:hover {\n",
              "      background-color: #434B5C;\n",
              "      box-shadow: 0px 1px 3px 1px rgba(0, 0, 0, 0.15);\n",
              "      filter: drop-shadow(0px 1px 2px rgba(0, 0, 0, 0.3));\n",
              "      fill: #FFFFFF;\n",
              "    }\n",
              "  </style>\n",
              "\n",
              "      <script>\n",
              "        const buttonEl =\n",
              "          document.querySelector('#df-fcf48f02-4515-4acd-ab69-f1c33585065e button.colab-df-convert');\n",
              "        buttonEl.style.display =\n",
              "          google.colab.kernel.accessAllowed ? 'block' : 'none';\n",
              "\n",
              "        async function convertToInteractive(key) {\n",
              "          const element = document.querySelector('#df-fcf48f02-4515-4acd-ab69-f1c33585065e');\n",
              "          const dataTable =\n",
              "            await google.colab.kernel.invokeFunction('convertToInteractive',\n",
              "                                                     [key], {});\n",
              "          if (!dataTable) return;\n",
              "\n",
              "          const docLinkHtml = 'Like what you see? Visit the ' +\n",
              "            '<a target=\"_blank\" href=https://colab.research.google.com/notebooks/data_table.ipynb>data table notebook</a>'\n",
              "            + ' to learn more about interactive tables.';\n",
              "          element.innerHTML = '';\n",
              "          dataTable['output_type'] = 'display_data';\n",
              "          await google.colab.output.renderOutput(dataTable, element);\n",
              "          const docLink = document.createElement('div');\n",
              "          docLink.innerHTML = docLinkHtml;\n",
              "          element.appendChild(docLink);\n",
              "        }\n",
              "      </script>\n",
              "    </div>\n",
              "  </div>\n",
              "  "
            ],
            "text/plain": [
              "                                                     text  suspicious\n",
              "124582        I know i don't know what happened ( ( ( ( (           0\n",
              "102294  `== Square Rools, ok? ==== (For the non-Britis...           0\n",
              "305844    == I'm going to punch you in the ovaries == ...           1\n",
              "235183    REDIRECT Talk:List of Red Star Belgrade seasons           0\n",
              "27767   ` :Bad idea.It creates a potential for POV for...           0"
            ]
          },
          "metadata": {}
        },
        {
          "output_type": "stream",
          "name": "stdout",
          "text": [
            "Test length is 39142\n"
          ]
        },
        {
          "output_type": "display_data",
          "data": {
            "text/html": [
              "\n",
              "  <div id=\"df-c7f93419-b2ce-450a-81cd-583ef5018242\">\n",
              "    <div class=\"colab-df-container\">\n",
              "      <div>\n",
              "<style scoped>\n",
              "    .dataframe tbody tr th:only-of-type {\n",
              "        vertical-align: middle;\n",
              "    }\n",
              "\n",
              "    .dataframe tbody tr th {\n",
              "        vertical-align: top;\n",
              "    }\n",
              "\n",
              "    .dataframe thead th {\n",
              "        text-align: right;\n",
              "    }\n",
              "</style>\n",
              "<table border=\"1\" class=\"dataframe\">\n",
              "  <thead>\n",
              "    <tr style=\"text-align: right;\">\n",
              "      <th></th>\n",
              "      <th>text</th>\n",
              "      <th>suspicious</th>\n",
              "    </tr>\n",
              "  </thead>\n",
              "  <tbody>\n",
              "    <tr>\n",
              "      <th>317688</th>\n",
              "      <td>`  :Please respond to my comment on Talk:Colle...</td>\n",
              "      <td>0</td>\n",
              "    </tr>\n",
              "    <tr>\n",
              "      <th>154612</th>\n",
              "      <td>` == A barnstar for you! you are just amazing ...</td>\n",
              "      <td>0</td>\n",
              "    </tr>\n",
              "    <tr>\n",
              "      <th>286925</th>\n",
              "      <td>`  == Border Guard ==  Hi there! Regarding you...</td>\n",
              "      <td>0</td>\n",
              "    </tr>\n",
              "    <tr>\n",
              "      <th>115926</th>\n",
              "      <td>== Really?? ==  you really classify yourself...</td>\n",
              "      <td>1</td>\n",
              "    </tr>\n",
              "    <tr>\n",
              "      <th>52880</th>\n",
              "      <td>== Urrrppp ==  You wanna have my love? Burp!...</td>\n",
              "      <td>0</td>\n",
              "    </tr>\n",
              "  </tbody>\n",
              "</table>\n",
              "</div>\n",
              "      <button class=\"colab-df-convert\" onclick=\"convertToInteractive('df-c7f93419-b2ce-450a-81cd-583ef5018242')\"\n",
              "              title=\"Convert this dataframe to an interactive table.\"\n",
              "              style=\"display:none;\">\n",
              "        \n",
              "  <svg xmlns=\"http://www.w3.org/2000/svg\" height=\"24px\"viewBox=\"0 0 24 24\"\n",
              "       width=\"24px\">\n",
              "    <path d=\"M0 0h24v24H0V0z\" fill=\"none\"/>\n",
              "    <path d=\"M18.56 5.44l.94 2.06.94-2.06 2.06-.94-2.06-.94-.94-2.06-.94 2.06-2.06.94zm-11 1L8.5 8.5l.94-2.06 2.06-.94-2.06-.94L8.5 2.5l-.94 2.06-2.06.94zm10 10l.94 2.06.94-2.06 2.06-.94-2.06-.94-.94-2.06-.94 2.06-2.06.94z\"/><path d=\"M17.41 7.96l-1.37-1.37c-.4-.4-.92-.59-1.43-.59-.52 0-1.04.2-1.43.59L10.3 9.45l-7.72 7.72c-.78.78-.78 2.05 0 2.83L4 21.41c.39.39.9.59 1.41.59.51 0 1.02-.2 1.41-.59l7.78-7.78 2.81-2.81c.8-.78.8-2.07 0-2.86zM5.41 20L4 18.59l7.72-7.72 1.47 1.35L5.41 20z\"/>\n",
              "  </svg>\n",
              "      </button>\n",
              "      \n",
              "  <style>\n",
              "    .colab-df-container {\n",
              "      display:flex;\n",
              "      flex-wrap:wrap;\n",
              "      gap: 12px;\n",
              "    }\n",
              "\n",
              "    .colab-df-convert {\n",
              "      background-color: #E8F0FE;\n",
              "      border: none;\n",
              "      border-radius: 50%;\n",
              "      cursor: pointer;\n",
              "      display: none;\n",
              "      fill: #1967D2;\n",
              "      height: 32px;\n",
              "      padding: 0 0 0 0;\n",
              "      width: 32px;\n",
              "    }\n",
              "\n",
              "    .colab-df-convert:hover {\n",
              "      background-color: #E2EBFA;\n",
              "      box-shadow: 0px 1px 2px rgba(60, 64, 67, 0.3), 0px 1px 3px 1px rgba(60, 64, 67, 0.15);\n",
              "      fill: #174EA6;\n",
              "    }\n",
              "\n",
              "    [theme=dark] .colab-df-convert {\n",
              "      background-color: #3B4455;\n",
              "      fill: #D2E3FC;\n",
              "    }\n",
              "\n",
              "    [theme=dark] .colab-df-convert:hover {\n",
              "      background-color: #434B5C;\n",
              "      box-shadow: 0px 1px 3px 1px rgba(0, 0, 0, 0.15);\n",
              "      filter: drop-shadow(0px 1px 2px rgba(0, 0, 0, 0.3));\n",
              "      fill: #FFFFFF;\n",
              "    }\n",
              "  </style>\n",
              "\n",
              "      <script>\n",
              "        const buttonEl =\n",
              "          document.querySelector('#df-c7f93419-b2ce-450a-81cd-583ef5018242 button.colab-df-convert');\n",
              "        buttonEl.style.display =\n",
              "          google.colab.kernel.accessAllowed ? 'block' : 'none';\n",
              "\n",
              "        async function convertToInteractive(key) {\n",
              "          const element = document.querySelector('#df-c7f93419-b2ce-450a-81cd-583ef5018242');\n",
              "          const dataTable =\n",
              "            await google.colab.kernel.invokeFunction('convertToInteractive',\n",
              "                                                     [key], {});\n",
              "          if (!dataTable) return;\n",
              "\n",
              "          const docLinkHtml = 'Like what you see? Visit the ' +\n",
              "            '<a target=\"_blank\" href=https://colab.research.google.com/notebooks/data_table.ipynb>data table notebook</a>'\n",
              "            + ' to learn more about interactive tables.';\n",
              "          element.innerHTML = '';\n",
              "          dataTable['output_type'] = 'display_data';\n",
              "          await google.colab.output.renderOutput(dataTable, element);\n",
              "          const docLink = document.createElement('div');\n",
              "          docLink.innerHTML = docLinkHtml;\n",
              "          element.appendChild(docLink);\n",
              "        }\n",
              "      </script>\n",
              "    </div>\n",
              "  </div>\n",
              "  "
            ],
            "text/plain": [
              "                                                     text  suspicious\n",
              "317688  `  :Please respond to my comment on Talk:Colle...           0\n",
              "154612  ` == A barnstar for you! you are just amazing ...           0\n",
              "286925  `  == Border Guard ==  Hi there! Regarding you...           0\n",
              "115926    == Really?? ==  you really classify yourself...           1\n",
              "52880     == Urrrppp ==  You wanna have my love? Burp!...           0"
            ]
          },
          "metadata": {}
        },
        {
          "output_type": "stream",
          "name": "stdout",
          "text": [
            "Train length is 352272\n"
          ]
        }
      ]
    },
    {
      "cell_type": "code",
      "source": [
        "print(\"Number of suspicious in test set is {}\".format(test[\"suspicious\"].sum()))\n",
        "print(\"Number of nonsuspicious in test set is {}\".format(len(test)-test[\"suspicious\"].sum()))\n",
        "print(\"Number of suspicious in train set is {}\".format(train[\"suspicious\"].sum()))\n",
        "print(\"Number of nonsuspicious in train set is {}\".format(len(train)-train[\"suspicious\"].sum()))"
      ],
      "metadata": {
        "colab": {
          "base_uri": "https://localhost:8080/"
        },
        "id": "KqebJ7iBoUYG",
        "outputId": "cdb9dc19-85b2-4991-8f5a-3fcb8923f1ca"
      },
      "execution_count": 162,
      "outputs": [
        {
          "output_type": "stream",
          "name": "stdout",
          "text": [
            "Number of suspicious in test set is 4388\n",
            "Number of nonsuspicious in test set is 34754\n",
            "Number of suspicious in train set is 39346\n",
            "Number of nonsuspicious in train set is 312926\n"
          ]
        }
      ]
    },
    {
      "cell_type": "markdown",
      "source": [
        "# Explorative Data Analysis & Preprocessing"
      ],
      "metadata": {
        "id": "c4lsFlyEl9fN"
      }
    },
    {
      "cell_type": "markdown",
      "metadata": {
        "id": "MLO2XEUPSaxs"
      },
      "source": [
        "## Preliminary Data Exploration"
      ]
    },
    {
      "cell_type": "code",
      "metadata": {
        "id": "48wLUpOKZrxV"
      },
      "source": [
        "# for visualizations we will be using matplotlib\n",
        "import matplotlib.pyplot as plt"
      ],
      "execution_count": 163,
      "outputs": []
    },
    {
      "cell_type": "markdown",
      "metadata": {
        "id": "H6oYcgNNY4w6"
      },
      "source": [
        "In the preliminary data exploration step, we will draw a histogram of documents' lengths.\n",
        "\n",
        "Probably other preliminary EDA could be performed (e.g., language diversity or language detection), but this is just a concept, so we will not dive too deep into the analysis"
      ]
    },
    {
      "cell_type": "code",
      "metadata": {
        "colab": {
          "base_uri": "https://localhost:8080/",
          "height": 265
        },
        "id": "FmsDQNWfZCY9",
        "outputId": "cd262c39-f653-433c-efd1-a99d7e511cfd"
      },
      "source": [
        "# plotting the histogram of documents' lengths\n",
        "lengths = train[\"text\"].apply(lambda x: len(x)).values\n",
        "plt.hist(lengths, density=True, bins=30)\n",
        "plt.show()"
      ],
      "execution_count": 164,
      "outputs": [
        {
          "output_type": "display_data",
          "data": {
            "image/png": "[encoded data removed]",
            "text/plain": [
              "<Figure size 432x288 with 1 Axes>"
            ]
          },
          "metadata": {
            "needs_background": "light"
          }
        }
      ]
    },
    {
      "cell_type": "markdown",
      "metadata": {
        "id": "2Ldtw7AlbuFw"
      },
      "source": [
        "From the histogram we can see that the lengths of the documents are very uneven - this may cause problems to our dataset. There is a big chunk of documents that seem to be super short"
      ]
    },
    {
      "cell_type": "code",
      "metadata": {
        "colab": {
          "base_uri": "https://localhost:8080/"
        },
        "id": "dsBfGjPj4aUV",
        "outputId": "7b6eeb97-8dbb-447d-aa4c-f3332adbd29e"
      },
      "source": [
        "# checking out too short documents\n",
        "print(train[\"text\"].str.len().nsmallest(10))\n",
        "print(train.loc[train[\"text\"].str.len() <=3, \"text\"])"
      ],
      "execution_count": 165,
      "outputs": [
        {
          "output_type": "stream",
          "name": "stdout",
          "text": [
            "298465    3\n",
            "30068     3\n",
            "182601    3\n",
            "31433     3\n",
            "130694    3\n",
            "131187    4\n",
            "262610    5\n",
            "121843    5\n",
            "364132    5\n",
            "358192    5\n",
            "Name: text, dtype: int64\n",
            "298465       \n",
            "30068        \n",
            "182601       \n",
            "31433        \n",
            "130694       \n",
            "Name: text, dtype: object\n"
          ]
        }
      ]
    },
    {
      "cell_type": "code",
      "metadata": {
        "id": "QIt5RVpW45J6"
      },
      "source": [
        "# The documents shorter than 4 characters do not bring information to the data\n",
        "# thus we decided to remove them\n",
        "train = train.loc[train[\"text\"].str.len()>3, :]"
      ],
      "execution_count": 166,
      "outputs": []
    },
    {
      "cell_type": "markdown",
      "source": [
        "At this step it could be useful to perform other steps (like language detection, word lengths analysis, language diversity, etc). We won't do that in this PoC as it takes too much computational power to do so."
      ],
      "metadata": {
        "id": "c5oB5217Zous"
      }
    },
    {
      "cell_type": "markdown",
      "metadata": {
        "id": "WKSGwa9-P47C"
      },
      "source": [
        "## Preprocessing"
      ]
    },
    {
      "cell_type": "markdown",
      "metadata": {
        "id": "px30rrKY9YgD"
      },
      "source": [
        "We will preprocess the data on the basic level for the later analysis. Ideally we would start the preprocessing with translating non English documents.\n",
        "\n",
        "We are going to:\n",
        "\n",
        "*   trasform  documents to lowercase,\n",
        "*   remove cotractions (n't),\n",
        "*   remove special characters,\n",
        "*   remove stopwords,\n",
        "*   remove custom stop words (stopwords specific to this dataset)\n",
        "*   and lemmatize\n",
        "\n",
        "\n",
        "*In the real life example the number of transformations combinations and propositions would probably be much bigger but this is just a PoC so we will perform preprocessing only once*"
      ]
    },
    {
      "cell_type": "code",
      "metadata": {
        "colab": {
          "base_uri": "https://localhost:8080/"
        },
        "id": "3XMXka40EGId",
        "outputId": "1f4cb7da-b6db-4aa8-8a8a-184c2070051a"
      },
      "source": [
        "# the main preprocessing pipeline\n",
        "import re\n",
        "import nltk\n",
        "import string\n",
        "from nltk.corpus import stopwords\n",
        "from nltk.stem import WordNetLemmatizer\n",
        "nltk.download('punkt')\n",
        "nltk.download('stopwords')\n",
        "nltk.download('wordnet')\n",
        "\n",
        "def contractions(s):\n",
        " s = re.sub(r\"won't\", \"will not\",s)\n",
        " s = re.sub(r\"would't\", \"would not\",s)\n",
        " s = re.sub(r\"could't\", \"could not\",s)\n",
        " s = re.sub(r\"\\'d\", \" would\",s)\n",
        " s = re.sub(r\"can\\'t\", \"can not\",s)\n",
        " s = re.sub(r\"n\\'t\", \" not\", s)\n",
        " s = re.sub(r\"\\'re\", \" are\", s)\n",
        " s = re.sub(r\"\\'s\", \" is\", s)\n",
        " s = re.sub(r\"\\'ll\", \" will\", s)\n",
        " s = re.sub(r\"\\'t\", \" not\", s)\n",
        " s = re.sub(r\"\\'ve\", \" have\", s)\n",
        " s = re.sub(r\"\\'m\", \" am\", s)\n",
        " return s\n",
        "\n",
        "def preprocess(data):\n",
        "  # transforming to lowercase\n",
        "  data['clean'] = data['text'].apply(lambda x: x.lower())\n",
        "  # removing contractions\n",
        "  data['clean'] = data[\"clean\"].apply(lambda x: contractions(x))\n",
        "  # removing punctuation\n",
        "  data['clean'] = data['clean'].apply(lambda x: ' '.join(''.join(' ' if c in string.punctuation else c for c in x).split()))\n",
        "  # removing multiple spaces\n",
        "  data['clean'] = data['clean'].apply(lambda x: re.sub(' +', ' ', x))\n",
        "  # removing stopwords\n",
        "  stop = stopwords.words('english') # common\n",
        "  stop.extend([\"wikipedia\", \"wiki\", \"article\", \"page\", \"en\", \"org\"]) #custom\n",
        "  data['clean'] = data['clean'].apply(lambda x: ' '.join([x for x in x.split() if x not in stop]))\n",
        "  # lemmatize\n",
        "  lemmatizer = WordNetLemmatizer()\n",
        "  data['clean'] = data['clean'].apply(lambda x: ' '.join([lemmatizer.lemmatize(w) for w in nltk.word_tokenize(x)]))\n",
        "  \n",
        "  return data"
      ],
      "execution_count": 167,
      "outputs": [
        {
          "output_type": "stream",
          "name": "stdout",
          "text": [
            "[nltk_data] Downloading package punkt to /root/nltk_data...\n",
            "[nltk_data]   Package punkt is already up-to-date!\n",
            "[nltk_data] Downloading package stopwords to /root/nltk_data...\n",
            "[nltk_data]   Package stopwords is already up-to-date!\n",
            "[nltk_data] Downloading package wordnet to /root/nltk_data...\n",
            "[nltk_data]   Package wordnet is already up-to-date!\n"
          ]
        }
      ]
    },
    {
      "cell_type": "code",
      "metadata": {
        "colab": {
          "base_uri": "https://localhost:8080/"
        },
        "id": "Ytw65onJGLgR",
        "outputId": "c5f7a89d-0cf0-4f17-bb64-b9f53ee98ff0"
      },
      "source": [
        "# running the preprocessing\n",
        "%%time\n",
        "train = preprocess(train)\n",
        "test = preprocess(test)"
      ],
      "execution_count": 168,
      "outputs": [
        {
          "output_type": "stream",
          "name": "stdout",
          "text": [
            "CPU times: user 4min 16s, sys: 1.02 s, total: 4min 17s\n",
            "Wall time: 4min 17s\n"
          ]
        }
      ]
    },
    {
      "cell_type": "code",
      "source": [
        "# results\n",
        "train.head()"
      ],
      "metadata": {
        "colab": {
          "base_uri": "https://localhost:8080/",
          "height": 285
        },
        "id": "K-rbfUPoa2v8",
        "outputId": "422a9567-b0b0-4f74-c9c7-8b9ce669550d"
      },
      "execution_count": 169,
      "outputs": [
        {
          "output_type": "execute_result",
          "data": {
            "text/html": [
              "\n",
              "  <div id=\"df-27ada83f-860d-427f-8cc9-ed0963c3ef1b\">\n",
              "    <div class=\"colab-df-container\">\n",
              "      <div>\n",
              "<style scoped>\n",
              "    .dataframe tbody tr th:only-of-type {\n",
              "        vertical-align: middle;\n",
              "    }\n",
              "\n",
              "    .dataframe tbody tr th {\n",
              "        vertical-align: top;\n",
              "    }\n",
              "\n",
              "    .dataframe thead th {\n",
              "        text-align: right;\n",
              "    }\n",
              "</style>\n",
              "<table border=\"1\" class=\"dataframe\">\n",
              "  <thead>\n",
              "    <tr style=\"text-align: right;\">\n",
              "      <th></th>\n",
              "      <th>text</th>\n",
              "      <th>suspicious</th>\n",
              "      <th>clean</th>\n",
              "    </tr>\n",
              "  </thead>\n",
              "  <tbody>\n",
              "    <tr>\n",
              "      <th>317688</th>\n",
              "      <td>`  :Please respond to my comment on Talk:Colle...</td>\n",
              "      <td>0</td>\n",
              "      <td>please respond comment talk collectonian reque...</td>\n",
              "    </tr>\n",
              "    <tr>\n",
              "      <th>154612</th>\n",
              "      <td>` == A barnstar for you! you are just amazing ...</td>\n",
              "      <td>0</td>\n",
              "      <td>barnstar amazing staking retired style backgro...</td>\n",
              "    </tr>\n",
              "    <tr>\n",
              "      <th>286925</th>\n",
              "      <td>`  == Border Guard ==  Hi there! Regarding you...</td>\n",
              "      <td>0</td>\n",
              "      <td>border guard hi regarding edit comment deleted...</td>\n",
              "    </tr>\n",
              "    <tr>\n",
              "      <th>115926</th>\n",
              "      <td>== Really?? ==  you really classify yourself...</td>\n",
              "      <td>1</td>\n",
              "      <td>really really classify macedonian wish alexand...</td>\n",
              "    </tr>\n",
              "    <tr>\n",
              "      <th>52880</th>\n",
              "      <td>== Urrrppp ==  You wanna have my love? Burp!...</td>\n",
              "      <td>0</td>\n",
              "      <td>urrrppp wan na love burp</td>\n",
              "    </tr>\n",
              "  </tbody>\n",
              "</table>\n",
              "</div>\n",
              "      <button class=\"colab-df-convert\" onclick=\"convertToInteractive('df-27ada83f-860d-427f-8cc9-ed0963c3ef1b')\"\n",
              "              title=\"Convert this dataframe to an interactive table.\"\n",
              "              style=\"display:none;\">\n",
              "        \n",
              "  <svg xmlns=\"http://www.w3.org/2000/svg\" height=\"24px\"viewBox=\"0 0 24 24\"\n",
              "       width=\"24px\">\n",
              "    <path d=\"M0 0h24v24H0V0z\" fill=\"none\"/>\n",
              "    <path d=\"M18.56 5.44l.94 2.06.94-2.06 2.06-.94-2.06-.94-.94-2.06-.94 2.06-2.06.94zm-11 1L8.5 8.5l.94-2.06 2.06-.94-2.06-.94L8.5 2.5l-.94 2.06-2.06.94zm10 10l.94 2.06.94-2.06 2.06-.94-2.06-.94-.94-2.06-.94 2.06-2.06.94z\"/><path d=\"M17.41 7.96l-1.37-1.37c-.4-.4-.92-.59-1.43-.59-.52 0-1.04.2-1.43.59L10.3 9.45l-7.72 7.72c-.78.78-.78 2.05 0 2.83L4 21.41c.39.39.9.59 1.41.59.51 0 1.02-.2 1.41-.59l7.78-7.78 2.81-2.81c.8-.78.8-2.07 0-2.86zM5.41 20L4 18.59l7.72-7.72 1.47 1.35L5.41 20z\"/>\n",
              "  </svg>\n",
              "      </button>\n",
              "      \n",
              "  <style>\n",
              "    .colab-df-container {\n",
              "      display:flex;\n",
              "      flex-wrap:wrap;\n",
              "      gap: 12px;\n",
              "    }\n",
              "\n",
              "    .colab-df-convert {\n",
              "      background-color: #E8F0FE;\n",
              "      border: none;\n",
              "      border-radius: 50%;\n",
              "      cursor: pointer;\n",
              "      display: none;\n",
              "      fill: #1967D2;\n",
              "      height: 32px;\n",
              "      padding: 0 0 0 0;\n",
              "      width: 32px;\n",
              "    }\n",
              "\n",
              "    .colab-df-convert:hover {\n",
              "      background-color: #E2EBFA;\n",
              "      box-shadow: 0px 1px 2px rgba(60, 64, 67, 0.3), 0px 1px 3px 1px rgba(60, 64, 67, 0.15);\n",
              "      fill: #174EA6;\n",
              "    }\n",
              "\n",
              "    [theme=dark] .colab-df-convert {\n",
              "      background-color: #3B4455;\n",
              "      fill: #D2E3FC;\n",
              "    }\n",
              "\n",
              "    [theme=dark] .colab-df-convert:hover {\n",
              "      background-color: #434B5C;\n",
              "      box-shadow: 0px 1px 3px 1px rgba(0, 0, 0, 0.15);\n",
              "      filter: drop-shadow(0px 1px 2px rgba(0, 0, 0, 0.3));\n",
              "      fill: #FFFFFF;\n",
              "    }\n",
              "  </style>\n",
              "\n",
              "      <script>\n",
              "        const buttonEl =\n",
              "          document.querySelector('#df-27ada83f-860d-427f-8cc9-ed0963c3ef1b button.colab-df-convert');\n",
              "        buttonEl.style.display =\n",
              "          google.colab.kernel.accessAllowed ? 'block' : 'none';\n",
              "\n",
              "        async function convertToInteractive(key) {\n",
              "          const element = document.querySelector('#df-27ada83f-860d-427f-8cc9-ed0963c3ef1b');\n",
              "          const dataTable =\n",
              "            await google.colab.kernel.invokeFunction('convertToInteractive',\n",
              "                                                     [key], {});\n",
              "          if (!dataTable) return;\n",
              "\n",
              "          const docLinkHtml = 'Like what you see? Visit the ' +\n",
              "            '<a target=\"_blank\" href=https://colab.research.google.com/notebooks/data_table.ipynb>data table notebook</a>'\n",
              "            + ' to learn more about interactive tables.';\n",
              "          element.innerHTML = '';\n",
              "          dataTable['output_type'] = 'display_data';\n",
              "          await google.colab.output.renderOutput(dataTable, element);\n",
              "          const docLink = document.createElement('div');\n",
              "          docLink.innerHTML = docLinkHtml;\n",
              "          element.appendChild(docLink);\n",
              "        }\n",
              "      </script>\n",
              "    </div>\n",
              "  </div>\n",
              "  "
            ],
            "text/plain": [
              "                                                     text  ...                                              clean\n",
              "317688  `  :Please respond to my comment on Talk:Colle...  ...  please respond comment talk collectonian reque...\n",
              "154612  ` == A barnstar for you! you are just amazing ...  ...  barnstar amazing staking retired style backgro...\n",
              "286925  `  == Border Guard ==  Hi there! Regarding you...  ...  border guard hi regarding edit comment deleted...\n",
              "115926    == Really?? ==  you really classify yourself...  ...  really really classify macedonian wish alexand...\n",
              "52880     == Urrrppp ==  You wanna have my love? Burp!...  ...                           urrrppp wan na love burp\n",
              "\n",
              "[5 rows x 3 columns]"
            ]
          },
          "metadata": {},
          "execution_count": 169
        }
      ]
    },
    {
      "cell_type": "code",
      "metadata": {
        "id": "lZWeh8vCMX8B"
      },
      "source": [
        "# dump of preprocessed data for the future\n",
        "train.to_csv(\"train_preprocessed.csv\")\n",
        "test.to_csv(\"test_preprocessed.csv\")"
      ],
      "execution_count": 170,
      "outputs": []
    },
    {
      "cell_type": "code",
      "metadata": {
        "id": "Mu1TFtuVM9qM"
      },
      "source": [
        "# reading the data from file\n",
        "train = pd.read_csv(\"train_preprocessed.csv\", index_col=0)\n",
        "test = pd.read_csv(\"test_preprocessed.csv\", index_col=0)"
      ],
      "execution_count": 42,
      "outputs": []
    },
    {
      "cell_type": "markdown",
      "metadata": {
        "id": "p9_yY7eOvV0J"
      },
      "source": [
        "## Data Exploration continued"
      ]
    },
    {
      "cell_type": "markdown",
      "metadata": {
        "id": "lTfT6fAlSdqj"
      },
      "source": [
        "After data preprocessing step we decided to explore the contents of the documents a little bit to better understand the dataset.\n",
        "\n",
        "First we will draw a word cloud and word frequency bar chart to get a basic look at the contents."
      ]
    },
    {
      "cell_type": "code",
      "metadata": {
        "id": "Q-7gG-uYaxnd",
        "colab": {
          "base_uri": "https://localhost:8080/",
          "height": 391
        },
        "outputId": "bef5f765-b815-46a4-e5c6-c15355bfbb5f"
      },
      "source": [
        "# drawing word cloud\n",
        "from wordcloud import WordCloud\n",
        "wordcloud = WordCloud(width = 800, height = 800,\n",
        "                background_color ='white',\n",
        "                min_font_size = 10)\\\n",
        "                .generate(' '.join(train['clean'].astype(str)[10000:])) \n",
        "                #using only sample because we don't have that much \n",
        "                #time to wait for wordcloud to generate for this many documents:)\n",
        " \n",
        "# plot the WordCloud image                      \n",
        "plt.figure(figsize = (5, 5), facecolor = None)\n",
        "plt.imshow(wordcloud)\n",
        "plt.axis(\"off\")\n",
        "plt.tight_layout(pad = 0)\n",
        " \n",
        "plt.show()"
      ],
      "execution_count": 176,
      "outputs": [
        {
          "output_type": "display_data",
          "data": {
            "image/png": "[encoded data removed]",
            "text/plain": [
              "<Figure size 360x360 with 1 Axes>"
            ]
          },
          "metadata": {
            "needs_background": "light"
          }
        }
      ]
    },
    {
      "cell_type": "code",
      "metadata": {
        "colab": {
          "base_uri": "https://localhost:8080/"
        },
        "id": "GNe0rAUcN2NT",
        "outputId": "d7a360ab-bfa9-4b1c-bbaf-4610d7230191"
      },
      "source": [
        "# praparing data for the word frequency diagram\n",
        "from collections import Counter\n",
        "import numpy as np\n",
        "terms = (' '.join(train['clean'].astype(str))).split()\n",
        "counts = dict(Counter(terms).most_common(30)) #take only top 30 words\n",
        "print(counts)\n",
        "labels, values = zip(*counts.items())"
      ],
      "execution_count": 177,
      "outputs": [
        {
          "output_type": "stream",
          "name": "stdout",
          "text": [
            "{'would': 78916, 'one': 68896, 'like': 65872, 'please': 60430, 'talk': 50520, 'source': 47109, 'see': 46809, 'think': 46482, 'know': 46387, 'also': 45352, 'people': 44772, 'time': 43377, 'edit': 38829, 'make': 36092, 'fuck': 36035, 'article': 34479, 'get': 34298, 'user': 33698, 'use': 33321, 'say': 32933, 'even': 31413, 'may': 31197, 'need': 30406, 'name': 30261, 'u': 29406, 'go': 29150, 'want': 28631, 'well': 28294, 'good': 28239, 'could': 28120}\n"
          ]
        }
      ]
    },
    {
      "cell_type": "code",
      "metadata": {
        "colab": {
          "base_uri": "https://localhost:8080/",
          "height": 289
        },
        "id": "jDdcl7vbPN4q",
        "outputId": "c66fbd51-bf9a-4c48-b2c8-d024b9bd6bdb"
      },
      "source": [
        "# plotting word frequencies\n",
        "plt.bar(labels, values)\n",
        "plt.xticks(rotation=90)\n",
        "plt.show()"
      ],
      "execution_count": 178,
      "outputs": [
        {
          "output_type": "display_data",
          "data": {
            "image/png": "[encoded data removed]",
            "text/plain": [
              "<Figure size 432x288 with 1 Axes>"
            ]
          },
          "metadata": {
            "needs_background": "light"
          }
        }
      ]
    },
    {
      "cell_type": "markdown",
      "metadata": {
        "id": "-2xTYQmIRQn1"
      },
      "source": [
        "There are no strcitly \"too common\" words. \n",
        "\n",
        "We see that we can remove some more custom stop words - e.g. would, get, u, also. These would probably improve our algorithm. We will not do it here, this is just PoC, in the real analysis removing this words would be worth checking out.\n",
        "\n",
        "Next, we will proceed with drawing the bigrams to know the dataset even better"
      ]
    },
    {
      "cell_type": "code",
      "metadata": {
        "id": "U_4SeyIpTD7i",
        "colab": {
          "base_uri": "https://localhost:8080/"
        },
        "outputId": "473076dd-e3ca-4e99-d2f5-c00431ac4c39"
      },
      "source": [
        "# preparing data for the bigrams frequencies chart\n",
        "bigrams = [bigram for document in train['clean'].astype(str)\\\n",
        "           for bigram in zip(document.split(\" \")[:-1], document.split(\" \")[1:])]\n",
        "counts_bi = dict(Counter(bigrams).most_common(30)) #take only top 30 words\n",
        "print(counts_bi)\n",
        "labels_bi, values_bi = zip(*counts_bi.items())\n",
        "labels_bi = [' '.join(bigram) for bigram in labels_bi]"
      ],
      "execution_count": 179,
      "outputs": [
        {
          "output_type": "stream",
          "name": "stdout",
          "text": [
            "{('faggot', 'faggot'): 10389, ('nigger', 'nigger'): 10044, ('bla', 'bla'): 9995, ('would', 'like'): 9886, ('fuck', 'fuck'): 9287, ('hate', 'hate'): 7422, ('speedy', 'deletion'): 7194, ('personal', 'attack'): 7112, ('can', 'not'): 7082, ('reliable', 'source'): 6799, ('jew', 'fat'): 6182, ('fat', 'jew'): 6142, ('as', 'as'): 5719, ('background', 'color'): 5670, ('vertical', 'align'): 5635, ('fair', 'use'): 5474, ('penis', 'penis'): 4673, ('talk', 'page'): 4494, ('go', 'fuck'): 4479, ('please', 'stop'): 4479, ('feel', 'free'): 4434, ('wanker', 'wanker'): 4275, ('blocked', 'editing'): 4177, ('desu', 'desu'): 3982, ('hi', 'hi'): 3726, ('fuck', 'go'): 3684, ('ip', 'address'): 3665, ('nipple', 'nipple'): 3665, ('style', 'vertical'): 3611, ('look', 'like'): 3579}\n"
          ]
        }
      ]
    },
    {
      "cell_type": "code",
      "metadata": {
        "colab": {
          "base_uri": "https://localhost:8080/",
          "height": 342
        },
        "id": "uEep8MR7XZlM",
        "outputId": "6e5ecd9d-87bd-4554-fd4f-c36d9bb92a8f"
      },
      "source": [
        "# drawing the bigrams frequencies chart\n",
        "plt.bar(labels_bi, values_bi)\n",
        "plt.xticks(rotation=90)\n",
        "plt.show()"
      ],
      "execution_count": 180,
      "outputs": [
        {
          "output_type": "display_data",
          "data": {
            "image/png": "[encoded data removed]",
            "text/plain": [
              "<Figure size 432x288 with 1 Axes>"
            ]
          },
          "metadata": {
            "needs_background": "light"
          }
        }
      ]
    },
    {
      "cell_type": "markdown",
      "metadata": {
        "id": "iogCW2X2YeYP"
      },
      "source": [
        "With bigrams we can observe the contents of the dataset in greater context. The most common bigrams are of course offensive words :) we love the internet users"
      ]
    },
    {
      "cell_type": "markdown",
      "source": [
        "# Basic Classification Methods"
      ],
      "metadata": {
        "id": "z-12zFViVUYC"
      }
    },
    {
      "cell_type": "markdown",
      "source": [
        "Our first go is to use vector/reggresion-like methods to solve this NLP problem. Vectors are much less computionally expensive than neural networks and in many cases they work really well. We want to give it a go and see what happens."
      ],
      "metadata": {
        "id": "Xh9BZyJqXHSJ"
      }
    },
    {
      "cell_type": "markdown",
      "metadata": {
        "id": "Ai2ZhH3dQVZq"
      },
      "source": [
        "## Building self-designed models"
      ]
    },
    {
      "cell_type": "markdown",
      "metadata": {
        "id": "H3avC4shOm1b"
      },
      "source": [
        "Finally we can start building the models :). First, we are building train and test feature vectors based on TF-IDF matrix. The class to be predicted is the \"suspicious\" column. "
      ]
    },
    {
      "cell_type": "code",
      "metadata": {
        "id": "rpKQ_g1T9Vqc"
      },
      "source": [
        "# setting the training and testing vectors\n",
        "X_train_sentences, X_test_sentences, Y_train, Y_test = train['clean'].astype(str), test['clean'].astype(str), train['suspicious'], test['suspicious']\n",
        "# building tf-idf feautre matrix\n",
        "from sklearn.feature_extraction.text import TfidfVectorizer\n",
        "vectorizer = TfidfVectorizer()\n",
        "X_train = vectorizer.fit_transform(X_train_sentences)\n",
        "X_test = vectorizer.transform(X_test_sentences)"
      ],
      "execution_count": 183,
      "outputs": []
    },
    {
      "cell_type": "code",
      "source": [
        "# saving the vectorizer for the API\n",
        "with open('vectorizer.pkl', 'wb') as fid:\n",
        "    cPickle.dump(vectorizer, fid)"
      ],
      "metadata": {
        "id": "yVYYEZWOvWz-"
      },
      "execution_count": 184,
      "outputs": []
    },
    {
      "cell_type": "markdown",
      "metadata": {
        "id": "jkqFQCDIRChT"
      },
      "source": [
        "We will try to build different models to predict the offensive documents. The assessment of results will be provided by the sklearn classification_report function. In the end of this analysis we will perform a comparison of the outcomes."
      ]
    },
    {
      "cell_type": "code",
      "metadata": {
        "id": "nq9OmKxXRTOu"
      },
      "source": [
        "# evaluation dictionary\n",
        "from sklearn.metrics import classification_report\n",
        "import _pickle as cPickle\n",
        "results = {}"
      ],
      "execution_count": 185,
      "outputs": []
    },
    {
      "cell_type": "markdown",
      "metadata": {
        "id": "-PV-k41pPlmx"
      },
      "source": [
        "### SVM algorithm"
      ]
    },
    {
      "cell_type": "code",
      "metadata": {
        "colab": {
          "base_uri": "https://localhost:8080/"
        },
        "id": "eR6hkvmYLG94",
        "outputId": "580260d6-3ed2-4e76-9d2d-30c606d9f74d"
      },
      "source": [
        "%%time\n",
        "# building and testing svm model\n",
        "from sklearn.svm import LinearSVC\n",
        "svm_model = LinearSVC(random_state = 0)\n",
        "svm_model.fit(X_train, Y_train)\n",
        "y_test_pred = svm_model.predict(X_test)"
      ],
      "execution_count": 186,
      "outputs": [
        {
          "output_type": "stream",
          "name": "stdout",
          "text": [
            "CPU times: user 4.48 s, sys: 20.8 ms, total: 4.5 s\n",
            "Wall time: 4.5 s\n"
          ]
        }
      ]
    },
    {
      "cell_type": "code",
      "source": [
        "# save the classifier\n",
        "with open('svm_classifier.pkl', 'wb') as fid:\n",
        "    cPickle.dump(svm_model, fid)    "
      ],
      "metadata": {
        "id": "p0bgf0lrm26x"
      },
      "execution_count": 187,
      "outputs": []
    },
    {
      "cell_type": "code",
      "metadata": {
        "colab": {
          "base_uri": "https://localhost:8080/"
        },
        "id": "ehZI5AnC-ro0",
        "outputId": "a8dc2647-29c4-4076-a45f-b51c3ebb12a5"
      },
      "source": [
        "# testing the results\n",
        "results[\"svm\"] = classification_report(Y_test, y_test_pred, output_dict = True)\n",
        "results[\"svm\"]"
      ],
      "execution_count": 188,
      "outputs": [
        {
          "output_type": "execute_result",
          "data": {
            "text/plain": [
              "{'0': {'f1-score': 0.978715512568119,\n",
              "  'precision': 0.9705466274332277,\n",
              "  'recall': 0.9870230764804051,\n",
              "  'support': 34754},\n",
              " '1': {'f1-score': 0.8177376007818224,\n",
              "  'precision': 0.8812532912058978,\n",
              "  'recall': 0.7627620783956244,\n",
              "  'support': 4388},\n",
              " 'accuracy': 0.9618823769863574,\n",
              " 'macro avg': {'f1-score': 0.8982265566749708,\n",
              "  'precision': 0.9258999593195627,\n",
              "  'recall': 0.8748925774380147,\n",
              "  'support': 39142},\n",
              " 'weighted avg': {'f1-score': 0.9606691409744786,\n",
              "  'precision': 0.960536429707881,\n",
              "  'recall': 0.9618823769863574,\n",
              "  'support': 39142}}"
            ]
          },
          "metadata": {},
          "execution_count": 188
        }
      ]
    },
    {
      "cell_type": "markdown",
      "metadata": {
        "id": "SUCwy4o0QQko"
      },
      "source": [
        "### Logistic regression"
      ]
    },
    {
      "cell_type": "code",
      "metadata": {
        "colab": {
          "base_uri": "https://localhost:8080/"
        },
        "id": "1lcueJT1MRjC",
        "outputId": "a7faa34b-11b1-43df-e886-1cea5169c2ca"
      },
      "source": [
        "%%time\n",
        "# building and testing logistic reggression model\n",
        "\n",
        "from sklearn.linear_model import LogisticRegression\n",
        "lr_model = LogisticRegression(max_iter = 1000, solver='saga')\n",
        "lr_model.fit(X_train, Y_train)\n",
        "y_test_pred = lr_model.predict(X_test)"
      ],
      "execution_count": 189,
      "outputs": [
        {
          "output_type": "stream",
          "name": "stdout",
          "text": [
            "CPU times: user 9.46 s, sys: 18.7 ms, total: 9.47 s\n",
            "Wall time: 9.45 s\n"
          ]
        }
      ]
    },
    {
      "cell_type": "code",
      "metadata": {
        "colab": {
          "base_uri": "https://localhost:8080/"
        },
        "id": "NO7giiEEMeSY",
        "outputId": "ca4fa223-14a8-43c0-98c7-e2b8765410f9"
      },
      "source": [
        "# testing the results\n",
        "results[\"lr\"] = classification_report(Y_test, y_test_pred,output_dict=True)\n",
        "results[\"lr\"]"
      ],
      "execution_count": 190,
      "outputs": [
        {
          "output_type": "execute_result",
          "data": {
            "text/plain": [
              "{'0': {'f1-score': 0.973490364631198,\n",
              "  'precision': 0.9569701181375956,\n",
              "  'recall': 0.9905910111066352,\n",
              "  'support': 34754},\n",
              " '1': {'f1-score': 0.7518199867637327,\n",
              "  'precision': 0.8967477107672877,\n",
              "  'recall': 0.6472196900638104,\n",
              "  'support': 4388},\n",
              " 'accuracy': 0.9520974911859383,\n",
              " 'macro avg': {'f1-score': 0.8626551756974654,\n",
              "  'precision': 0.9268589144524416,\n",
              "  'recall': 0.8189053505852228,\n",
              "  'support': 39142},\n",
              " 'weighted avg': {'f1-score': 0.9486400856959767,\n",
              "  'precision': 0.9502189065607494,\n",
              "  'recall': 0.9520974911859383,\n",
              "  'support': 39142}}"
            ]
          },
          "metadata": {},
          "execution_count": 190
        }
      ]
    },
    {
      "cell_type": "markdown",
      "metadata": {
        "id": "PbdLVRrbQca-"
      },
      "source": [
        "### Bayes Naive Classifier"
      ]
    },
    {
      "cell_type": "code",
      "metadata": {
        "colab": {
          "base_uri": "https://localhost:8080/"
        },
        "id": "VhxLtZp0Qbso",
        "outputId": "3c6b4661-0cca-45c6-e664-47ec08a01b3f"
      },
      "source": [
        "%%time\n",
        "# building and testing naive bayes classifier model\n",
        "\n",
        "from sklearn.naive_bayes import MultinomialNB\n",
        "nb_model = MultinomialNB()\n",
        "nb_model.fit(X_train, Y_train)\n",
        "y_test_pred = nb_model.predict(X_test)"
      ],
      "execution_count": 191,
      "outputs": [
        {
          "output_type": "stream",
          "name": "stdout",
          "text": [
            "CPU times: user 161 ms, sys: 4.02 ms, total: 165 ms\n",
            "Wall time: 163 ms\n"
          ]
        }
      ]
    },
    {
      "cell_type": "code",
      "metadata": {
        "colab": {
          "base_uri": "https://localhost:8080/"
        },
        "id": "yvM3FfwLspLX",
        "outputId": "7a013fcb-c6fa-4775-be0a-f231c1d60bf0"
      },
      "source": [
        "# testing the results\n",
        "results[\"nb\"] = classification_report(Y_test, y_test_pred,output_dict=True)\n",
        "results[\"nb\"]"
      ],
      "execution_count": 192,
      "outputs": [
        {
          "output_type": "execute_result",
          "data": {
            "text/plain": [
              "{'0': {'f1-score': 0.9606460639137844,\n",
              "  'precision': 0.926222720837674,\n",
              "  'recall': 0.9977268803590954,\n",
              "  'support': 34754},\n",
              " '1': {'f1-score': 0.533727227966519,\n",
              "  'precision': 0.9536656891495601,\n",
              "  'recall': 0.3705560619872379,\n",
              "  'support': 4388},\n",
              " 'accuracy': 0.9274181186449338,\n",
              " 'macro avg': {'f1-score': 0.7471866459401517,\n",
              "  'precision': 0.9399442049936171,\n",
              "  'recall': 0.6841414711731666,\n",
              "  'support': 39142},\n",
              " 'weighted avg': {'f1-score': 0.9127864795252351,\n",
              "  'precision': 0.9292992050477951,\n",
              "  'recall': 0.9274181186449338,\n",
              "  'support': 39142}}"
            ]
          },
          "metadata": {},
          "execution_count": 192
        }
      ]
    },
    {
      "cell_type": "markdown",
      "metadata": {
        "id": "is7mircOt09p"
      },
      "source": [
        "### Comparison"
      ]
    },
    {
      "cell_type": "code",
      "metadata": {
        "colab": {
          "base_uri": "https://localhost:8080/"
        },
        "id": "LrlkTV-Nt3Aa",
        "outputId": "5cc019ce-e422-4651-fba1-d4e470b5fa7b"
      },
      "source": [
        "# printing cumulative results\n",
        "import json\n",
        "print(json.dumps(results, indent=4))"
      ],
      "execution_count": 193,
      "outputs": [
        {
          "output_type": "stream",
          "name": "stdout",
          "text": [
            "{\n",
            "    \"svm\": {\n",
            "        \"0\": {\n",
            "            \"precision\": 0.9705466274332277,\n",
            "            \"recall\": 0.9870230764804051,\n",
            "            \"f1-score\": 0.978715512568119,\n",
            "            \"support\": 34754\n",
            "        },\n",
            "        \"1\": {\n",
            "            \"precision\": 0.8812532912058978,\n",
            "            \"recall\": 0.7627620783956244,\n",
            "            \"f1-score\": 0.8177376007818224,\n",
            "            \"support\": 4388\n",
            "        },\n",
            "        \"accuracy\": 0.9618823769863574,\n",
            "        \"macro avg\": {\n",
            "            \"precision\": 0.9258999593195627,\n",
            "            \"recall\": 0.8748925774380147,\n",
            "            \"f1-score\": 0.8982265566749708,\n",
            "            \"support\": 39142\n",
            "        },\n",
            "        \"weighted avg\": {\n",
            "            \"precision\": 0.960536429707881,\n",
            "            \"recall\": 0.9618823769863574,\n",
            "            \"f1-score\": 0.9606691409744786,\n",
            "            \"support\": 39142\n",
            "        }\n",
            "    },\n",
            "    \"lr\": {\n",
            "        \"0\": {\n",
            "            \"precision\": 0.9569701181375956,\n",
            "            \"recall\": 0.9905910111066352,\n",
            "            \"f1-score\": 0.973490364631198,\n",
            "            \"support\": 34754\n",
            "        },\n",
            "        \"1\": {\n",
            "            \"precision\": 0.8967477107672877,\n",
            "            \"recall\": 0.6472196900638104,\n",
            "            \"f1-score\": 0.7518199867637327,\n",
            "            \"support\": 4388\n",
            "        },\n",
            "        \"accuracy\": 0.9520974911859383,\n",
            "        \"macro avg\": {\n",
            "            \"precision\": 0.9268589144524416,\n",
            "            \"recall\": 0.8189053505852228,\n",
            "            \"f1-score\": 0.8626551756974654,\n",
            "            \"support\": 39142\n",
            "        },\n",
            "        \"weighted avg\": {\n",
            "            \"precision\": 0.9502189065607494,\n",
            "            \"recall\": 0.9520974911859383,\n",
            "            \"f1-score\": 0.9486400856959767,\n",
            "            \"support\": 39142\n",
            "        }\n",
            "    },\n",
            "    \"nb\": {\n",
            "        \"0\": {\n",
            "            \"precision\": 0.926222720837674,\n",
            "            \"recall\": 0.9977268803590954,\n",
            "            \"f1-score\": 0.9606460639137844,\n",
            "            \"support\": 34754\n",
            "        },\n",
            "        \"1\": {\n",
            "            \"precision\": 0.9536656891495601,\n",
            "            \"recall\": 0.3705560619872379,\n",
            "            \"f1-score\": 0.533727227966519,\n",
            "            \"support\": 4388\n",
            "        },\n",
            "        \"accuracy\": 0.9274181186449338,\n",
            "        \"macro avg\": {\n",
            "            \"precision\": 0.9399442049936171,\n",
            "            \"recall\": 0.6841414711731666,\n",
            "            \"f1-score\": 0.7471866459401517,\n",
            "            \"support\": 39142\n",
            "        },\n",
            "        \"weighted avg\": {\n",
            "            \"precision\": 0.9292992050477951,\n",
            "            \"recall\": 0.9274181186449338,\n",
            "            \"f1-score\": 0.9127864795252351,\n",
            "            \"support\": 39142\n",
            "        }\n",
            "    }\n",
            "}\n"
          ]
        }
      ]
    },
    {
      "cell_type": "markdown",
      "source": [
        "### Conclusions"
      ],
      "metadata": {
        "id": "GG9CkeD4n6DS"
      }
    },
    {
      "cell_type": "markdown",
      "metadata": {
        "id": "HgBObBvFt7N_"
      },
      "source": [
        "Naive Bayer Classifier and Logistic Regression are just a no-no for this task. They total missperform and are useless in this task with this dataset.\n",
        "\n",
        "SVM seems to be an okay option. It does not give superior results but f1 scores oscilating within the 0.9 mark are acceptable for this kind of PoC with such a limited time bounds. We also appreciete the easiness of use of the SVM method and the fact that it trains within seconds (not hours like neural network that will be presented below)."
      ]
    },
    {
      "cell_type": "markdown",
      "metadata": {
        "id": "WG_K_zGUwSUg"
      },
      "source": [
        "As we are not fully satisfied with the results provided by SVM, in the next part of this paper we will proceed to build a neural network as it may be more useful detecting e.g. sarcasm and other hidden meanings in the text.\n",
        "\n",
        "For now we think that SVM performed the best and if any, would suggest using SVM for further reseach :)"
      ]
    },
    {
      "cell_type": "code",
      "source": [
        "####HOW TO USE IN THE API####\n",
        "from sklearn.feature_extraction.text import TfidfVectorizer\n",
        "import _pickle as cPickle\n",
        "\n",
        "# the main preprocessing pipeline\n",
        "import re\n",
        "import nltk\n",
        "import string\n",
        "from nltk.corpus import stopwords\n",
        "from nltk.stem import WordNetLemmatizer\n",
        "nltk.download('punkt')\n",
        "nltk.download('stopwords')\n",
        "nltk.download('wordnet')\n",
        "\n",
        "def contractions(s):\n",
        " s = re.sub(r\"won't\", \"will not\",s)\n",
        " s = re.sub(r\"would't\", \"would not\",s)\n",
        " s = re.sub(r\"could't\", \"could not\",s)\n",
        " s = re.sub(r\"\\'d\", \" would\",s)\n",
        " s = re.sub(r\"can\\'t\", \"can not\",s)\n",
        " s = re.sub(r\"n\\'t\", \" not\", s)\n",
        " s = re.sub(r\"\\'re\", \" are\", s)\n",
        " s = re.sub(r\"\\'s\", \" is\", s)\n",
        " s = re.sub(r\"\\'ll\", \" will\", s)\n",
        " s = re.sub(r\"\\'t\", \" not\", s)\n",
        " s = re.sub(r\"\\'ve\", \" have\", s)\n",
        " s = re.sub(r\"\\'m\", \" am\", s)\n",
        " return s\n",
        "\n",
        "def preprocess(sentence):\n",
        "  sentence = contractions(sentence.lower())\n",
        "  sentence = ' '.join(''.join(' ' if c in string.punctuation else c for c in sentence).split())\n",
        "  sentence = re.sub(' +', ' ', sentence)\n",
        "  stop = stopwords.words('english')\n",
        "  sentence =  ' '.join([sentence for sentence in sentence.split() if sentence not in stop])\n",
        "  lemmatizer = WordNetLemmatizer()\n",
        "  sentence = ' '.join([lemmatizer.lemmatize(w) for w in nltk.word_tokenize(sentence)])\n",
        "  return sentence\n",
        "\n",
        "with open('vectorizer.pkl', 'rb') as fid:\n",
        "    vectorizer = cPickle.load(fid)\n",
        "with open('svm_classifier.pkl', 'rb') as fid:\n",
        "    svm_model = cPickle.load(fid)\n",
        "sentence = \"i can't believe how stupid u are\"\n",
        "sentence = preprocess(sentence)\n",
        "X_test_ = vectorizer.transform([sentence])\n",
        "y_test_pred_ = svm_model.predict(X_test_)\n",
        "print(\"prediction: {}\".format(y_test_pred_[0]))"
      ],
      "metadata": {
        "colab": {
          "base_uri": "https://localhost:8080/"
        },
        "id": "tJgm62U5vjMM",
        "outputId": "b676f3ca-3f71-483a-c710-769dfddb31bd"
      },
      "execution_count": 198,
      "outputs": [
        {
          "output_type": "stream",
          "name": "stdout",
          "text": [
            "[nltk_data] Downloading package punkt to /root/nltk_data...\n",
            "[nltk_data]   Package punkt is already up-to-date!\n",
            "[nltk_data] Downloading package stopwords to /root/nltk_data...\n",
            "[nltk_data]   Package stopwords is already up-to-date!\n",
            "[nltk_data] Downloading package wordnet to /root/nltk_data...\n",
            "[nltk_data]   Package wordnet is already up-to-date!\n",
            "prediction: 1\n"
          ]
        }
      ]
    },
    {
      "cell_type": "markdown",
      "source": [
        "# Neural Networks"
      ],
      "metadata": {
        "id": "uJcGqXTwolZp"
      }
    },
    {
      "cell_type": "code",
      "source": [
        "######neural network coming soon#######"
      ],
      "metadata": {
        "id": "InSZxIZUokhE"
      },
      "execution_count": null,
      "outputs": []
    },
    {
      "cell_type": "markdown",
      "metadata": {
        "id": "r_me20B2WJnd"
      },
      "source": [
        "# That's it :)\n",
        "\n",
        "This would probably wrap up our analysis for now we guess.\n",
        "\n",
        "We wanted to do some more cool stuff with the data but we think that this document is getting too long anyways.\n",
        "\n",
        "Have a nice day :))"
      ]
    }
  ]
}