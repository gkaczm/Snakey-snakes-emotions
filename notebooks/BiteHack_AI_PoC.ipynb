{
  "nbformat": 4,
  "nbformat_minor": 0,
  "metadata": {
    "colab": {
      "name": "Wędzone Węże.ipynb",
      "provenance": [],
      "collapsed_sections": [
        "bqk79s4DXgwx",
        "SUCwy4o0QQko",
        "PbdLVRrbQca-",
        "is7mircOt09p"
      ]
    },
    "kernelspec": {
      "name": "python3",
      "display_name": "Python 3"
    },
    "language_info": {
      "name": "python"
    },
    "accelerator": "GPU"
  },
  "cells": [
    {
      "cell_type": "markdown",
      "metadata": {
        "id": "8VKYeoGFPTA8"
      },
      "source": [
        "# Helployee - a tool to monitor mobbing in the enterprises\n",
        "## Brought to you by Snakey Snakes, January 2022\n",
        "\n",
        "In this notebook we will present to you the *Helployee*. A tool to keep the employees safe and sound at the workplace. Keep in mind that this is just an Proof of Concept (PoC) that may be extended for future purposes. \n",
        "\n",
        "We will use vector methods and neural networks to solve the problem.*kursywa*"
      ]
    },
    {
      "cell_type": "markdown",
      "source": [
        "# Introductory steps"
      ],
      "metadata": {
        "id": "bqk79s4DXgwx"
      }
    },
    {
      "cell_type": "markdown",
      "metadata": {
        "id": "UZsIbrPMPtFx"
      },
      "source": [
        "## Loading the data"
      ]
    },
    {
      "cell_type": "markdown",
      "metadata": {
        "id": "JXMPvxh_Qvh4"
      },
      "source": [
        "First, we uploaded the data to Google Drive and mounted the colab notebook to Drive. We will extract data from the csvs from Drive and see the contents of directory.\n",
        "\n",
        "The directory that we have created on my Google Drive is \"snakey snakes\""
      ]
    },
    {
      "cell_type": "code",
      "source": [
        "from google.colab import drive\n",
        "drive.mount('/content/drive')"
      ],
      "metadata": {
        "colab": {
          "base_uri": "https://localhost:8080/"
        },
        "id": "4gWfDUdyj2aH",
        "outputId": "98085dbb-fe1a-4018-95f9-ac87bd527a1e"
      },
      "execution_count": 1,
      "outputs": [
        {
          "output_type": "stream",
          "name": "stdout",
          "text": [
            "Mounted at /content/drive\n"
          ]
        }
      ]
    },
    {
      "cell_type": "code",
      "metadata": {
        "id": "aulA5K4qNzPe"
      },
      "source": [
        "# changing active directory\n",
        "import os\n",
        "os.chdir(\"/content/drive/MyDrive/snakey snakes\")"
      ],
      "execution_count": 3,
      "outputs": []
    },
    {
      "cell_type": "code",
      "metadata": {
        "colab": {
          "base_uri": "https://localhost:8080/"
        },
        "id": "H9DHmJwgQ95d",
        "outputId": "71d6b2b6-076d-45fa-d2f8-ac19f1cf7f82"
      },
      "source": [
        "# printing contents of the extracted directory\n",
        "print(os.listdir(os.getcwd() + \"/data\"))"
      ],
      "execution_count": 4,
      "outputs": [
        {
          "output_type": "stream",
          "name": "stdout",
          "text": [
            "['aggression_parsed_dataset.csv', 'toxicity_parsed_dataset.csv']\n"
          ]
        }
      ]
    },
    {
      "cell_type": "code",
      "metadata": {
        "colab": {
          "base_uri": "https://localhost:8080/"
        },
        "id": "xUOU1sPeOZ1b",
        "outputId": "11b7b772-ce1a-444d-fdee-0f5b9a9b6505"
      },
      "source": [
        "# printing first row (header) from training sets to understend the structure\n",
        "with open(\"data/toxicity_parsed_dataset.csv\") as f:\n",
        "    print(f.readline())"
      ],
      "execution_count": 5,
      "outputs": [
        {
          "output_type": "stream",
          "name": "stdout",
          "text": [
            "index,Text,ed_label_0,ed_label_1,oh_label\n",
            "\n"
          ]
        }
      ]
    },
    {
      "cell_type": "markdown",
      "metadata": {
        "id": "wQl0UccEPbQA"
      },
      "source": [
        "The data contains 5 columns. The ones that interest us is the second one (Text) and the last one (oh_label). Text is the document that we are analysing. Oh_label is the label that we are predicting (1 - suspicious, 0 - nonsuspicious)\n",
        "\n",
        "We are kind of worried about the dataset. It is kind of low-quality (here we would like to remind the basic ML law: SISO, shit in shit out) and the results may be not that great. Nevertheless, this is the best that we could find for this PoC. But no worries - we will manage it!"
      ]
    },
    {
      "cell_type": "markdown",
      "metadata": {
        "id": "rYl_2H5XQF8o"
      },
      "source": [
        "## Building pandas data frames"
      ]
    },
    {
      "cell_type": "markdown",
      "metadata": {
        "id": "0htcDAmESE0W"
      },
      "source": [
        "For data processing we have decided to use pandas to handle data. Pandas is not a speed demon but this dataset is not that huge.\n",
        "\n",
        "In the next few cells, we will load  files to pandas data frames and transform them to result in a training and test data frame for further analysis."
      ]
    },
    {
      "cell_type": "code",
      "metadata": {
        "id": "8Ffp5oNHPIvv"
      },
      "source": [
        "# importing pandas\n",
        "import pandas as pd"
      ],
      "execution_count": 6,
      "outputs": []
    },
    {
      "cell_type": "code",
      "source": [
        "train_ = pd.read_csv(\"data/toxicity_parsed_dataset.csv\", encoding='latin1')\n",
        "train_ = pd.concat([train_, pd.read_csv(\"data/aggression_parsed_dataset.csv\", encoding='latin1')], ignore_index = True)\n",
        "train_"
      ],
      "metadata": {
        "colab": {
          "base_uri": "https://localhost:8080/",
          "height": 623
        },
        "id": "vqDVkDM_6VXK",
        "outputId": "1cbfa1f0-0c15-4619-93a6-2dacd3f717f2"
      },
      "execution_count": 7,
      "outputs": [
        {
          "output_type": "execute_result",
          "data": {
            "text/html": [
              "\n",
              "  <div id=\"df-d8e88b63-39b7-439f-b10c-29c76673cb32\">\n",
              "    <div class=\"colab-df-container\">\n",
              "      <div>\n",
              "<style scoped>\n",
              "    .dataframe tbody tr th:only-of-type {\n",
              "        vertical-align: middle;\n",
              "    }\n",
              "\n",
              "    .dataframe tbody tr th {\n",
              "        vertical-align: top;\n",
              "    }\n",
              "\n",
              "    .dataframe thead th {\n",
              "        text-align: right;\n",
              "    }\n",
              "</style>\n",
              "<table border=\"1\" class=\"dataframe\">\n",
              "  <thead>\n",
              "    <tr style=\"text-align: right;\">\n",
              "      <th></th>\n",
              "      <th>index</th>\n",
              "      <th>Text</th>\n",
              "      <th>ed_label_0</th>\n",
              "      <th>ed_label_1</th>\n",
              "      <th>oh_label</th>\n",
              "    </tr>\n",
              "  </thead>\n",
              "  <tbody>\n",
              "    <tr>\n",
              "      <th>0</th>\n",
              "      <td>0</td>\n",
              "      <td>This: :One can make an analogy in mathematical...</td>\n",
              "      <td>0.900000</td>\n",
              "      <td>0.100000</td>\n",
              "      <td>0</td>\n",
              "    </tr>\n",
              "    <tr>\n",
              "      <th>1</th>\n",
              "      <td>1</td>\n",
              "      <td>`  :Clarification for you  (and Zundark's righ...</td>\n",
              "      <td>1.000000</td>\n",
              "      <td>0.000000</td>\n",
              "      <td>0</td>\n",
              "    </tr>\n",
              "    <tr>\n",
              "      <th>2</th>\n",
              "      <td>2</td>\n",
              "      <td>Elected or Electoral? JHK</td>\n",
              "      <td>1.000000</td>\n",
              "      <td>0.000000</td>\n",
              "      <td>0</td>\n",
              "    </tr>\n",
              "    <tr>\n",
              "      <th>3</th>\n",
              "      <td>3</td>\n",
              "      <td>`This is such a fun entry.   Devotchka  I once...</td>\n",
              "      <td>1.000000</td>\n",
              "      <td>0.000000</td>\n",
              "      <td>0</td>\n",
              "    </tr>\n",
              "    <tr>\n",
              "      <th>4</th>\n",
              "      <td>4</td>\n",
              "      <td>Please relate the ozone hole to increases in c...</td>\n",
              "      <td>0.800000</td>\n",
              "      <td>0.200000</td>\n",
              "      <td>0</td>\n",
              "    </tr>\n",
              "    <tr>\n",
              "      <th>...</th>\n",
              "      <td>...</td>\n",
              "      <td>...</td>\n",
              "      <td>...</td>\n",
              "      <td>...</td>\n",
              "      <td>...</td>\n",
              "    </tr>\n",
              "    <tr>\n",
              "      <th>275545</th>\n",
              "      <td>115859</td>\n",
              "      <td>`   These sources don't exactly exude a sense ...</td>\n",
              "      <td>0.777778</td>\n",
              "      <td>0.222222</td>\n",
              "      <td>0</td>\n",
              "    </tr>\n",
              "    <tr>\n",
              "      <th>275546</th>\n",
              "      <td>115860</td>\n",
              "      <td>The Institute for Historical Review is a pee...</td>\n",
              "      <td>1.000000</td>\n",
              "      <td>0.000000</td>\n",
              "      <td>0</td>\n",
              "    </tr>\n",
              "    <tr>\n",
              "      <th>275547</th>\n",
              "      <td>115861</td>\n",
              "      <td>:The way you're trying to describe it in this...</td>\n",
              "      <td>1.000000</td>\n",
              "      <td>0.000000</td>\n",
              "      <td>0</td>\n",
              "    </tr>\n",
              "    <tr>\n",
              "      <th>275548</th>\n",
              "      <td>115862</td>\n",
              "      <td>== Warning ==  There is clearly a protection...</td>\n",
              "      <td>0.500000</td>\n",
              "      <td>0.500000</td>\n",
              "      <td>0</td>\n",
              "    </tr>\n",
              "    <tr>\n",
              "      <th>275549</th>\n",
              "      <td>115863</td>\n",
              "      <td>Alternate option=== Is there perhaps enough ne...</td>\n",
              "      <td>1.000000</td>\n",
              "      <td>0.000000</td>\n",
              "      <td>0</td>\n",
              "    </tr>\n",
              "  </tbody>\n",
              "</table>\n",
              "<p>275550 rows × 5 columns</p>\n",
              "</div>\n",
              "      <button class=\"colab-df-convert\" onclick=\"convertToInteractive('df-d8e88b63-39b7-439f-b10c-29c76673cb32')\"\n",
              "              title=\"Convert this dataframe to an interactive table.\"\n",
              "              style=\"display:none;\">\n",
              "        \n",
              "  <svg xmlns=\"http://www.w3.org/2000/svg\" height=\"24px\"viewBox=\"0 0 24 24\"\n",
              "       width=\"24px\">\n",
              "    <path d=\"M0 0h24v24H0V0z\" fill=\"none\"/>\n",
              "    <path d=\"M18.56 5.44l.94 2.06.94-2.06 2.06-.94-2.06-.94-.94-2.06-.94 2.06-2.06.94zm-11 1L8.5 8.5l.94-2.06 2.06-.94-2.06-.94L8.5 2.5l-.94 2.06-2.06.94zm10 10l.94 2.06.94-2.06 2.06-.94-2.06-.94-.94-2.06-.94 2.06-2.06.94z\"/><path d=\"M17.41 7.96l-1.37-1.37c-.4-.4-.92-.59-1.43-.59-.52 0-1.04.2-1.43.59L10.3 9.45l-7.72 7.72c-.78.78-.78 2.05 0 2.83L4 21.41c.39.39.9.59 1.41.59.51 0 1.02-.2 1.41-.59l7.78-7.78 2.81-2.81c.8-.78.8-2.07 0-2.86zM5.41 20L4 18.59l7.72-7.72 1.47 1.35L5.41 20z\"/>\n",
              "  </svg>\n",
              "      </button>\n",
              "      \n",
              "  <style>\n",
              "    .colab-df-container {\n",
              "      display:flex;\n",
              "      flex-wrap:wrap;\n",
              "      gap: 12px;\n",
              "    }\n",
              "\n",
              "    .colab-df-convert {\n",
              "      background-color: #E8F0FE;\n",
              "      border: none;\n",
              "      border-radius: 50%;\n",
              "      cursor: pointer;\n",
              "      display: none;\n",
              "      fill: #1967D2;\n",
              "      height: 32px;\n",
              "      padding: 0 0 0 0;\n",
              "      width: 32px;\n",
              "    }\n",
              "\n",
              "    .colab-df-convert:hover {\n",
              "      background-color: #E2EBFA;\n",
              "      box-shadow: 0px 1px 2px rgba(60, 64, 67, 0.3), 0px 1px 3px 1px rgba(60, 64, 67, 0.15);\n",
              "      fill: #174EA6;\n",
              "    }\n",
              "\n",
              "    [theme=dark] .colab-df-convert {\n",
              "      background-color: #3B4455;\n",
              "      fill: #D2E3FC;\n",
              "    }\n",
              "\n",
              "    [theme=dark] .colab-df-convert:hover {\n",
              "      background-color: #434B5C;\n",
              "      box-shadow: 0px 1px 3px 1px rgba(0, 0, 0, 0.15);\n",
              "      filter: drop-shadow(0px 1px 2px rgba(0, 0, 0, 0.3));\n",
              "      fill: #FFFFFF;\n",
              "    }\n",
              "  </style>\n",
              "\n",
              "      <script>\n",
              "        const buttonEl =\n",
              "          document.querySelector('#df-d8e88b63-39b7-439f-b10c-29c76673cb32 button.colab-df-convert');\n",
              "        buttonEl.style.display =\n",
              "          google.colab.kernel.accessAllowed ? 'block' : 'none';\n",
              "\n",
              "        async function convertToInteractive(key) {\n",
              "          const element = document.querySelector('#df-d8e88b63-39b7-439f-b10c-29c76673cb32');\n",
              "          const dataTable =\n",
              "            await google.colab.kernel.invokeFunction('convertToInteractive',\n",
              "                                                     [key], {});\n",
              "          if (!dataTable) return;\n",
              "\n",
              "          const docLinkHtml = 'Like what you see? Visit the ' +\n",
              "            '<a target=\"_blank\" href=https://colab.research.google.com/notebooks/data_table.ipynb>data table notebook</a>'\n",
              "            + ' to learn more about interactive tables.';\n",
              "          element.innerHTML = '';\n",
              "          dataTable['output_type'] = 'display_data';\n",
              "          await google.colab.output.renderOutput(dataTable, element);\n",
              "          const docLink = document.createElement('div');\n",
              "          docLink.innerHTML = docLinkHtml;\n",
              "          element.appendChild(docLink);\n",
              "        }\n",
              "      </script>\n",
              "    </div>\n",
              "  </div>\n",
              "  "
            ],
            "text/plain": [
              "         index  ... oh_label\n",
              "0            0  ...        0\n",
              "1            1  ...        0\n",
              "2            2  ...        0\n",
              "3            3  ...        0\n",
              "4            4  ...        0\n",
              "...        ...  ...      ...\n",
              "275545  115859  ...        0\n",
              "275546  115860  ...        0\n",
              "275547  115861  ...        0\n",
              "275548  115862  ...        0\n",
              "275549  115863  ...        0\n",
              "\n",
              "[275550 rows x 5 columns]"
            ]
          },
          "metadata": {},
          "execution_count": 7
        }
      ]
    },
    {
      "cell_type": "code",
      "source": [
        "print(\"How many suspicious examples: {}\".format(train_[\"oh_label\"].sum()))"
      ],
      "metadata": {
        "colab": {
          "base_uri": "https://localhost:8080/"
        },
        "id": "Dcimw4QG61HI",
        "outputId": "da788720-e494-4b7d-b9c6-29652a59610e"
      },
      "execution_count": 8,
      "outputs": [
        {
          "output_type": "stream",
          "name": "stdout",
          "text": [
            "How many suspicious examples: 30144\n"
          ]
        }
      ]
    },
    {
      "cell_type": "code",
      "source": [
        "# preliminary data cleaning\n",
        "train_['Text'] = train_['Text'].str.replace('http\\S+|www.\\S+|@\\S+', '', case=False) #remove mentions and urls\n",
        "train = train_.loc[:,[\"Text\", \"oh_label\"]]\n",
        "train.columns = [\"text\", \"suspicious\"]"
      ],
      "metadata": {
        "id": "Pk6z3eqO7YuH"
      },
      "execution_count": 9,
      "outputs": []
    },
    {
      "cell_type": "code",
      "metadata": {
        "colab": {
          "base_uri": "https://localhost:8080/",
          "height": 423
        },
        "id": "Zl6RnK2GTQ1n",
        "outputId": "c8a56b6f-d970-4c81-bf1f-2ab930c7f35b"
      },
      "source": [
        "# shuffling the dataset\n",
        "from sklearn.utils import shuffle\n",
        "train = shuffle(train)\n",
        "train.head()\n",
        "train"
      ],
      "execution_count": 10,
      "outputs": [
        {
          "output_type": "execute_result",
          "data": {
            "text/html": [
              "\n",
              "  <div id=\"df-63c78bc8-8b35-4aa8-a47b-85f7ad0cb4f1\">\n",
              "    <div class=\"colab-df-container\">\n",
              "      <div>\n",
              "<style scoped>\n",
              "    .dataframe tbody tr th:only-of-type {\n",
              "        vertical-align: middle;\n",
              "    }\n",
              "\n",
              "    .dataframe tbody tr th {\n",
              "        vertical-align: top;\n",
              "    }\n",
              "\n",
              "    .dataframe thead th {\n",
              "        text-align: right;\n",
              "    }\n",
              "</style>\n",
              "<table border=\"1\" class=\"dataframe\">\n",
              "  <thead>\n",
              "    <tr style=\"text-align: right;\">\n",
              "      <th></th>\n",
              "      <th>text</th>\n",
              "      <th>suspicious</th>\n",
              "    </tr>\n",
              "  </thead>\n",
              "  <tbody>\n",
              "    <tr>\n",
              "      <th>39063</th>\n",
              "      <td>: Thanks for the explanation!</td>\n",
              "      <td>0</td>\n",
              "    </tr>\n",
              "    <tr>\n",
              "      <th>53633</th>\n",
              "      <td>:I'm sure it was worth every penny... â</td>\n",
              "      <td>0</td>\n",
              "    </tr>\n",
              "    <tr>\n",
              "      <th>274393</th>\n",
              "      <td>`:Hi,  â thank you for discussing this, alth...</td>\n",
              "      <td>0</td>\n",
              "    </tr>\n",
              "    <tr>\n",
              "      <th>199098</th>\n",
              "      <td>` :::::::Sorry, but Cambridge does not define ...</td>\n",
              "      <td>0</td>\n",
              "    </tr>\n",
              "    <tr>\n",
              "      <th>117739</th>\n",
              "      <td>, and is less cheesecake than the one from BeC...</td>\n",
              "      <td>0</td>\n",
              "    </tr>\n",
              "    <tr>\n",
              "      <th>...</th>\n",
              "      <td>...</td>\n",
              "      <td>...</td>\n",
              "    </tr>\n",
              "    <tr>\n",
              "      <th>97588</th>\n",
              "      <td>== Cafe World ==  We need to make a article...</td>\n",
              "      <td>0</td>\n",
              "    </tr>\n",
              "    <tr>\n",
              "      <th>90494</th>\n",
              "      <td>`  == Thank you ==  Hello and thank you for re...</td>\n",
              "      <td>0</td>\n",
              "    </tr>\n",
              "    <tr>\n",
              "      <th>78581</th>\n",
              "      <td>` ::::``you Will be blocked`` is much differen...</td>\n",
              "      <td>0</td>\n",
              "    </tr>\n",
              "    <tr>\n",
              "      <th>139406</th>\n",
              "      <td>Thank you for asking, but I'm not sure I real...</td>\n",
              "      <td>0</td>\n",
              "    </tr>\n",
              "    <tr>\n",
              "      <th>92202</th>\n",
              "      <td>lTrades/archive14|December 2008 to February 2...</td>\n",
              "      <td>0</td>\n",
              "    </tr>\n",
              "  </tbody>\n",
              "</table>\n",
              "<p>275550 rows × 2 columns</p>\n",
              "</div>\n",
              "      <button class=\"colab-df-convert\" onclick=\"convertToInteractive('df-63c78bc8-8b35-4aa8-a47b-85f7ad0cb4f1')\"\n",
              "              title=\"Convert this dataframe to an interactive table.\"\n",
              "              style=\"display:none;\">\n",
              "        \n",
              "  <svg xmlns=\"http://www.w3.org/2000/svg\" height=\"24px\"viewBox=\"0 0 24 24\"\n",
              "       width=\"24px\">\n",
              "    <path d=\"M0 0h24v24H0V0z\" fill=\"none\"/>\n",
              "    <path d=\"M18.56 5.44l.94 2.06.94-2.06 2.06-.94-2.06-.94-.94-2.06-.94 2.06-2.06.94zm-11 1L8.5 8.5l.94-2.06 2.06-.94-2.06-.94L8.5 2.5l-.94 2.06-2.06.94zm10 10l.94 2.06.94-2.06 2.06-.94-2.06-.94-.94-2.06-.94 2.06-2.06.94z\"/><path d=\"M17.41 7.96l-1.37-1.37c-.4-.4-.92-.59-1.43-.59-.52 0-1.04.2-1.43.59L10.3 9.45l-7.72 7.72c-.78.78-.78 2.05 0 2.83L4 21.41c.39.39.9.59 1.41.59.51 0 1.02-.2 1.41-.59l7.78-7.78 2.81-2.81c.8-.78.8-2.07 0-2.86zM5.41 20L4 18.59l7.72-7.72 1.47 1.35L5.41 20z\"/>\n",
              "  </svg>\n",
              "      </button>\n",
              "      \n",
              "  <style>\n",
              "    .colab-df-container {\n",
              "      display:flex;\n",
              "      flex-wrap:wrap;\n",
              "      gap: 12px;\n",
              "    }\n",
              "\n",
              "    .colab-df-convert {\n",
              "      background-color: #E8F0FE;\n",
              "      border: none;\n",
              "      border-radius: 50%;\n",
              "      cursor: pointer;\n",
              "      display: none;\n",
              "      fill: #1967D2;\n",
              "      height: 32px;\n",
              "      padding: 0 0 0 0;\n",
              "      width: 32px;\n",
              "    }\n",
              "\n",
              "    .colab-df-convert:hover {\n",
              "      background-color: #E2EBFA;\n",
              "      box-shadow: 0px 1px 2px rgba(60, 64, 67, 0.3), 0px 1px 3px 1px rgba(60, 64, 67, 0.15);\n",
              "      fill: #174EA6;\n",
              "    }\n",
              "\n",
              "    [theme=dark] .colab-df-convert {\n",
              "      background-color: #3B4455;\n",
              "      fill: #D2E3FC;\n",
              "    }\n",
              "\n",
              "    [theme=dark] .colab-df-convert:hover {\n",
              "      background-color: #434B5C;\n",
              "      box-shadow: 0px 1px 3px 1px rgba(0, 0, 0, 0.15);\n",
              "      filter: drop-shadow(0px 1px 2px rgba(0, 0, 0, 0.3));\n",
              "      fill: #FFFFFF;\n",
              "    }\n",
              "  </style>\n",
              "\n",
              "      <script>\n",
              "        const buttonEl =\n",
              "          document.querySelector('#df-63c78bc8-8b35-4aa8-a47b-85f7ad0cb4f1 button.colab-df-convert');\n",
              "        buttonEl.style.display =\n",
              "          google.colab.kernel.accessAllowed ? 'block' : 'none';\n",
              "\n",
              "        async function convertToInteractive(key) {\n",
              "          const element = document.querySelector('#df-63c78bc8-8b35-4aa8-a47b-85f7ad0cb4f1');\n",
              "          const dataTable =\n",
              "            await google.colab.kernel.invokeFunction('convertToInteractive',\n",
              "                                                     [key], {});\n",
              "          if (!dataTable) return;\n",
              "\n",
              "          const docLinkHtml = 'Like what you see? Visit the ' +\n",
              "            '<a target=\"_blank\" href=https://colab.research.google.com/notebooks/data_table.ipynb>data table notebook</a>'\n",
              "            + ' to learn more about interactive tables.';\n",
              "          element.innerHTML = '';\n",
              "          dataTable['output_type'] = 'display_data';\n",
              "          await google.colab.output.renderOutput(dataTable, element);\n",
              "          const docLink = document.createElement('div');\n",
              "          docLink.innerHTML = docLinkHtml;\n",
              "          element.appendChild(docLink);\n",
              "        }\n",
              "      </script>\n",
              "    </div>\n",
              "  </div>\n",
              "  "
            ],
            "text/plain": [
              "                                                     text  suspicious\n",
              "39063                     : Thanks for the explanation!             0\n",
              "53633          :I'm sure it was worth every penny... â             0\n",
              "274393  `:Hi,  â thank you for discussing this, alth...           0\n",
              "199098  ` :::::::Sorry, but Cambridge does not define ...           0\n",
              "117739  , and is less cheesecake than the one from BeC...           0\n",
              "...                                                   ...         ...\n",
              "97588      == Cafe World ==  We need to make a article...           0\n",
              "90494   `  == Thank you ==  Hello and thank you for re...           0\n",
              "78581   ` ::::``you Will be blocked`` is much differen...           0\n",
              "139406   Thank you for asking, but I'm not sure I real...           0\n",
              "92202    lTrades/archive14|December 2008 to February 2...           0\n",
              "\n",
              "[275550 rows x 2 columns]"
            ]
          },
          "metadata": {},
          "execution_count": 10
        }
      ]
    },
    {
      "cell_type": "markdown",
      "metadata": {
        "id": "o8seOZX0-6ta"
      },
      "source": [
        "Next we will spilt train to train and test"
      ]
    },
    {
      "cell_type": "code",
      "metadata": {
        "colab": {
          "base_uri": "https://localhost:8080/",
          "height": 431
        },
        "id": "E94UjUTK-9Ob",
        "outputId": "d61eef09-1a5e-44f1-c672-8cd3d1e636e8"
      },
      "source": [
        "# building cumulative test data frame\n",
        "from sklearn.model_selection import train_test_split\n",
        "train, test = train_test_split(train, shuffle=False, test_size=0.1)\n",
        "display(test.head())\n",
        "print(\"Test length is {}\".format(len(test)))\n",
        "display(train.head())\n",
        "print(\"Train length is {}\".format(len(train)))"
      ],
      "execution_count": 11,
      "outputs": [
        {
          "output_type": "display_data",
          "data": {
            "text/html": [
              "\n",
              "  <div id=\"df-779e4556-2d58-4b0c-bb9d-6c596680b877\">\n",
              "    <div class=\"colab-df-container\">\n",
              "      <div>\n",
              "<style scoped>\n",
              "    .dataframe tbody tr th:only-of-type {\n",
              "        vertical-align: middle;\n",
              "    }\n",
              "\n",
              "    .dataframe tbody tr th {\n",
              "        vertical-align: top;\n",
              "    }\n",
              "\n",
              "    .dataframe thead th {\n",
              "        text-align: right;\n",
              "    }\n",
              "</style>\n",
              "<table border=\"1\" class=\"dataframe\">\n",
              "  <thead>\n",
              "    <tr style=\"text-align: right;\">\n",
              "      <th></th>\n",
              "      <th>text</th>\n",
              "      <th>suspicious</th>\n",
              "    </tr>\n",
              "  </thead>\n",
              "  <tbody>\n",
              "    <tr>\n",
              "      <th>249195</th>\n",
              "      <td>He's made yet another sock as FrankGrant.</td>\n",
              "      <td>0</td>\n",
              "    </tr>\n",
              "    <tr>\n",
              "      <th>57485</th>\n",
              "      <td>== Jimbo photo in Advertising Age magazine =...</td>\n",
              "      <td>0</td>\n",
              "    </tr>\n",
              "    <tr>\n",
              "      <th>264527</th>\n",
              "      <td>Established romanization conventions for vari...</td>\n",
              "      <td>0</td>\n",
              "    </tr>\n",
              "    <tr>\n",
              "      <th>134276</th>\n",
              "      <td>`  ==Climate Change Photo== Hello, obviously y...</td>\n",
              "      <td>0</td>\n",
              "    </tr>\n",
              "    <tr>\n",
              "      <th>42126</th>\n",
              "      <td>`  â ÎÅÅÅ Îµâ   u suck loser. go kill urs...</td>\n",
              "      <td>1</td>\n",
              "    </tr>\n",
              "  </tbody>\n",
              "</table>\n",
              "</div>\n",
              "      <button class=\"colab-df-convert\" onclick=\"convertToInteractive('df-779e4556-2d58-4b0c-bb9d-6c596680b877')\"\n",
              "              title=\"Convert this dataframe to an interactive table.\"\n",
              "              style=\"display:none;\">\n",
              "        \n",
              "  <svg xmlns=\"http://www.w3.org/2000/svg\" height=\"24px\"viewBox=\"0 0 24 24\"\n",
              "       width=\"24px\">\n",
              "    <path d=\"M0 0h24v24H0V0z\" fill=\"none\"/>\n",
              "    <path d=\"M18.56 5.44l.94 2.06.94-2.06 2.06-.94-2.06-.94-.94-2.06-.94 2.06-2.06.94zm-11 1L8.5 8.5l.94-2.06 2.06-.94-2.06-.94L8.5 2.5l-.94 2.06-2.06.94zm10 10l.94 2.06.94-2.06 2.06-.94-2.06-.94-.94-2.06-.94 2.06-2.06.94z\"/><path d=\"M17.41 7.96l-1.37-1.37c-.4-.4-.92-.59-1.43-.59-.52 0-1.04.2-1.43.59L10.3 9.45l-7.72 7.72c-.78.78-.78 2.05 0 2.83L4 21.41c.39.39.9.59 1.41.59.51 0 1.02-.2 1.41-.59l7.78-7.78 2.81-2.81c.8-.78.8-2.07 0-2.86zM5.41 20L4 18.59l7.72-7.72 1.47 1.35L5.41 20z\"/>\n",
              "  </svg>\n",
              "      </button>\n",
              "      \n",
              "  <style>\n",
              "    .colab-df-container {\n",
              "      display:flex;\n",
              "      flex-wrap:wrap;\n",
              "      gap: 12px;\n",
              "    }\n",
              "\n",
              "    .colab-df-convert {\n",
              "      background-color: #E8F0FE;\n",
              "      border: none;\n",
              "      border-radius: 50%;\n",
              "      cursor: pointer;\n",
              "      display: none;\n",
              "      fill: #1967D2;\n",
              "      height: 32px;\n",
              "      padding: 0 0 0 0;\n",
              "      width: 32px;\n",
              "    }\n",
              "\n",
              "    .colab-df-convert:hover {\n",
              "      background-color: #E2EBFA;\n",
              "      box-shadow: 0px 1px 2px rgba(60, 64, 67, 0.3), 0px 1px 3px 1px rgba(60, 64, 67, 0.15);\n",
              "      fill: #174EA6;\n",
              "    }\n",
              "\n",
              "    [theme=dark] .colab-df-convert {\n",
              "      background-color: #3B4455;\n",
              "      fill: #D2E3FC;\n",
              "    }\n",
              "\n",
              "    [theme=dark] .colab-df-convert:hover {\n",
              "      background-color: #434B5C;\n",
              "      box-shadow: 0px 1px 3px 1px rgba(0, 0, 0, 0.15);\n",
              "      filter: drop-shadow(0px 1px 2px rgba(0, 0, 0, 0.3));\n",
              "      fill: #FFFFFF;\n",
              "    }\n",
              "  </style>\n",
              "\n",
              "      <script>\n",
              "        const buttonEl =\n",
              "          document.querySelector('#df-779e4556-2d58-4b0c-bb9d-6c596680b877 button.colab-df-convert');\n",
              "        buttonEl.style.display =\n",
              "          google.colab.kernel.accessAllowed ? 'block' : 'none';\n",
              "\n",
              "        async function convertToInteractive(key) {\n",
              "          const element = document.querySelector('#df-779e4556-2d58-4b0c-bb9d-6c596680b877');\n",
              "          const dataTable =\n",
              "            await google.colab.kernel.invokeFunction('convertToInteractive',\n",
              "                                                     [key], {});\n",
              "          if (!dataTable) return;\n",
              "\n",
              "          const docLinkHtml = 'Like what you see? Visit the ' +\n",
              "            '<a target=\"_blank\" href=https://colab.research.google.com/notebooks/data_table.ipynb>data table notebook</a>'\n",
              "            + ' to learn more about interactive tables.';\n",
              "          element.innerHTML = '';\n",
              "          dataTable['output_type'] = 'display_data';\n",
              "          await google.colab.output.renderOutput(dataTable, element);\n",
              "          const docLink = document.createElement('div');\n",
              "          docLink.innerHTML = docLinkHtml;\n",
              "          element.appendChild(docLink);\n",
              "        }\n",
              "      </script>\n",
              "    </div>\n",
              "  </div>\n",
              "  "
            ],
            "text/plain": [
              "                                                     text  suspicious\n",
              "249195     He's made yet another sock as FrankGrant.                0\n",
              "57485     == Jimbo photo in Advertising Age magazine =...           0\n",
              "264527   Established romanization conventions for vari...           0\n",
              "134276  `  ==Climate Change Photo== Hello, obviously y...           0\n",
              "42126   `  â ÎÅÅÅ Îµâ   u suck loser. go kill urs...           1"
            ]
          },
          "metadata": {}
        },
        {
          "output_type": "stream",
          "name": "stdout",
          "text": [
            "Test length is 27555\n"
          ]
        },
        {
          "output_type": "display_data",
          "data": {
            "text/html": [
              "\n",
              "  <div id=\"df-7f517a82-6ae8-424b-9662-0acf7ccbf674\">\n",
              "    <div class=\"colab-df-container\">\n",
              "      <div>\n",
              "<style scoped>\n",
              "    .dataframe tbody tr th:only-of-type {\n",
              "        vertical-align: middle;\n",
              "    }\n",
              "\n",
              "    .dataframe tbody tr th {\n",
              "        vertical-align: top;\n",
              "    }\n",
              "\n",
              "    .dataframe thead th {\n",
              "        text-align: right;\n",
              "    }\n",
              "</style>\n",
              "<table border=\"1\" class=\"dataframe\">\n",
              "  <thead>\n",
              "    <tr style=\"text-align: right;\">\n",
              "      <th></th>\n",
              "      <th>text</th>\n",
              "      <th>suspicious</th>\n",
              "    </tr>\n",
              "  </thead>\n",
              "  <tbody>\n",
              "    <tr>\n",
              "      <th>39063</th>\n",
              "      <td>: Thanks for the explanation!</td>\n",
              "      <td>0</td>\n",
              "    </tr>\n",
              "    <tr>\n",
              "      <th>53633</th>\n",
              "      <td>:I'm sure it was worth every penny... â</td>\n",
              "      <td>0</td>\n",
              "    </tr>\n",
              "    <tr>\n",
              "      <th>274393</th>\n",
              "      <td>`:Hi,  â thank you for discussing this, alth...</td>\n",
              "      <td>0</td>\n",
              "    </tr>\n",
              "    <tr>\n",
              "      <th>199098</th>\n",
              "      <td>` :::::::Sorry, but Cambridge does not define ...</td>\n",
              "      <td>0</td>\n",
              "    </tr>\n",
              "    <tr>\n",
              "      <th>117739</th>\n",
              "      <td>, and is less cheesecake than the one from BeC...</td>\n",
              "      <td>0</td>\n",
              "    </tr>\n",
              "  </tbody>\n",
              "</table>\n",
              "</div>\n",
              "      <button class=\"colab-df-convert\" onclick=\"convertToInteractive('df-7f517a82-6ae8-424b-9662-0acf7ccbf674')\"\n",
              "              title=\"Convert this dataframe to an interactive table.\"\n",
              "              style=\"display:none;\">\n",
              "        \n",
              "  <svg xmlns=\"http://www.w3.org/2000/svg\" height=\"24px\"viewBox=\"0 0 24 24\"\n",
              "       width=\"24px\">\n",
              "    <path d=\"M0 0h24v24H0V0z\" fill=\"none\"/>\n",
              "    <path d=\"M18.56 5.44l.94 2.06.94-2.06 2.06-.94-2.06-.94-.94-2.06-.94 2.06-2.06.94zm-11 1L8.5 8.5l.94-2.06 2.06-.94-2.06-.94L8.5 2.5l-.94 2.06-2.06.94zm10 10l.94 2.06.94-2.06 2.06-.94-2.06-.94-.94-2.06-.94 2.06-2.06.94z\"/><path d=\"M17.41 7.96l-1.37-1.37c-.4-.4-.92-.59-1.43-.59-.52 0-1.04.2-1.43.59L10.3 9.45l-7.72 7.72c-.78.78-.78 2.05 0 2.83L4 21.41c.39.39.9.59 1.41.59.51 0 1.02-.2 1.41-.59l7.78-7.78 2.81-2.81c.8-.78.8-2.07 0-2.86zM5.41 20L4 18.59l7.72-7.72 1.47 1.35L5.41 20z\"/>\n",
              "  </svg>\n",
              "      </button>\n",
              "      \n",
              "  <style>\n",
              "    .colab-df-container {\n",
              "      display:flex;\n",
              "      flex-wrap:wrap;\n",
              "      gap: 12px;\n",
              "    }\n",
              "\n",
              "    .colab-df-convert {\n",
              "      background-color: #E8F0FE;\n",
              "      border: none;\n",
              "      border-radius: 50%;\n",
              "      cursor: pointer;\n",
              "      display: none;\n",
              "      fill: #1967D2;\n",
              "      height: 32px;\n",
              "      padding: 0 0 0 0;\n",
              "      width: 32px;\n",
              "    }\n",
              "\n",
              "    .colab-df-convert:hover {\n",
              "      background-color: #E2EBFA;\n",
              "      box-shadow: 0px 1px 2px rgba(60, 64, 67, 0.3), 0px 1px 3px 1px rgba(60, 64, 67, 0.15);\n",
              "      fill: #174EA6;\n",
              "    }\n",
              "\n",
              "    [theme=dark] .colab-df-convert {\n",
              "      background-color: #3B4455;\n",
              "      fill: #D2E3FC;\n",
              "    }\n",
              "\n",
              "    [theme=dark] .colab-df-convert:hover {\n",
              "      background-color: #434B5C;\n",
              "      box-shadow: 0px 1px 3px 1px rgba(0, 0, 0, 0.15);\n",
              "      filter: drop-shadow(0px 1px 2px rgba(0, 0, 0, 0.3));\n",
              "      fill: #FFFFFF;\n",
              "    }\n",
              "  </style>\n",
              "\n",
              "      <script>\n",
              "        const buttonEl =\n",
              "          document.querySelector('#df-7f517a82-6ae8-424b-9662-0acf7ccbf674 button.colab-df-convert');\n",
              "        buttonEl.style.display =\n",
              "          google.colab.kernel.accessAllowed ? 'block' : 'none';\n",
              "\n",
              "        async function convertToInteractive(key) {\n",
              "          const element = document.querySelector('#df-7f517a82-6ae8-424b-9662-0acf7ccbf674');\n",
              "          const dataTable =\n",
              "            await google.colab.kernel.invokeFunction('convertToInteractive',\n",
              "                                                     [key], {});\n",
              "          if (!dataTable) return;\n",
              "\n",
              "          const docLinkHtml = 'Like what you see? Visit the ' +\n",
              "            '<a target=\"_blank\" href=https://colab.research.google.com/notebooks/data_table.ipynb>data table notebook</a>'\n",
              "            + ' to learn more about interactive tables.';\n",
              "          element.innerHTML = '';\n",
              "          dataTable['output_type'] = 'display_data';\n",
              "          await google.colab.output.renderOutput(dataTable, element);\n",
              "          const docLink = document.createElement('div');\n",
              "          docLink.innerHTML = docLinkHtml;\n",
              "          element.appendChild(docLink);\n",
              "        }\n",
              "      </script>\n",
              "    </div>\n",
              "  </div>\n",
              "  "
            ],
            "text/plain": [
              "                                                     text  suspicious\n",
              "39063                     : Thanks for the explanation!             0\n",
              "53633          :I'm sure it was worth every penny... â             0\n",
              "274393  `:Hi,  â thank you for discussing this, alth...           0\n",
              "199098  ` :::::::Sorry, but Cambridge does not define ...           0\n",
              "117739  , and is less cheesecake than the one from BeC...           0"
            ]
          },
          "metadata": {}
        },
        {
          "output_type": "stream",
          "name": "stdout",
          "text": [
            "Train length is 247995\n"
          ]
        }
      ]
    },
    {
      "cell_type": "code",
      "source": [
        "print(\"Number of suspicious in test set is {}\".format(test[\"suspicious\"].sum()))\n",
        "print(\"Number of nonsuspicious in test set is {}\".format(len(test)-test[\"suspicious\"].sum()))\n",
        "print(\"Number of suspicious in train set is {}\".format(train[\"suspicious\"].sum()))\n",
        "print(\"Number of nonsuspicious in train set is {}\".format(len(train)-train[\"suspicious\"].sum()))"
      ],
      "metadata": {
        "colab": {
          "base_uri": "https://localhost:8080/"
        },
        "id": "KqebJ7iBoUYG",
        "outputId": "83dea34f-768b-459f-a9d5-86a5c462cfbf"
      },
      "execution_count": 12,
      "outputs": [
        {
          "output_type": "stream",
          "name": "stdout",
          "text": [
            "Number of suspicious in test set is 3067\n",
            "Number of nonsuspicious in test set is 24488\n",
            "Number of suspicious in train set is 27077\n",
            "Number of nonsuspicious in train set is 220918\n"
          ]
        }
      ]
    },
    {
      "cell_type": "markdown",
      "source": [
        "# Explorative Data Analysis & Preprocessing"
      ],
      "metadata": {
        "id": "c4lsFlyEl9fN"
      }
    },
    {
      "cell_type": "markdown",
      "metadata": {
        "id": "MLO2XEUPSaxs"
      },
      "source": [
        "## Preliminary Data Exploration"
      ]
    },
    {
      "cell_type": "code",
      "metadata": {
        "id": "48wLUpOKZrxV"
      },
      "source": [
        "# for visualizations we will be using matplotlib\n",
        "import matplotlib.pyplot as plt"
      ],
      "execution_count": null,
      "outputs": []
    },
    {
      "cell_type": "markdown",
      "metadata": {
        "id": "H6oYcgNNY4w6"
      },
      "source": [
        "In the preliminary data exploration step, we will draw a histogram of documents' lengths.\n",
        "\n",
        "Probably other preliminary EDA could be performed (e.g., language diversity or language detection), but this is just a concept, so we will not dive too deep into the analysis"
      ]
    },
    {
      "cell_type": "code",
      "metadata": {
        "colab": {
          "base_uri": "https://localhost:8080/",
          "height": 265
        },
        "id": "FmsDQNWfZCY9",
        "outputId": "460d518d-6b8c-4f04-efa6-6e7b3025cb04"
      },
      "source": [
        "# plotting the histogram of documents' lengths\n",
        "lengths = train[\"text\"].apply(lambda x: len(x)).values\n",
        "plt.hist(lengths, density=True, bins=30)\n",
        "plt.show()"
      ],
      "execution_count": null,
      "outputs": [
        {
          "output_type": "display_data",
          "data": {
            "image/png": "[encoded data removed]",
            "text/plain": [
              "<Figure size 432x288 with 1 Axes>"
            ]
          },
          "metadata": {
            "needs_background": "light"
          }
        }
      ]
    },
    {
      "cell_type": "markdown",
      "metadata": {
        "id": "2Ldtw7AlbuFw"
      },
      "source": [
        "From the histogram we can see that the lengths of the documents are very uneven - this may cause problems to our dataset. There is a big chunk of documents that seem to be super short"
      ]
    },
    {
      "cell_type": "code",
      "metadata": {
        "colab": {
          "base_uri": "https://localhost:8080/"
        },
        "id": "dsBfGjPj4aUV",
        "outputId": "8f0d0acd-3271-4e14-8e1f-c99a3edc30d0"
      },
      "source": [
        "# checking out too short documents\n",
        "print(train[\"text\"].str.len().nsmallest(10))\n",
        "print(train.loc[train[\"text\"].str.len() <=3, \"text\"])"
      ],
      "execution_count": null,
      "outputs": [
        {
          "output_type": "stream",
          "name": "stdout",
          "text": [
            "31433     3\n",
            "182601    3\n",
            "30068     3\n",
            "130694    3\n",
            "131187    4\n",
            "236397    5\n",
            "121843    5\n",
            "262610    5\n",
            "248268    5\n",
            "2898      5\n",
            "Name: text, dtype: int64\n",
            "31433        \n",
            "182601       \n",
            "30068        \n",
            "130694       \n",
            "Name: text, dtype: object\n"
          ]
        }
      ]
    },
    {
      "cell_type": "code",
      "metadata": {
        "id": "QIt5RVpW45J6"
      },
      "source": [
        "# The documents shorter than 4 characters do not bring information to the data\n",
        "# thus we decided to remove them\n",
        "train = train.loc[train[\"text\"].str.len()>3, :]"
      ],
      "execution_count": null,
      "outputs": []
    },
    {
      "cell_type": "markdown",
      "source": [
        "At this step it could be useful to perform other steps (like language detection, word lengths analysis, language diversity, etc). We won't do that in this PoC as it takes too much computational power to do so."
      ],
      "metadata": {
        "id": "c5oB5217Zous"
      }
    },
    {
      "cell_type": "markdown",
      "metadata": {
        "id": "WKSGwa9-P47C"
      },
      "source": [
        "## Preprocessing"
      ]
    },
    {
      "cell_type": "markdown",
      "metadata": {
        "id": "px30rrKY9YgD"
      },
      "source": [
        "We will preprocess the data on the basic level for the later analysis. Ideally we would start the preprocessing with translating non English documents.\n",
        "\n",
        "We are going to:\n",
        "\n",
        "*   trasform  documents to lowercase,\n",
        "*   remove cotractions (n't),\n",
        "*   remove special characters,\n",
        "*   remove stopwords,\n",
        "*   remove custom stop words (stopwords specific to this dataset)\n",
        "*   and lemmatize\n",
        "\n",
        "\n",
        "*In the real life example the number of transformations combinations and propositions would probably be much bigger but this is just a PoC so we will perform preprocessing only once*"
      ]
    },
    {
      "cell_type": "code",
      "metadata": {
        "colab": {
          "base_uri": "https://localhost:8080/"
        },
        "id": "3XMXka40EGId",
        "outputId": "e54f347d-ac15-45dd-ef1e-b65934e5ccf6"
      },
      "source": [
        "# the main preprocessing pipeline\n",
        "import re\n",
        "import nltk\n",
        "import string\n",
        "from nltk.corpus import stopwords\n",
        "from nltk.stem import WordNetLemmatizer\n",
        "nltk.download('punkt')\n",
        "nltk.download('stopwords')\n",
        "nltk.download('wordnet')\n",
        "\n",
        "def contractions(s):\n",
        " s = re.sub(r\"won't\", \"will not\",s)\n",
        " s = re.sub(r\"would't\", \"would not\",s)\n",
        " s = re.sub(r\"could't\", \"could not\",s)\n",
        " s = re.sub(r\"\\'d\", \" would\",s)\n",
        " s = re.sub(r\"can\\'t\", \"can not\",s)\n",
        " s = re.sub(r\"n\\'t\", \" not\", s)\n",
        " s = re.sub(r\"\\'re\", \" are\", s)\n",
        " s = re.sub(r\"\\'s\", \" is\", s)\n",
        " s = re.sub(r\"\\'ll\", \" will\", s)\n",
        " s = re.sub(r\"\\'t\", \" not\", s)\n",
        " s = re.sub(r\"\\'ve\", \" have\", s)\n",
        " s = re.sub(r\"\\'m\", \" am\", s)\n",
        " s = re.sub(r\" u \", \" you \", s)\n",
        " s = re.sub(r\" ur \", \" your \", s)\n",
        " return s\n",
        "\n",
        "def preprocess(data):\n",
        "  # transforming to lowercase\n",
        "  data['clean'] = data['text'].apply(lambda x: x.lower())\n",
        "  # removing contractions\n",
        "  data['clean'] = data[\"clean\"].apply(lambda x: contractions(x))\n",
        "  # removing punctuation\n",
        "  data['clean'] = data['clean'].apply(lambda x: ' '.join(''.join(' ' if c in string.punctuation else c for c in x).split()))\n",
        "  # removing multiple spaces\n",
        "  data['clean'] = data['clean'].apply(lambda x: re.sub(' +', ' ', x))\n",
        "  # removing stopwords\n",
        "  stop = stopwords.words('english') # common\n",
        "  stop.extend([\"wikipedia\", \"wiki\", \"article\", \"page\", \"en\", \"org\"]) #custom\n",
        "  data['clean'] = data['clean'].apply(lambda x: ' '.join([x for x in x.split() if x not in stop]))\n",
        "  # lemmatize\n",
        "  lemmatizer = WordNetLemmatizer()\n",
        "  data['clean'] = data['clean'].apply(lambda x: ' '.join([lemmatizer.lemmatize(w) for w in nltk.word_tokenize(x)]))\n",
        "  \n",
        "  return data"
      ],
      "execution_count": 13,
      "outputs": [
        {
          "output_type": "stream",
          "name": "stdout",
          "text": [
            "[nltk_data] Downloading package punkt to /root/nltk_data...\n",
            "[nltk_data]   Unzipping tokenizers/punkt.zip.\n",
            "[nltk_data] Downloading package stopwords to /root/nltk_data...\n",
            "[nltk_data]   Unzipping corpora/stopwords.zip.\n",
            "[nltk_data] Downloading package wordnet to /root/nltk_data...\n",
            "[nltk_data]   Unzipping corpora/wordnet.zip.\n"
          ]
        }
      ]
    },
    {
      "cell_type": "code",
      "metadata": {
        "colab": {
          "base_uri": "https://localhost:8080/"
        },
        "id": "Ytw65onJGLgR",
        "outputId": "7d10456b-51cb-4dc6-96d8-daa1ac053546"
      },
      "source": [
        "# running the preprocessing\n",
        "%%time\n",
        "train = preprocess(train)\n",
        "test = preprocess(test)"
      ],
      "execution_count": null,
      "outputs": [
        {
          "output_type": "stream",
          "name": "stdout",
          "text": [
            "CPU times: user 3min 6s, sys: 931 ms, total: 3min 7s\n",
            "Wall time: 3min 8s\n"
          ]
        }
      ]
    },
    {
      "cell_type": "code",
      "source": [
        "# results\n",
        "train.head()"
      ],
      "metadata": {
        "colab": {
          "base_uri": "https://localhost:8080/",
          "height": 319
        },
        "id": "K-rbfUPoa2v8",
        "outputId": "0d8e81af-2078-4d10-dba1-f7a9e3eed70d"
      },
      "execution_count": null,
      "outputs": [
        {
          "output_type": "execute_result",
          "data": {
            "text/html": [
              "\n",
              "  <div id=\"df-06ea8d4e-ce88-4734-ba1d-9e5497fab45b\">\n",
              "    <div class=\"colab-df-container\">\n",
              "      <div>\n",
              "<style scoped>\n",
              "    .dataframe tbody tr th:only-of-type {\n",
              "        vertical-align: middle;\n",
              "    }\n",
              "\n",
              "    .dataframe tbody tr th {\n",
              "        vertical-align: top;\n",
              "    }\n",
              "\n",
              "    .dataframe thead th {\n",
              "        text-align: right;\n",
              "    }\n",
              "</style>\n",
              "<table border=\"1\" class=\"dataframe\">\n",
              "  <thead>\n",
              "    <tr style=\"text-align: right;\">\n",
              "      <th></th>\n",
              "      <th>text</th>\n",
              "      <th>suspicious</th>\n",
              "      <th>clean</th>\n",
              "    </tr>\n",
              "  </thead>\n",
              "  <tbody>\n",
              "    <tr>\n",
              "      <th>118556</th>\n",
              "      <td>Mentioning of over seas distribution ==  I hav...</td>\n",
              "      <td>0</td>\n",
              "      <td>mentioning sea distribution noticed no energy ...</td>\n",
              "    </tr>\n",
              "    <tr>\n",
              "      <th>273828</th>\n",
              "      <td>Go use your drugs, insignificant nobody. ...</td>\n",
              "      <td>1</td>\n",
              "      <td>go use drug insignificant nobody eraser stalke...</td>\n",
              "    </tr>\n",
              "    <tr>\n",
              "      <th>204113</th>\n",
              "      <td>FUCKING SUCK YOU LIBERAL BASTARD WHO THINKS MI...</td>\n",
              "      <td>1</td>\n",
              "      <td>fucking suck liberal bastard think michael moo...</td>\n",
              "    </tr>\n",
              "    <tr>\n",
              "      <th>110142</th>\n",
              "      <td>::They're observations, not insults. No offe...</td>\n",
              "      <td>0</td>\n",
              "      <td>observation insult offence intended</td>\n",
              "    </tr>\n",
              "    <tr>\n",
              "      <th>175052</th>\n",
              "      <td>You can't just use Beirut as the main pictur...</td>\n",
              "      <td>0</td>\n",
              "      <td>use beirut main picture thousand missile fired...</td>\n",
              "    </tr>\n",
              "  </tbody>\n",
              "</table>\n",
              "</div>\n",
              "      <button class=\"colab-df-convert\" onclick=\"convertToInteractive('df-06ea8d4e-ce88-4734-ba1d-9e5497fab45b')\"\n",
              "              title=\"Convert this dataframe to an interactive table.\"\n",
              "              style=\"display:none;\">\n",
              "        \n",
              "  <svg xmlns=\"http://www.w3.org/2000/svg\" height=\"24px\"viewBox=\"0 0 24 24\"\n",
              "       width=\"24px\">\n",
              "    <path d=\"M0 0h24v24H0V0z\" fill=\"none\"/>\n",
              "    <path d=\"M18.56 5.44l.94 2.06.94-2.06 2.06-.94-2.06-.94-.94-2.06-.94 2.06-2.06.94zm-11 1L8.5 8.5l.94-2.06 2.06-.94-2.06-.94L8.5 2.5l-.94 2.06-2.06.94zm10 10l.94 2.06.94-2.06 2.06-.94-2.06-.94-.94-2.06-.94 2.06-2.06.94z\"/><path d=\"M17.41 7.96l-1.37-1.37c-.4-.4-.92-.59-1.43-.59-.52 0-1.04.2-1.43.59L10.3 9.45l-7.72 7.72c-.78.78-.78 2.05 0 2.83L4 21.41c.39.39.9.59 1.41.59.51 0 1.02-.2 1.41-.59l7.78-7.78 2.81-2.81c.8-.78.8-2.07 0-2.86zM5.41 20L4 18.59l7.72-7.72 1.47 1.35L5.41 20z\"/>\n",
              "  </svg>\n",
              "      </button>\n",
              "      \n",
              "  <style>\n",
              "    .colab-df-container {\n",
              "      display:flex;\n",
              "      flex-wrap:wrap;\n",
              "      gap: 12px;\n",
              "    }\n",
              "\n",
              "    .colab-df-convert {\n",
              "      background-color: #E8F0FE;\n",
              "      border: none;\n",
              "      border-radius: 50%;\n",
              "      cursor: pointer;\n",
              "      display: none;\n",
              "      fill: #1967D2;\n",
              "      height: 32px;\n",
              "      padding: 0 0 0 0;\n",
              "      width: 32px;\n",
              "    }\n",
              "\n",
              "    .colab-df-convert:hover {\n",
              "      background-color: #E2EBFA;\n",
              "      box-shadow: 0px 1px 2px rgba(60, 64, 67, 0.3), 0px 1px 3px 1px rgba(60, 64, 67, 0.15);\n",
              "      fill: #174EA6;\n",
              "    }\n",
              "\n",
              "    [theme=dark] .colab-df-convert {\n",
              "      background-color: #3B4455;\n",
              "      fill: #D2E3FC;\n",
              "    }\n",
              "\n",
              "    [theme=dark] .colab-df-convert:hover {\n",
              "      background-color: #434B5C;\n",
              "      box-shadow: 0px 1px 3px 1px rgba(0, 0, 0, 0.15);\n",
              "      filter: drop-shadow(0px 1px 2px rgba(0, 0, 0, 0.3));\n",
              "      fill: #FFFFFF;\n",
              "    }\n",
              "  </style>\n",
              "\n",
              "      <script>\n",
              "        const buttonEl =\n",
              "          document.querySelector('#df-06ea8d4e-ce88-4734-ba1d-9e5497fab45b button.colab-df-convert');\n",
              "        buttonEl.style.display =\n",
              "          google.colab.kernel.accessAllowed ? 'block' : 'none';\n",
              "\n",
              "        async function convertToInteractive(key) {\n",
              "          const element = document.querySelector('#df-06ea8d4e-ce88-4734-ba1d-9e5497fab45b');\n",
              "          const dataTable =\n",
              "            await google.colab.kernel.invokeFunction('convertToInteractive',\n",
              "                                                     [key], {});\n",
              "          if (!dataTable) return;\n",
              "\n",
              "          const docLinkHtml = 'Like what you see? Visit the ' +\n",
              "            '<a target=\"_blank\" href=https://colab.research.google.com/notebooks/data_table.ipynb>data table notebook</a>'\n",
              "            + ' to learn more about interactive tables.';\n",
              "          element.innerHTML = '';\n",
              "          dataTable['output_type'] = 'display_data';\n",
              "          await google.colab.output.renderOutput(dataTable, element);\n",
              "          const docLink = document.createElement('div');\n",
              "          docLink.innerHTML = docLinkHtml;\n",
              "          element.appendChild(docLink);\n",
              "        }\n",
              "      </script>\n",
              "    </div>\n",
              "  </div>\n",
              "  "
            ],
            "text/plain": [
              "                                                     text  ...                                              clean\n",
              "118556  Mentioning of over seas distribution ==  I hav...  ...  mentioning sea distribution noticed no energy ...\n",
              "273828       Go use your drugs, insignificant nobody. ...  ...  go use drug insignificant nobody eraser stalke...\n",
              "204113  FUCKING SUCK YOU LIBERAL BASTARD WHO THINKS MI...  ...  fucking suck liberal bastard think michael moo...\n",
              "110142    ::They're observations, not insults. No offe...  ...                observation insult offence intended\n",
              "175052    You can't just use Beirut as the main pictur...  ...  use beirut main picture thousand missile fired...\n",
              "\n",
              "[5 rows x 3 columns]"
            ]
          },
          "metadata": {},
          "execution_count": 59
        }
      ]
    },
    {
      "cell_type": "code",
      "metadata": {
        "id": "lZWeh8vCMX8B"
      },
      "source": [
        "# dump of preprocessed data for the future\n",
        "train.to_csv(\"train_preprocessed.csv\")\n",
        "test.to_csv(\"test_preprocessed.csv\")"
      ],
      "execution_count": null,
      "outputs": []
    },
    {
      "cell_type": "code",
      "metadata": {
        "id": "Mu1TFtuVM9qM"
      },
      "source": [
        "# reading the data from file\n",
        "train = pd.read_csv(\"train_preprocessed.csv\", index_col=0)\n",
        "test = pd.read_csv(\"test_preprocessed.csv\", index_col=0)"
      ],
      "execution_count": null,
      "outputs": []
    },
    {
      "cell_type": "markdown",
      "metadata": {
        "id": "p9_yY7eOvV0J"
      },
      "source": [
        "## Data Exploration continued"
      ]
    },
    {
      "cell_type": "markdown",
      "metadata": {
        "id": "lTfT6fAlSdqj"
      },
      "source": [
        "After data preprocessing step we decided to explore the contents of the documents a little bit to better understand the dataset.\n",
        "\n",
        "First we will draw a word cloud and word frequency bar chart to get a basic look at the contents."
      ]
    },
    {
      "cell_type": "code",
      "metadata": {
        "id": "Q-7gG-uYaxnd",
        "colab": {
          "base_uri": "https://localhost:8080/",
          "height": 391
        },
        "outputId": "cc8d6bfd-4599-409c-8836-84c87aa5bc1c"
      },
      "source": [
        "# drawing word cloud\n",
        "from wordcloud import WordCloud\n",
        "wordcloud = WordCloud(width = 800, height = 800,\n",
        "                background_color ='white',\n",
        "                min_font_size = 10)\\\n",
        "                .generate(' '.join(train['clean'].astype(str)[10000:])) \n",
        "                #using only sample because we don't have that much \n",
        "                #time to wait for wordcloud to generate for this many documents:)\n",
        " \n",
        "# plot the WordCloud image                      \n",
        "plt.figure(figsize = (5, 5), facecolor = None)\n",
        "plt.imshow(wordcloud)\n",
        "plt.axis(\"off\")\n",
        "plt.tight_layout(pad = 0)\n",
        " \n",
        "plt.show()"
      ],
      "execution_count": null,
      "outputs": [
        {
          "output_type": "display_data",
          "data": {
            "image/png": "[encoded data removed]",
            "text/plain": [
              "<Figure size 360x360 with 1 Axes>"
            ]
          },
          "metadata": {
            "needs_background": "light"
          }
        }
      ]
    },
    {
      "cell_type": "code",
      "metadata": {
        "colab": {
          "base_uri": "https://localhost:8080/"
        },
        "id": "GNe0rAUcN2NT",
        "outputId": "c899875f-c202-406a-f705-dd13859febf1"
      },
      "source": [
        "# praparing data for the word frequency diagram\n",
        "from collections import Counter\n",
        "import numpy as np\n",
        "terms = (' '.join(train['clean'].astype(str))).split()\n",
        "counts = dict(Counter(terms).most_common(30)) #take only top 30 words\n",
        "print(counts)\n",
        "labels, values = zip(*counts.items())"
      ],
      "execution_count": null,
      "outputs": [
        {
          "output_type": "stream",
          "name": "stdout",
          "text": [
            "{'would': 55966, 'one': 48290, 'like': 46325, 'please': 43851, 'talk': 35659, 'source': 33189, 'see': 33102, 'think': 32742, 'know': 32443, 'also': 32110, 'people': 31076, 'time': 30372, 'edit': 27678, 'make': 25502, 'article': 24771, 'use': 24234, 'get': 23720, 'user': 23421, 'say': 23037, 'may': 22694, 'fuck': 21976, 'even': 21900, 'need': 21563, 'image': 20739, 'name': 20735, 'link': 20219, 'want': 20215, 'thanks': 20137, 'good': 19963, 'go': 19911}\n"
          ]
        }
      ]
    },
    {
      "cell_type": "code",
      "metadata": {
        "colab": {
          "base_uri": "https://localhost:8080/",
          "height": 289
        },
        "id": "jDdcl7vbPN4q",
        "outputId": "0304b9ed-764b-46ad-f67b-213b7f95841e"
      },
      "source": [
        "# plotting word frequencies\n",
        "plt.bar(labels, values)\n",
        "plt.xticks(rotation=90)\n",
        "plt.show()"
      ],
      "execution_count": null,
      "outputs": [
        {
          "output_type": "display_data",
          "data": {
            "image/png": "[encoded data removed]",
            "text/plain": [
              "<Figure size 432x288 with 1 Axes>"
            ]
          },
          "metadata": {
            "needs_background": "light"
          }
        }
      ]
    },
    {
      "cell_type": "markdown",
      "metadata": {
        "id": "-2xTYQmIRQn1"
      },
      "source": [
        "There are no strcitly \"too common\" words. \n",
        "\n",
        "We see that we can remove some more custom stop words - e.g. would, get, u, also. These would probably improve our algorithm. We will not do it here, this is just PoC, in the real analysis removing this words would be worth checking out.\n",
        "\n",
        "Next, we will proceed with drawing the bigrams to know the dataset even better"
      ]
    },
    {
      "cell_type": "code",
      "metadata": {
        "id": "U_4SeyIpTD7i",
        "colab": {
          "base_uri": "https://localhost:8080/"
        },
        "outputId": "f332bf79-b491-414b-e50c-d31f5099ccc6"
      },
      "source": [
        "# preparing data for the bigrams frequencies chart\n",
        "bigrams = [bigram for document in train['clean'].astype(str)\\\n",
        "           for bigram in zip(document.split(\" \")[:-1], document.split(\" \")[1:])]\n",
        "counts_bi = dict(Counter(bigrams).most_common(30)) #take only top 30 words\n",
        "print(counts_bi)\n",
        "labels_bi, values_bi = zip(*counts_bi.items())\n",
        "labels_bi = [' '.join(bigram) for bigram in labels_bi]"
      ],
      "execution_count": null,
      "outputs": [
        {
          "output_type": "stream",
          "name": "stdout",
          "text": [
            "{('would', 'like'): 7181, ('faggot', 'faggot'): 6204, ('nigger', 'nigger'): 6009, ('speedy', 'deletion'): 5626, ('can', 'not'): 5003, ('personal', 'attack'): 4854, ('hate', 'hate'): 4853, ('reliable', 'source'): 4839, ('fuck', 'fuck'): 4720, ('background', 'color'): 4320, ('fair', 'use'): 4214, ('vertical', 'align'): 4205, ('shit', 'shit'): 3838, ('feel', 'free'): 3298, ('please', 'stop'): 3265, ('talk', 'page'): 3240, ('blocked', 'editing'): 3184, ('as', 'as'): 2974, ('penis', 'penis'): 2900, ('go', 'fuck'): 2796, ('moron', 'hi'): 2772, ('hi', 'moron'): 2770, ('ip', 'address'): 2656, ('style', 'vertical'): 2655, ('wanker', 'wanker'): 2619, ('edit', 'summary'): 2609, ('point', 'view'): 2539, ('look', 'like'): 2530, ('bla', 'bla'): 2524, ('1px', 'solid'): 2478}\n"
          ]
        }
      ]
    },
    {
      "cell_type": "code",
      "metadata": {
        "colab": {
          "base_uri": "https://localhost:8080/",
          "height": 342
        },
        "id": "uEep8MR7XZlM",
        "outputId": "f2214d09-e87c-4210-f84e-555526f40ad8"
      },
      "source": [
        "# drawing the bigrams frequencies chart\n",
        "plt.bar(labels_bi, values_bi)\n",
        "plt.xticks(rotation=90)\n",
        "plt.show()"
      ],
      "execution_count": null,
      "outputs": [
        {
          "output_type": "display_data",
          "data": {
            "image/png": "[encoded data removed]",
            "text/plain": [
              "<Figure size 432x288 with 1 Axes>"
            ]
          },
          "metadata": {
            "needs_background": "light"
          }
        }
      ]
    },
    {
      "cell_type": "markdown",
      "metadata": {
        "id": "iogCW2X2YeYP"
      },
      "source": [
        "With bigrams we can observe the contents of the dataset in greater context. The most common bigrams are of course offensive words :) we love the internet users"
      ]
    },
    {
      "cell_type": "markdown",
      "source": [
        "# Basic Classification Methods"
      ],
      "metadata": {
        "id": "z-12zFViVUYC"
      }
    },
    {
      "cell_type": "markdown",
      "source": [
        "Our first go is to use vector/reggresion-like methods to solve this NLP problem. Vectors are much less computionally expensive than neural networks and in many cases they work really well. We want to give it a go and see what happens."
      ],
      "metadata": {
        "id": "Xh9BZyJqXHSJ"
      }
    },
    {
      "cell_type": "markdown",
      "metadata": {
        "id": "Ai2ZhH3dQVZq"
      },
      "source": [
        "## Building self-designed models"
      ]
    },
    {
      "cell_type": "markdown",
      "metadata": {
        "id": "H3avC4shOm1b"
      },
      "source": [
        "Finally we can start building the models :). First, we are building train and test feature vectors based on TF-IDF matrix. The class to be predicted is the \"suspicious\" column. "
      ]
    },
    {
      "cell_type": "code",
      "metadata": {
        "id": "rpKQ_g1T9Vqc"
      },
      "source": [
        "# setting the training and testing vectors\n",
        "X_train_sentences, X_test_sentences, Y_train, Y_test = train['clean'].astype(str), test['clean'].astype(str), train['suspicious'], test['suspicious']\n",
        "# building tf-idf feautre matrix\n",
        "from sklearn.feature_extraction.text import TfidfVectorizer\n",
        "vectorizer = TfidfVectorizer()\n",
        "X_train = vectorizer.fit_transform(X_train_sentences)\n",
        "X_test = vectorizer.transform(X_test_sentences)"
      ],
      "execution_count": null,
      "outputs": []
    },
    {
      "cell_type": "code",
      "source": [
        "!pip install pickle-mixin\n",
        "import _pickle as cPickle\n",
        "# saving the vectorizer for the API\n",
        "with open('vectorizer.pkl', 'wb') as fid:\n",
        "    cPickle.dump(vectorizer, fid)"
      ],
      "metadata": {
        "id": "yVYYEZWOvWz-",
        "colab": {
          "base_uri": "https://localhost:8080/"
        },
        "outputId": "39030f44-ce07-40f2-89b7-8c04069de719"
      },
      "execution_count": null,
      "outputs": [
        {
          "output_type": "stream",
          "name": "stdout",
          "text": [
            "Requirement already satisfied: pickle-mixin in /usr/local/lib/python3.7/dist-packages (1.0.2)\n"
          ]
        }
      ]
    },
    {
      "cell_type": "markdown",
      "metadata": {
        "id": "jkqFQCDIRChT"
      },
      "source": [
        "We will try to build different models to predict the offensive documents. The assessment of results will be provided by the sklearn classification_report function. In the end of this analysis we will perform a comparison of the outcomes."
      ]
    },
    {
      "cell_type": "code",
      "metadata": {
        "id": "nq9OmKxXRTOu"
      },
      "source": [
        "# evaluation dictionary\n",
        "from sklearn.metrics import classification_report\n",
        "results = {}"
      ],
      "execution_count": null,
      "outputs": []
    },
    {
      "cell_type": "markdown",
      "metadata": {
        "id": "-PV-k41pPlmx"
      },
      "source": [
        "### SVM algorithm"
      ]
    },
    {
      "cell_type": "code",
      "metadata": {
        "colab": {
          "base_uri": "https://localhost:8080/"
        },
        "id": "eR6hkvmYLG94",
        "outputId": "c04e0a51-2ee6-4c19-99af-b25a10442524"
      },
      "source": [
        "%%time\n",
        "# building and testing svm model\n",
        "from sklearn.svm import LinearSVC\n",
        "svm_model = LinearSVC(random_state = 0)\n",
        "svm_model.fit(X_train, Y_train)\n",
        "y_test_pred = svm_model.predict(X_test)"
      ],
      "execution_count": null,
      "outputs": [
        {
          "output_type": "stream",
          "name": "stdout",
          "text": [
            "CPU times: user 4.41 s, sys: 23.8 ms, total: 4.43 s\n",
            "Wall time: 4.42 s\n"
          ]
        }
      ]
    },
    {
      "cell_type": "code",
      "source": [
        "# save the classifier\n",
        "with open('svm_classifier.pkl', 'wb') as fid:\n",
        "    cPickle.dump(svm_model, fid)    "
      ],
      "metadata": {
        "id": "p0bgf0lrm26x"
      },
      "execution_count": null,
      "outputs": []
    },
    {
      "cell_type": "code",
      "metadata": {
        "colab": {
          "base_uri": "https://localhost:8080/"
        },
        "id": "ehZI5AnC-ro0",
        "outputId": "91d0cf5c-2ca2-4404-c774-cbc379c03a76"
      },
      "source": [
        "# testing the results\n",
        "results[\"svm\"] = classification_report(Y_test, y_test_pred, output_dict = True)\n",
        "results[\"svm\"]"
      ],
      "execution_count": null,
      "outputs": [
        {
          "output_type": "execute_result",
          "data": {
            "text/plain": [
              "{'0': {'f1-score': 0.976086428744841,\n",
              "  'precision': 0.9673189509984762,\n",
              "  'recall': 0.9850142915475705,\n",
              "  'support': 24490},\n",
              " '1': {'f1-score': 0.7919746568109821,\n",
              "  'precision': 0.8597630875047765,\n",
              "  'recall': 0.734094616639478,\n",
              "  'support': 3065},\n",
              " 'accuracy': 0.9571039738704409,\n",
              " 'macro avg': {'f1-score': 0.8840305427779116,\n",
              "  'precision': 0.9135410192516263,\n",
              "  'recall': 0.8595544540935243,\n",
              "  'support': 27555},\n",
              " 'weighted avg': {'f1-score': 0.955607293162287,\n",
              "  'precision': 0.9553552884469179,\n",
              "  'recall': 0.9571039738704409,\n",
              "  'support': 27555}}"
            ]
          },
          "metadata": {},
          "execution_count": 75
        }
      ]
    },
    {
      "cell_type": "markdown",
      "metadata": {
        "id": "SUCwy4o0QQko"
      },
      "source": [
        "### Logistic regression"
      ]
    },
    {
      "cell_type": "code",
      "metadata": {
        "colab": {
          "base_uri": "https://localhost:8080/"
        },
        "id": "1lcueJT1MRjC",
        "outputId": "98b4245a-00aa-46b5-8564-bedb4051c841"
      },
      "source": [
        "%%time\n",
        "# building and testing logistic reggression model\n",
        "\n",
        "from sklearn.linear_model import LogisticRegression\n",
        "lr_model = LogisticRegression(max_iter = 1000, solver='saga')\n",
        "lr_model.fit(X_train, Y_train)\n",
        "y_test_pred = lr_model.predict(X_test)"
      ],
      "execution_count": null,
      "outputs": [
        {
          "output_type": "stream",
          "name": "stdout",
          "text": [
            "CPU times: user 7.92 s, sys: 14.3 ms, total: 7.94 s\n",
            "Wall time: 7.96 s\n"
          ]
        }
      ]
    },
    {
      "cell_type": "code",
      "metadata": {
        "colab": {
          "base_uri": "https://localhost:8080/"
        },
        "id": "NO7giiEEMeSY",
        "outputId": "ce39d519-0e87-4250-c19a-90782e0c52a4"
      },
      "source": [
        "# testing the results\n",
        "results[\"lr\"] = classification_report(Y_test, y_test_pred,output_dict=True)\n",
        "results[\"lr\"]"
      ],
      "execution_count": null,
      "outputs": [
        {
          "output_type": "execute_result",
          "data": {
            "text/plain": [
              "{'0': {'f1-score': 0.9723296399446993,\n",
              "  'precision': 0.9545615484480113,\n",
              "  'recall': 0.9907717435688036,\n",
              "  'support': 24490},\n",
              " '1': {'f1-score': 0.7344741395885407,\n",
              "  'precision': 0.8941947565543071,\n",
              "  'recall': 0.6231647634584013,\n",
              "  'support': 3065},\n",
              " 'accuracy': 0.9498820540736709,\n",
              " 'macro avg': {'f1-score': 0.85340188976662,\n",
              "  'precision': 0.9243781525011592,\n",
              "  'recall': 0.8069682535136025,\n",
              "  'support': 27555},\n",
              " 'weighted avg': {'f1-score': 0.9458724775933429,\n",
              "  'precision': 0.9478468245447559,\n",
              "  'recall': 0.9498820540736709,\n",
              "  'support': 27555}}"
            ]
          },
          "metadata": {},
          "execution_count": 77
        }
      ]
    },
    {
      "cell_type": "markdown",
      "metadata": {
        "id": "PbdLVRrbQca-"
      },
      "source": [
        "### Bayes Naive Classifier"
      ]
    },
    {
      "cell_type": "code",
      "metadata": {
        "colab": {
          "base_uri": "https://localhost:8080/"
        },
        "id": "VhxLtZp0Qbso",
        "outputId": "3d8f9a27-c5bf-4788-9d53-5a0387850e92"
      },
      "source": [
        "%%time\n",
        "# building and testing naive bayes classifier model\n",
        "\n",
        "from sklearn.naive_bayes import MultinomialNB\n",
        "nb_model = MultinomialNB()\n",
        "nb_model.fit(X_train, Y_train)\n",
        "y_test_pred = nb_model.predict(X_test)"
      ],
      "execution_count": null,
      "outputs": [
        {
          "output_type": "stream",
          "name": "stdout",
          "text": [
            "CPU times: user 153 ms, sys: 3.75 ms, total: 157 ms\n",
            "Wall time: 162 ms\n"
          ]
        }
      ]
    },
    {
      "cell_type": "code",
      "metadata": {
        "colab": {
          "base_uri": "https://localhost:8080/"
        },
        "id": "yvM3FfwLspLX",
        "outputId": "ce0cec62-30fc-40c1-a8db-c72da8a571b3"
      },
      "source": [
        "# testing the results\n",
        "results[\"nb\"] = classification_report(Y_test, y_test_pred,output_dict=True)\n",
        "results[\"nb\"]"
      ],
      "execution_count": null,
      "outputs": [
        {
          "output_type": "execute_result",
          "data": {
            "text/plain": [
              "{'0': {'f1-score': 0.9573997612664619,\n",
              "  'precision': 0.9192124149851576,\n",
              "  'recall': 0.9988975091874235,\n",
              "  'support': 24490},\n",
              " '1': {'f1-score': 0.4567007736461193,\n",
              "  'precision': 0.9713375796178344,\n",
              "  'recall': 0.29853181076672103,\n",
              "  'support': 3065},\n",
              " 'accuracy': 0.9209943748865904,\n",
              " 'macro avg': {'f1-score': 0.7070502674562906,\n",
              "  'precision': 0.945274997301496,\n",
              "  'recall': 0.6487146599770722,\n",
              "  'support': 27555},\n",
              " 'weighted avg': {'f1-score': 0.9017059707726731,\n",
              "  'precision': 0.9250104055349364,\n",
              "  'recall': 0.9209943748865904,\n",
              "  'support': 27555}}"
            ]
          },
          "metadata": {},
          "execution_count": 79
        }
      ]
    },
    {
      "cell_type": "markdown",
      "metadata": {
        "id": "is7mircOt09p"
      },
      "source": [
        "### Comparison"
      ]
    },
    {
      "cell_type": "code",
      "metadata": {
        "colab": {
          "base_uri": "https://localhost:8080/"
        },
        "id": "LrlkTV-Nt3Aa",
        "outputId": "d6ffa158-9f70-4f9d-9715-025ad3ff3cc8"
      },
      "source": [
        "# printing cumulative results\n",
        "import json\n",
        "print(json.dumps(results, indent=4))"
      ],
      "execution_count": null,
      "outputs": [
        {
          "output_type": "stream",
          "name": "stdout",
          "text": [
            "{\n",
            "    \"svm\": {\n",
            "        \"0\": {\n",
            "            \"precision\": 0.9673189509984762,\n",
            "            \"recall\": 0.9850142915475705,\n",
            "            \"f1-score\": 0.976086428744841,\n",
            "            \"support\": 24490\n",
            "        },\n",
            "        \"1\": {\n",
            "            \"precision\": 0.8597630875047765,\n",
            "            \"recall\": 0.734094616639478,\n",
            "            \"f1-score\": 0.7919746568109821,\n",
            "            \"support\": 3065\n",
            "        },\n",
            "        \"accuracy\": 0.9571039738704409,\n",
            "        \"macro avg\": {\n",
            "            \"precision\": 0.9135410192516263,\n",
            "            \"recall\": 0.8595544540935243,\n",
            "            \"f1-score\": 0.8840305427779116,\n",
            "            \"support\": 27555\n",
            "        },\n",
            "        \"weighted avg\": {\n",
            "            \"precision\": 0.9553552884469179,\n",
            "            \"recall\": 0.9571039738704409,\n",
            "            \"f1-score\": 0.955607293162287,\n",
            "            \"support\": 27555\n",
            "        }\n",
            "    },\n",
            "    \"lr\": {\n",
            "        \"0\": {\n",
            "            \"precision\": 0.9545615484480113,\n",
            "            \"recall\": 0.9907717435688036,\n",
            "            \"f1-score\": 0.9723296399446993,\n",
            "            \"support\": 24490\n",
            "        },\n",
            "        \"1\": {\n",
            "            \"precision\": 0.8941947565543071,\n",
            "            \"recall\": 0.6231647634584013,\n",
            "            \"f1-score\": 0.7344741395885407,\n",
            "            \"support\": 3065\n",
            "        },\n",
            "        \"accuracy\": 0.9498820540736709,\n",
            "        \"macro avg\": {\n",
            "            \"precision\": 0.9243781525011592,\n",
            "            \"recall\": 0.8069682535136025,\n",
            "            \"f1-score\": 0.85340188976662,\n",
            "            \"support\": 27555\n",
            "        },\n",
            "        \"weighted avg\": {\n",
            "            \"precision\": 0.9478468245447559,\n",
            "            \"recall\": 0.9498820540736709,\n",
            "            \"f1-score\": 0.9458724775933429,\n",
            "            \"support\": 27555\n",
            "        }\n",
            "    },\n",
            "    \"nb\": {\n",
            "        \"0\": {\n",
            "            \"precision\": 0.9192124149851576,\n",
            "            \"recall\": 0.9988975091874235,\n",
            "            \"f1-score\": 0.9573997612664619,\n",
            "            \"support\": 24490\n",
            "        },\n",
            "        \"1\": {\n",
            "            \"precision\": 0.9713375796178344,\n",
            "            \"recall\": 0.29853181076672103,\n",
            "            \"f1-score\": 0.4567007736461193,\n",
            "            \"support\": 3065\n",
            "        },\n",
            "        \"accuracy\": 0.9209943748865904,\n",
            "        \"macro avg\": {\n",
            "            \"precision\": 0.945274997301496,\n",
            "            \"recall\": 0.6487146599770722,\n",
            "            \"f1-score\": 0.7070502674562906,\n",
            "            \"support\": 27555\n",
            "        },\n",
            "        \"weighted avg\": {\n",
            "            \"precision\": 0.9250104055349364,\n",
            "            \"recall\": 0.9209943748865904,\n",
            "            \"f1-score\": 0.9017059707726731,\n",
            "            \"support\": 27555\n",
            "        }\n",
            "    }\n",
            "}\n"
          ]
        }
      ]
    },
    {
      "cell_type": "markdown",
      "source": [
        "### Conclusions"
      ],
      "metadata": {
        "id": "GG9CkeD4n6DS"
      }
    },
    {
      "cell_type": "markdown",
      "metadata": {
        "id": "HgBObBvFt7N_"
      },
      "source": [
        "Naive Bayer Classifier and Logistic Regression are just a no-no for this task. They total missperform and are useless in this task with this dataset.\n",
        "\n",
        "SVM seems to be an okay option. It does not give superior results but f1 scores oscilating within the 0.9 mark are acceptable for this kind of PoC with such a limited time bounds. We also appreciete the easiness of use of the SVM method and the fact that it trains within seconds (not hours like neural network that will be presented below)."
      ]
    },
    {
      "cell_type": "markdown",
      "metadata": {
        "id": "WG_K_zGUwSUg"
      },
      "source": [
        "As we are not fully satisfied with the results provided by SVM, in the next part of this paper we will proceed to build a neural network as it may be more useful detecting e.g. sarcasm and other hidden meanings in the text.\n",
        "\n",
        "For now we think that SVM performed the best and if any, would suggest using SVM for further reseach :)"
      ]
    },
    {
      "cell_type": "code",
      "source": [
        "####HOW TO USE IN THE API####\n",
        "from sklearn.feature_extraction.text import TfidfVectorizer\n",
        "import _pickle as cPickle\n",
        "\n",
        "# the main preprocessing pipeline\n",
        "import re\n",
        "import nltk\n",
        "import string\n",
        "from nltk.corpus import stopwords\n",
        "from nltk.stem import WordNetLemmatizer\n",
        "nltk.download('punkt')\n",
        "nltk.download('stopwords')\n",
        "nltk.download('wordnet')\n",
        "\n",
        "def contractions(s):\n",
        " s = re.sub(r\"won't\", \"will not\",s)\n",
        " s = re.sub(r\"would't\", \"would not\",s)\n",
        " s = re.sub(r\"could't\", \"could not\",s)\n",
        " s = re.sub(r\"\\'d\", \" would\",s)\n",
        " s = re.sub(r\"can\\'t\", \"can not\",s)\n",
        " s = re.sub(r\"n\\'t\", \" not\", s)\n",
        " s = re.sub(r\"\\'re\", \" are\", s)\n",
        " s = re.sub(r\"\\'s\", \" is\", s)\n",
        " s = re.sub(r\"\\'ll\", \" will\", s)\n",
        " s = re.sub(r\"\\'t\", \" not\", s)\n",
        " s = re.sub(r\"\\'ve\", \" have\", s)\n",
        " s = re.sub(r\"\\'m\", \" am\", s)\n",
        " return s\n",
        "\n",
        "def preprocess(sentence):\n",
        "  sentence = contractions(sentence.lower())\n",
        "  sentence = ' '.join(''.join(' ' if c in string.punctuation else c for c in sentence).split())\n",
        "  sentence = re.sub(' +', ' ', sentence)\n",
        "  stop = stopwords.words('english')\n",
        "  sentence =  ' '.join([sentence for sentence in sentence.split() if sentence not in stop])\n",
        "  lemmatizer = WordNetLemmatizer()\n",
        "  sentence = ' '.join([lemmatizer.lemmatize(w) for w in nltk.word_tokenize(sentence)])\n",
        "  return sentence\n",
        "\n",
        "with open('vectorizer.pkl', 'rb') as fid:\n",
        "    vectorizer = cPickle.load(fid)\n",
        "with open('svm_classifier.pkl', 'rb') as fid:\n",
        "    svm_model = cPickle.load(fid)\n",
        "sentence = \"i can't believe how stupid u are\"\n",
        "sentence = preprocess(sentence)\n",
        "X_test_ = vectorizer.transform([sentence])\n",
        "y_test_pred_ = svm_model.predict(X_test_)\n",
        "print(\"prediction: {}\".format(y_test_pred_[0]))"
      ],
      "metadata": {
        "id": "tJgm62U5vjMM"
      },
      "execution_count": null,
      "outputs": []
    },
    {
      "cell_type": "markdown",
      "source": [
        "# Neural Networks"
      ],
      "metadata": {
        "id": "uJcGqXTwolZp"
      }
    },
    {
      "cell_type": "code",
      "source": [
        "# importing necessary libraries\n",
        "import tensorflow as tf\n",
        "import numpy as np\n",
        "import tensorflow_datasets as tfds"
      ],
      "metadata": {
        "id": "InSZxIZUokhE"
      },
      "execution_count": 14,
      "outputs": []
    },
    {
      "cell_type": "code",
      "source": [
        "def downsample(df:pd.DataFrame, label_col_name:str) -> pd.DataFrame:\n",
        "    # find the number of observations in the smallest group\n",
        "    nmin = df[label_col_name].value_counts().min()\n",
        "    return (df\n",
        "            # split the dataframe per group\n",
        "            .groupby(label_col_name)\n",
        "            # sample nmin observations from each group\n",
        "            .apply(lambda x: x.sample(nmin))\n",
        "            # recombine the dataframes\n",
        "            .reset_index(drop=True)\n",
        "            )"
      ],
      "metadata": {
        "id": "tx-S1yW_EWhC"
      },
      "execution_count": 15,
      "outputs": []
    },
    {
      "cell_type": "markdown",
      "source": [
        "## Moving to Keras"
      ],
      "metadata": {
        "id": "axKpMACoauKz"
      }
    },
    {
      "cell_type": "markdown",
      "source": [
        "In this part of the devolpment we decided to focus on the use of deep neural networks to achieve the main goal of our solution.\n",
        "\n",
        "We took our pandas dataframe and transformed it to tensorflow's dataset to further prepare it for purposes of using in the training of our chosen neural network. In order to train the network more efficiently we decided to randomly sample 25% of our original dataset. \n",
        "\n",
        "Since our dataset is significantly unbalanced we decided to downsample majority class to be the same amount as our minority class."
      ],
      "metadata": {
        "id": "v4IykB7Ta6oV"
      }
    },
    {
      "cell_type": "code",
      "source": [
        "data = train_.loc[:,[\"Text\", \"oh_label\"]]\n",
        "data.columns = [\"text\", \"suspicious\"]\n",
        "data = preprocess(data)\n",
        "#data = data.sample(frac = 0.25, replace=False, random_state=42)\n",
        "train, validate, test = np.split(data.sample(frac=1, random_state=42), \n",
        "                        [int(.8*len(data)), int(.9*len(data))])\n",
        "train = downsample(train, 'suspicious')\n",
        "train_ds = (\n",
        "    tf.data.Dataset.from_tensor_slices(\n",
        "        (\n",
        "            tf.cast(train['clean'].values, tf.string),\n",
        "            tf.cast(train['suspicious'].values, tf.int64)\n",
        "        )\n",
        "    )\n",
        ")\n",
        "valid_ds = (\n",
        "    tf.data.Dataset.from_tensor_slices(\n",
        "        (\n",
        "            tf.cast(validate['clean'].values, tf.string),\n",
        "            tf.cast(validate['suspicious'].values, tf.int64)\n",
        "        )\n",
        "    )\n",
        ")\n",
        "test_ds = (\n",
        "    tf.data.Dataset.from_tensor_slices(\n",
        "        (\n",
        "            tf.cast(test['clean'].values, tf.string),\n",
        "            tf.cast(test['suspicious'].values, tf.int64)\n",
        "        )\n",
        "    )\n",
        ")"
      ],
      "metadata": {
        "id": "sJN63eIQUDsZ"
      },
      "execution_count": 48,
      "outputs": []
    },
    {
      "cell_type": "code",
      "source": [
        "len(train)"
      ],
      "metadata": {
        "colab": {
          "base_uri": "https://localhost:8080/"
        },
        "id": "RafZ3FOJ6QJ-",
        "outputId": "4da4cafb-64de-412c-cbe8-dcf0b1d8a60c"
      },
      "execution_count": 93,
      "outputs": [
        {
          "output_type": "execute_result",
          "data": {
            "text/plain": [
              "48150"
            ]
          },
          "metadata": {},
          "execution_count": 93
        }
      ]
    },
    {
      "cell_type": "code",
      "source": [
        "for text, sus in train_ds.take(1):\n",
        "  print('text: ', text.numpy())\n",
        "  print('label: ', sus.numpy())"
      ],
      "metadata": {
        "colab": {
          "base_uri": "https://localhost:8080/"
        },
        "id": "1GoX98PRai0o",
        "outputId": "3556b6e2-164f-4e69-b50f-6de1671f0ba0"
      },
      "execution_count": 49,
      "outputs": [
        {
          "output_type": "stream",
          "name": "stdout",
          "text": [
            "text:  b'effendi mehmet oglu aka john stevens posting controversial material per say copy pasting information exact wording web site search first line material google find exact thing several propaganda site'\n",
            "label:  0\n"
          ]
        }
      ]
    },
    {
      "cell_type": "markdown",
      "source": [
        "We split our dataset in to 3 seperate sets for training, validating and lastly testing. Chosen proporotions were 8:1:1 for those sets."
      ],
      "metadata": {
        "id": "3GB8bkif6DS9"
      }
    },
    {
      "cell_type": "code",
      "source": [
        "BUFFER_SIZE = 10000\n",
        "BATCH_SIZE = 128"
      ],
      "metadata": {
        "id": "f6wZGaIrWCKo"
      },
      "execution_count": 50,
      "outputs": []
    },
    {
      "cell_type": "code",
      "source": [
        "train_ds = train_ds.shuffle(BUFFER_SIZE).batch(BATCH_SIZE).prefetch(tf.data.AUTOTUNE)\n",
        "test_ds = test_ds.batch(BATCH_SIZE).prefetch(tf.data.AUTOTUNE)\n",
        "valid_ds = valid_ds.batch(BATCH_SIZE).prefetch(tf.data.AUTOTUNE)"
      ],
      "metadata": {
        "id": "8IOjScKOWnTt"
      },
      "execution_count": 51,
      "outputs": []
    },
    {
      "cell_type": "code",
      "source": [
        "train_ds.element_spec\n"
      ],
      "metadata": {
        "colab": {
          "base_uri": "https://localhost:8080/"
        },
        "id": "-rXUuk7xY-Sr",
        "outputId": "0cb48b78-634d-4609-98f3-3fa4e0613b25"
      },
      "execution_count": 52,
      "outputs": [
        {
          "output_type": "execute_result",
          "data": {
            "text/plain": [
              "(TensorSpec(shape=(None,), dtype=tf.string, name=None),\n",
              " TensorSpec(shape=(None,), dtype=tf.int64, name=None))"
            ]
          },
          "metadata": {},
          "execution_count": 52
        }
      ]
    },
    {
      "cell_type": "markdown",
      "source": [
        "##Prepare encoder"
      ],
      "metadata": {
        "id": "8sv60FPz6ijb"
      }
    },
    {
      "cell_type": "markdown",
      "source": [
        "We use build in vectorizer provided by Keras framework to process our raw text."
      ],
      "metadata": {
        "id": "IpIfW2nf6lUy"
      }
    },
    {
      "cell_type": "code",
      "source": [
        "VOCAB_SIZE = 1000\n",
        "encoder = tf.keras.layers.TextVectorization(\n",
        "    max_tokens=VOCAB_SIZE)\n",
        "encoder.adapt(train_ds.map(lambda text, label: text))"
      ],
      "metadata": {
        "id": "WGfcarVAVqmi"
      },
      "execution_count": 53,
      "outputs": []
    },
    {
      "cell_type": "code",
      "source": [
        "vocab = np.array(encoder.get_vocabulary())\n",
        "vocab[:20]"
      ],
      "metadata": {
        "colab": {
          "base_uri": "https://localhost:8080/"
        },
        "id": "MaD1yyrmgnc6",
        "outputId": "c06ab048-edbe-425e-b430-e608b28c5b95"
      },
      "execution_count": 54,
      "outputs": [
        {
          "output_type": "execute_result",
          "data": {
            "text/plain": [
              "array(['', '[UNK]', 'fuck', 'like', 'suck', 'nigger', 'would', 'shit',\n",
              "       'one', 'faggot', 'know', 'go', 'people', 'please', 'as', 'get',\n",
              "       'talk', 'fucking', 'think', 'time'], dtype='<U17')"
            ]
          },
          "metadata": {},
          "execution_count": 54
        }
      ]
    },
    {
      "cell_type": "code",
      "source": [
        "encoded_example = encoder(text).numpy()\n",
        "encoded_example"
      ],
      "metadata": {
        "colab": {
          "base_uri": "https://localhost:8080/"
        },
        "id": "BNJjNblWhCsM",
        "outputId": "f9af4312-630d-4df4-8ba3-6b1fa1658ee5"
      },
      "execution_count": 55,
      "outputs": [
        {
          "output_type": "execute_result",
          "data": {
            "text/plain": [
              "array([  1,   1,   1,   1, 442,   1, 852,   1, 321, 567,  34, 782,   1,\n",
              "        52,   1,   1, 628, 134, 707,  76, 348, 321, 676, 101,   1,  46,\n",
              "       370, 871, 134])"
            ]
          },
          "metadata": {},
          "execution_count": 55
        }
      ]
    },
    {
      "cell_type": "markdown",
      "source": [
        "##Model and training "
      ],
      "metadata": {
        "id": "TKqduYil67Qh"
      }
    },
    {
      "cell_type": "markdown",
      "source": [
        "Model we chose as solution to our problem is RNN model built using keras.Sequential. It consists of previously created encoder, embedding layer, bidirectional RNN layer and two dense layers with final one being our classification output. "
      ],
      "metadata": {
        "id": "EUdY3tyF6-Ey"
      }
    },
    {
      "cell_type": "code",
      "source": [
        "model = tf.keras.Sequential([\n",
        "    encoder,\n",
        "    tf.keras.layers.Embedding(\n",
        "        input_dim=len(encoder.get_vocabulary()),\n",
        "        output_dim=64,\n",
        "        mask_zero=False),\n",
        "    tf.keras.layers.Bidirectional(tf.keras.layers.LSTM(64)),\n",
        "    tf.keras.layers.Dense(64, activation='relu'),\n",
        "    tf.keras.layers.Dense(1)\n",
        "])"
      ],
      "metadata": {
        "id": "qTXNb0amhtmq"
      },
      "execution_count": 87,
      "outputs": []
    },
    {
      "cell_type": "markdown",
      "source": [
        "We compile the model with Binary Crossentropy as our chosen loss function. Our optimizer of choise is Adam with learning rate of 0.0001 and our metric is basic accuracy function provided by Keras."
      ],
      "metadata": {
        "id": "Ljs5oNiL8DoB"
      }
    },
    {
      "cell_type": "code",
      "source": [
        "model.compile(loss=tf.keras.losses.BinaryCrossentropy(from_logits=True),\n",
        "              optimizer=tf.keras.optimizers.Adam(1e-4),\n",
        "              metrics=['accuracy'])\n"
      ],
      "metadata": {
        "id": "XlpKHO_lh_kN"
      },
      "execution_count": 88,
      "outputs": []
    },
    {
      "cell_type": "code",
      "source": [
        "history = model.fit(train_ds, epochs=25,\n",
        "                    validation_data=valid_ds,\n",
        "                    validation_steps=10)\n"
      ],
      "metadata": {
        "colab": {
          "base_uri": "https://localhost:8080/"
        },
        "id": "6z9Cj7eOiA2t",
        "outputId": "c8dfc769-b0da-42a6-a775-a6f388dbb983"
      },
      "execution_count": 89,
      "outputs": [
        {
          "output_type": "stream",
          "name": "stdout",
          "text": [
            "Epoch 1/25\n",
            "377/377 [==============================] - 27s 63ms/step - loss: 0.5123 - accuracy: 0.7219 - val_loss: 2.1771 - val_accuracy: 0.1078\n",
            "Epoch 2/25\n",
            "377/377 [==============================] - 23s 61ms/step - loss: 0.6078 - accuracy: 0.6711 - val_loss: 1.8768 - val_accuracy: 0.1422\n",
            "Epoch 3/25\n",
            "377/377 [==============================] - 22s 59ms/step - loss: 0.4892 - accuracy: 0.7463 - val_loss: 1.5047 - val_accuracy: 0.2719\n",
            "Epoch 4/25\n",
            "377/377 [==============================] - 23s 61ms/step - loss: 0.3676 - accuracy: 0.8348 - val_loss: 1.3154 - val_accuracy: 0.4180\n",
            "Epoch 5/25\n",
            "377/377 [==============================] - 23s 61ms/step - loss: 0.2911 - accuracy: 0.8698 - val_loss: 1.1230 - val_accuracy: 0.5359\n",
            "Epoch 6/25\n",
            "377/377 [==============================] - 23s 61ms/step - loss: 0.2488 - accuracy: 0.8919 - val_loss: 1.0753 - val_accuracy: 0.5883\n",
            "Epoch 7/25\n",
            "377/377 [==============================] - 23s 60ms/step - loss: 0.2309 - accuracy: 0.8995 - val_loss: 1.0214 - val_accuracy: 0.6234\n",
            "Epoch 8/25\n",
            "377/377 [==============================] - 23s 60ms/step - loss: 0.2263 - accuracy: 0.9042 - val_loss: 1.0464 - val_accuracy: 0.6180\n",
            "Epoch 9/25\n",
            "377/377 [==============================] - 23s 60ms/step - loss: 0.2306 - accuracy: 0.9010 - val_loss: 1.0222 - val_accuracy: 0.6313\n",
            "Epoch 10/25\n",
            "377/377 [==============================] - 23s 61ms/step - loss: 0.2297 - accuracy: 0.9030 - val_loss: 0.9969 - val_accuracy: 0.6328\n",
            "Epoch 11/25\n",
            "377/377 [==============================] - 23s 61ms/step - loss: 0.2336 - accuracy: 0.9020 - val_loss: 1.0050 - val_accuracy: 0.6305\n",
            "Epoch 12/25\n",
            "377/377 [==============================] - 23s 61ms/step - loss: 0.2342 - accuracy: 0.9030 - val_loss: 0.9774 - val_accuracy: 0.6367\n",
            "Epoch 13/25\n",
            "377/377 [==============================] - 23s 61ms/step - loss: 0.2331 - accuracy: 0.9034 - val_loss: 1.0033 - val_accuracy: 0.6297\n",
            "Epoch 14/25\n",
            "377/377 [==============================] - 23s 61ms/step - loss: 0.2395 - accuracy: 0.8993 - val_loss: 0.9080 - val_accuracy: 0.6508\n",
            "Epoch 15/25\n",
            "377/377 [==============================] - 24s 63ms/step - loss: 0.2371 - accuracy: 0.9020 - val_loss: 0.9113 - val_accuracy: 0.6492\n",
            "Epoch 16/25\n",
            "377/377 [==============================] - 23s 60ms/step - loss: 0.2351 - accuracy: 0.9020 - val_loss: 0.9693 - val_accuracy: 0.6250\n",
            "Epoch 17/25\n",
            "377/377 [==============================] - 24s 63ms/step - loss: 0.2388 - accuracy: 0.8982 - val_loss: 0.8920 - val_accuracy: 0.6469\n",
            "Epoch 18/25\n",
            "377/377 [==============================] - 24s 62ms/step - loss: 0.2366 - accuracy: 0.9025 - val_loss: 0.9831 - val_accuracy: 0.5992\n",
            "Epoch 19/25\n",
            "377/377 [==============================] - 23s 61ms/step - loss: 0.2329 - accuracy: 0.9008 - val_loss: 0.8459 - val_accuracy: 0.6656\n",
            "Epoch 20/25\n",
            "377/377 [==============================] - 23s 61ms/step - loss: 0.2347 - accuracy: 0.9004 - val_loss: 0.8730 - val_accuracy: 0.6625\n",
            "Epoch 21/25\n",
            "377/377 [==============================] - 23s 61ms/step - loss: 0.2314 - accuracy: 0.9009 - val_loss: 0.8592 - val_accuracy: 0.6617\n",
            "Epoch 22/25\n",
            "377/377 [==============================] - 23s 62ms/step - loss: 0.2315 - accuracy: 0.9002 - val_loss: 0.8081 - val_accuracy: 0.6844\n",
            "Epoch 23/25\n",
            "377/377 [==============================] - 23s 60ms/step - loss: 0.2322 - accuracy: 0.9003 - val_loss: 0.8928 - val_accuracy: 0.6570\n",
            "Epoch 24/25\n",
            "377/377 [==============================] - 23s 61ms/step - loss: 0.2308 - accuracy: 0.8991 - val_loss: 0.8484 - val_accuracy: 0.6750\n",
            "Epoch 25/25\n",
            "377/377 [==============================] - 23s 62ms/step - loss: 0.2322 - accuracy: 0.9000 - val_loss: 0.8263 - val_accuracy: 0.6773\n"
          ]
        }
      ]
    },
    {
      "cell_type": "code",
      "source": [
        "test_loss, test_acc = model.evaluate(test_ds)\n",
        "\n",
        "print('Test Loss:', test_loss)\n",
        "print('Test Accuracy:', test_acc)\n"
      ],
      "metadata": {
        "colab": {
          "base_uri": "https://localhost:8080/"
        },
        "id": "gJjJEuudwxhR",
        "outputId": "817163af-ac09-43b0-dd6f-ed4e062a1588"
      },
      "execution_count": 91,
      "outputs": [
        {
          "output_type": "stream",
          "name": "stdout",
          "text": [
            "216/216 [==============================] - 4s 19ms/step - loss: 0.8037 - accuracy: 0.6972\n",
            "Test Loss: 0.8037212491035461\n",
            "Test Accuracy: 0.6971511244773865\n"
          ]
        }
      ]
    },
    {
      "cell_type": "code",
      "source": [
        "import matplotlib.pyplot as plt\n",
        "\n",
        "def plot_graphs(history, metric):\n",
        "  plt.plot(history.history[metric])\n",
        "  plt.plot(history.history['val_'+metric], '')\n",
        "  plt.xlabel(\"Epochs\")\n",
        "  plt.ylabel(metric)\n",
        "  plt.legend([metric, 'val_'+metric])\n"
      ],
      "metadata": {
        "id": "h6v8Eo-9xHoL"
      },
      "execution_count": 60,
      "outputs": []
    },
    {
      "cell_type": "code",
      "source": [
        "plt.figure(figsize=(16, 8))\n",
        "plt.subplot(1, 2, 1)\n",
        "plot_graphs(history, 'accuracy')\n",
        "plt.ylim(None, 1)\n",
        "plt.subplot(1, 2, 2)\n",
        "plot_graphs(history, 'loss')\n",
        "plt.ylim(0, None)\n"
      ],
      "metadata": {
        "colab": {
          "base_uri": "https://localhost:8080/",
          "height": 539
        },
        "id": "j1Un26hYw-5Q",
        "outputId": "1f6acf19-7962-47e0-8a31-e8f84dee00c4"
      },
      "execution_count": 61,
      "outputs": [
        {
          "output_type": "execute_result",
          "data": {
            "text/plain": [
              "(0.0, 2.2144447185099123)"
            ]
          },
          "metadata": {},
          "execution_count": 61
        },
        {
          "output_type": "display_data",
          "data": {
            "image/png": "[encoded data removed]",
            "text/plain": [
              "<Figure size 1152x576 with 2 Axes>"
            ]
          },
          "metadata": {
            "needs_background": "light"
          }
        }
      ]
    },
    {
      "cell_type": "code",
      "source": [
        "model.save('model_weights')"
      ],
      "metadata": {
        "id": "zhoShwZPY1YU",
        "outputId": "ce18582d-ea83-4081-ab2a-fdccf7a94a6c",
        "colab": {
          "base_uri": "https://localhost:8080/"
        }
      },
      "execution_count": 71,
      "outputs": [
        {
          "output_type": "stream",
          "name": "stderr",
          "text": [
            "WARNING:absl:Found untraced functions such as lstm_cell_7_layer_call_fn, lstm_cell_7_layer_call_and_return_conditional_losses, lstm_cell_8_layer_call_fn, lstm_cell_8_layer_call_and_return_conditional_losses, lstm_cell_7_layer_call_fn while saving (showing 5 of 10). These functions will not be directly callable after loading.\n"
          ]
        },
        {
          "output_type": "stream",
          "name": "stdout",
          "text": [
            "INFO:tensorflow:Assets written to: model_weights/assets\n"
          ]
        },
        {
          "output_type": "stream",
          "name": "stderr",
          "text": [
            "INFO:tensorflow:Assets written to: model_weights/assets\n",
            "WARNING:absl:<keras.layers.recurrent.LSTMCell object at 0x7f6a2ea8b810> has the same name 'LSTMCell' as a built-in Keras object. Consider renaming <class 'keras.layers.recurrent.LSTMCell'> to avoid naming conflicts when loading with `tf.keras.models.load_model`. If renaming is not possible, pass the object in the `custom_objects` parameter of the load function.\n",
            "WARNING:absl:<keras.layers.recurrent.LSTMCell object at 0x7f6b94c18050> has the same name 'LSTMCell' as a built-in Keras object. Consider renaming <class 'keras.layers.recurrent.LSTMCell'> to avoid naming conflicts when loading with `tf.keras.models.load_model`. If renaming is not possible, pass the object in the `custom_objects` parameter of the load function.\n"
          ]
        }
      ]
    },
    {
      "cell_type": "code",
      "source": [
        "from tensorflow import keras\n",
        "model_loaded = keras.models.load_model('model_weights', compile=False)"
      ],
      "metadata": {
        "id": "gNVln3APjh__"
      },
      "execution_count": 72,
      "outputs": []
    },
    {
      "cell_type": "code",
      "source": [
        "sample_text = (\"last day was a fucking nightmare\")\n",
        "predictions = model.predict(np.array([sample_text]))\n",
        "print(predictions)"
      ],
      "metadata": {
        "id": "HYhus9lmxWZe",
        "colab": {
          "base_uri": "https://localhost:8080/"
        },
        "outputId": "d458f8cb-13a3-49da-87b6-c70363d35645"
      },
      "execution_count": 67,
      "outputs": [
        {
          "output_type": "stream",
          "name": "stdout",
          "text": [
            "[[7.1477656]]\n"
          ]
        }
      ]
    },
    {
      "cell_type": "code",
      "source": [
        "y_predictions = model.predict(test_ds)\n",
        "y_predictions[:10]"
      ],
      "metadata": {
        "colab": {
          "base_uri": "https://localhost:8080/"
        },
        "id": "uH1FqcLiqdP8",
        "outputId": "be8d395d-edf3-4273-dd52-302d9b21287c"
      },
      "execution_count": 77,
      "outputs": [
        {
          "output_type": "execute_result",
          "data": {
            "text/plain": [
              "array([[-3.3562288 ],\n",
              "       [-2.7909951 ],\n",
              "       [ 0.20417944],\n",
              "       [-2.7149649 ],\n",
              "       [ 0.15086204],\n",
              "       [-0.6993477 ],\n",
              "       [-2.000164  ],\n",
              "       [-1.115947  ],\n",
              "       [ 2.9214132 ],\n",
              "       [-1.7211962 ]], dtype=float32)"
            ]
          },
          "metadata": {},
          "execution_count": 77
        }
      ]
    },
    {
      "cell_type": "code",
      "source": [
        "y_predictions_df = pd.DataFrame(y_predictions)\n",
        "y_predictions_df.columns = [\"score\"]\n",
        "y_predictions_df[\"pred_label\"] = y_predictions_df[\"score\"]\n",
        "y_predictions_df.loc[y_predictions_df[\"score\"]>=0, \"pred_label\"] = 1\n",
        "y_predictions_df.loc[y_predictions_df[\"score\"]<0, \"pred_label\"] = 0\n",
        "y_predictions_df[\"real_label\"] = test[\"suspicious\"].reset_index()[\"suspicious\"]\n",
        "y_predictions_df"
      ],
      "metadata": {
        "colab": {
          "base_uri": "https://localhost:8080/",
          "height": 423
        },
        "id": "iqZhOLJ8zlw7",
        "outputId": "5c4a8fec-6620-4288-a14b-11b0a30da563"
      },
      "execution_count": 84,
      "outputs": [
        {
          "output_type": "execute_result",
          "data": {
            "text/html": [
              "\n",
              "  <div id=\"df-19ec5612-4696-47c4-805d-597a57d9e691\">\n",
              "    <div class=\"colab-df-container\">\n",
              "      <div>\n",
              "<style scoped>\n",
              "    .dataframe tbody tr th:only-of-type {\n",
              "        vertical-align: middle;\n",
              "    }\n",
              "\n",
              "    .dataframe tbody tr th {\n",
              "        vertical-align: top;\n",
              "    }\n",
              "\n",
              "    .dataframe thead th {\n",
              "        text-align: right;\n",
              "    }\n",
              "</style>\n",
              "<table border=\"1\" class=\"dataframe\">\n",
              "  <thead>\n",
              "    <tr style=\"text-align: right;\">\n",
              "      <th></th>\n",
              "      <th>score</th>\n",
              "      <th>pred_label</th>\n",
              "      <th>real_label</th>\n",
              "    </tr>\n",
              "  </thead>\n",
              "  <tbody>\n",
              "    <tr>\n",
              "      <th>0</th>\n",
              "      <td>-3.356229</td>\n",
              "      <td>0.0</td>\n",
              "      <td>0</td>\n",
              "    </tr>\n",
              "    <tr>\n",
              "      <th>1</th>\n",
              "      <td>-2.790995</td>\n",
              "      <td>0.0</td>\n",
              "      <td>0</td>\n",
              "    </tr>\n",
              "    <tr>\n",
              "      <th>2</th>\n",
              "      <td>0.204179</td>\n",
              "      <td>1.0</td>\n",
              "      <td>0</td>\n",
              "    </tr>\n",
              "    <tr>\n",
              "      <th>3</th>\n",
              "      <td>-2.714965</td>\n",
              "      <td>0.0</td>\n",
              "      <td>0</td>\n",
              "    </tr>\n",
              "    <tr>\n",
              "      <th>4</th>\n",
              "      <td>0.150862</td>\n",
              "      <td>1.0</td>\n",
              "      <td>0</td>\n",
              "    </tr>\n",
              "    <tr>\n",
              "      <th>...</th>\n",
              "      <td>...</td>\n",
              "      <td>...</td>\n",
              "      <td>...</td>\n",
              "    </tr>\n",
              "    <tr>\n",
              "      <th>27550</th>\n",
              "      <td>1.225941</td>\n",
              "      <td>1.0</td>\n",
              "      <td>0</td>\n",
              "    </tr>\n",
              "    <tr>\n",
              "      <th>27551</th>\n",
              "      <td>0.278514</td>\n",
              "      <td>1.0</td>\n",
              "      <td>0</td>\n",
              "    </tr>\n",
              "    <tr>\n",
              "      <th>27552</th>\n",
              "      <td>0.163136</td>\n",
              "      <td>1.0</td>\n",
              "      <td>0</td>\n",
              "    </tr>\n",
              "    <tr>\n",
              "      <th>27553</th>\n",
              "      <td>-2.745737</td>\n",
              "      <td>0.0</td>\n",
              "      <td>0</td>\n",
              "    </tr>\n",
              "    <tr>\n",
              "      <th>27554</th>\n",
              "      <td>1.187087</td>\n",
              "      <td>1.0</td>\n",
              "      <td>1</td>\n",
              "    </tr>\n",
              "  </tbody>\n",
              "</table>\n",
              "<p>27555 rows × 3 columns</p>\n",
              "</div>\n",
              "      <button class=\"colab-df-convert\" onclick=\"convertToInteractive('df-19ec5612-4696-47c4-805d-597a57d9e691')\"\n",
              "              title=\"Convert this dataframe to an interactive table.\"\n",
              "              style=\"display:none;\">\n",
              "        \n",
              "  <svg xmlns=\"http://www.w3.org/2000/svg\" height=\"24px\"viewBox=\"0 0 24 24\"\n",
              "       width=\"24px\">\n",
              "    <path d=\"M0 0h24v24H0V0z\" fill=\"none\"/>\n",
              "    <path d=\"M18.56 5.44l.94 2.06.94-2.06 2.06-.94-2.06-.94-.94-2.06-.94 2.06-2.06.94zm-11 1L8.5 8.5l.94-2.06 2.06-.94-2.06-.94L8.5 2.5l-.94 2.06-2.06.94zm10 10l.94 2.06.94-2.06 2.06-.94-2.06-.94-.94-2.06-.94 2.06-2.06.94z\"/><path d=\"M17.41 7.96l-1.37-1.37c-.4-.4-.92-.59-1.43-.59-.52 0-1.04.2-1.43.59L10.3 9.45l-7.72 7.72c-.78.78-.78 2.05 0 2.83L4 21.41c.39.39.9.59 1.41.59.51 0 1.02-.2 1.41-.59l7.78-7.78 2.81-2.81c.8-.78.8-2.07 0-2.86zM5.41 20L4 18.59l7.72-7.72 1.47 1.35L5.41 20z\"/>\n",
              "  </svg>\n",
              "      </button>\n",
              "      \n",
              "  <style>\n",
              "    .colab-df-container {\n",
              "      display:flex;\n",
              "      flex-wrap:wrap;\n",
              "      gap: 12px;\n",
              "    }\n",
              "\n",
              "    .colab-df-convert {\n",
              "      background-color: #E8F0FE;\n",
              "      border: none;\n",
              "      border-radius: 50%;\n",
              "      cursor: pointer;\n",
              "      display: none;\n",
              "      fill: #1967D2;\n",
              "      height: 32px;\n",
              "      padding: 0 0 0 0;\n",
              "      width: 32px;\n",
              "    }\n",
              "\n",
              "    .colab-df-convert:hover {\n",
              "      background-color: #E2EBFA;\n",
              "      box-shadow: 0px 1px 2px rgba(60, 64, 67, 0.3), 0px 1px 3px 1px rgba(60, 64, 67, 0.15);\n",
              "      fill: #174EA6;\n",
              "    }\n",
              "\n",
              "    [theme=dark] .colab-df-convert {\n",
              "      background-color: #3B4455;\n",
              "      fill: #D2E3FC;\n",
              "    }\n",
              "\n",
              "    [theme=dark] .colab-df-convert:hover {\n",
              "      background-color: #434B5C;\n",
              "      box-shadow: 0px 1px 3px 1px rgba(0, 0, 0, 0.15);\n",
              "      filter: drop-shadow(0px 1px 2px rgba(0, 0, 0, 0.3));\n",
              "      fill: #FFFFFF;\n",
              "    }\n",
              "  </style>\n",
              "\n",
              "      <script>\n",
              "        const buttonEl =\n",
              "          document.querySelector('#df-19ec5612-4696-47c4-805d-597a57d9e691 button.colab-df-convert');\n",
              "        buttonEl.style.display =\n",
              "          google.colab.kernel.accessAllowed ? 'block' : 'none';\n",
              "\n",
              "        async function convertToInteractive(key) {\n",
              "          const element = document.querySelector('#df-19ec5612-4696-47c4-805d-597a57d9e691');\n",
              "          const dataTable =\n",
              "            await google.colab.kernel.invokeFunction('convertToInteractive',\n",
              "                                                     [key], {});\n",
              "          if (!dataTable) return;\n",
              "\n",
              "          const docLinkHtml = 'Like what you see? Visit the ' +\n",
              "            '<a target=\"_blank\" href=https://colab.research.google.com/notebooks/data_table.ipynb>data table notebook</a>'\n",
              "            + ' to learn more about interactive tables.';\n",
              "          element.innerHTML = '';\n",
              "          dataTable['output_type'] = 'display_data';\n",
              "          await google.colab.output.renderOutput(dataTable, element);\n",
              "          const docLink = document.createElement('div');\n",
              "          docLink.innerHTML = docLinkHtml;\n",
              "          element.appendChild(docLink);\n",
              "        }\n",
              "      </script>\n",
              "    </div>\n",
              "  </div>\n",
              "  "
            ],
            "text/plain": [
              "          score  pred_label  real_label\n",
              "0     -3.356229         0.0           0\n",
              "1     -2.790995         0.0           0\n",
              "2      0.204179         1.0           0\n",
              "3     -2.714965         0.0           0\n",
              "4      0.150862         1.0           0\n",
              "...         ...         ...         ...\n",
              "27550  1.225941         1.0           0\n",
              "27551  0.278514         1.0           0\n",
              "27552  0.163136         1.0           0\n",
              "27553 -2.745737         0.0           0\n",
              "27554  1.187087         1.0           1\n",
              "\n",
              "[27555 rows x 3 columns]"
            ]
          },
          "metadata": {},
          "execution_count": 84
        }
      ]
    },
    {
      "cell_type": "code",
      "source": [
        "# evaluation dictionary\n",
        "from sklearn.metrics import classification_report\n",
        "classification_report(y_predictions_df[\"real_label\"], y_predictions_df[\"pred_label\"], output_dict = True)"
      ],
      "metadata": {
        "colab": {
          "base_uri": "https://localhost:8080/"
        },
        "id": "QB4r2Ksu2Imc",
        "outputId": "30cd1e09-073f-4240-e918-a9a3b62aafa9"
      },
      "execution_count": 85,
      "outputs": [
        {
          "output_type": "execute_result",
          "data": {
            "text/plain": [
              "{'0': {'f1-score': 0.7306117192530587,\n",
              "  'precision': 0.9945305378304466,\n",
              "  'recall': 0.5773896759485426,\n",
              "  'support': 24564},\n",
              " '1': {'f1-score': 0.3577525330058336,\n",
              "  'precision': 0.21912140815405445,\n",
              "  'recall': 0.9739217652958877,\n",
              "  'support': 2991},\n",
              " 'accuracy': 0.620431863545636,\n",
              " 'macro avg': {'f1-score': 0.5441821261294462,\n",
              "  'precision': 0.6068259729922505,\n",
              "  'recall': 0.7756557206222152,\n",
              "  'support': 27555},\n",
              " 'weighted avg': {'f1-score': 0.6901391434568165,\n",
              "  'precision': 0.9103625571785835,\n",
              "  'recall': 0.620431863545636,\n",
              "  'support': 27555}}"
            ]
          },
          "metadata": {},
          "execution_count": 85
        }
      ]
    },
    {
      "cell_type": "markdown",
      "source": [
        "## Summary"
      ],
      "metadata": {
        "id": "FN3ZvqaQiPd5"
      }
    },
    {
      "cell_type": "markdown",
      "source": [
        "Our trained model unfortunetly misses the mark. Change in training accuracy is quite promising while fluctuating validation loss and accuracy may point to overfitting. Our model correctly predicts obvious examples of abuse while struggling with more nuanced cases. We believe that best solution for immediate improvements of obtained results would be to acquire more data representive of the day to day conversations in the companies. We tried :')\n"
      ],
      "metadata": {
        "id": "XyPimPHh8ooU"
      }
    },
    {
      "cell_type": "markdown",
      "metadata": {
        "id": "r_me20B2WJnd"
      },
      "source": [
        "# That's it :)\n",
        "\n",
        "This would probably wrap up our analysis for now we guess.\n",
        "\n",
        "We wanted to do some more cool stuff with the data but we think that this document is getting too long anyways.\n",
        "\n",
        "Have a nice day :))"
      ]
    }
  ]
}